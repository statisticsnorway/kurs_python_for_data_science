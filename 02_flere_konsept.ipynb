{
 "cells": [
  {
   "cell_type": "markdown",
   "metadata": {},
   "source": [
    "# Flere viktige konsept\n",
    "\n",
    "I tillegg til grunnleggende programmering er det en del andre teknikker/konsept som ofte brukes i Python. List comprehensions kan utvides til nøstede lister, og har en tilsvarende *dictionary comprehension*. Funksjoner kan være rekursive (dvs de kan kalle seg selv), og Python er objektorientert, noe som betyr at vi kan lage egne *klasser*, altså helt egne typer variabler."
   ]
  },
  {
   "cell_type": "markdown",
   "metadata": {},
   "source": [
    "##  List comprehensions for viderekomne\n",
    "\n",
    "Tenk deg at du har en nøstet liste (en liste av lister), som du vil flate ut til én liste. Samtidig vil du filtrere basert på et sett betingelser, sånn at ikke alle elementene havner i den endelige listen. Dette kan du få til enten ved hjelp av et sett for-løkker, eller på én linje ved hjelp av en list comprehension."
   ]
  },
  {
   "cell_type": "code",
   "execution_count": 1,
   "metadata": {},
   "outputs": [
    {
     "data": {
      "text/plain": [
       "[1, 2, 3, 4, 5, 6, 7, 8, 9, 10]"
      ]
     },
     "execution_count": 1,
     "metadata": {},
     "output_type": "execute_result"
    }
   ],
   "source": [
    "# Looping\n",
    "\n",
    "nested_list = [[1, 2, 3], [4, 5, 6], [7, 8, 9, 10]]\n",
    "\n",
    "flattened_list = []\n",
    "\n",
    "for sublist in nested_list:\n",
    "    for element in sublist:\n",
    "        flattened_list.append(element)\n",
    "        \n",
    "flattened_list"
   ]
  },
  {
   "cell_type": "code",
   "execution_count": 2,
   "metadata": {},
   "outputs": [
    {
     "data": {
      "text/plain": [
       "[1, 2, 3, 4, 5, 6, 7, 8, 9, 10]"
      ]
     },
     "execution_count": 2,
     "metadata": {},
     "output_type": "execute_result"
    }
   ],
   "source": [
    "# Dobbel list-comprehension\n",
    "nested_list = [[1, 2, 3], [4, 5, 6], [7, 8, 9, 10]]\n",
    "\n",
    "flattened_list = [ element for sublist in nested_list for element in sublist]\n",
    "\n",
    "flattened_list"
   ]
  },
  {
   "cell_type": "markdown",
   "metadata": {},
   "source": [
    "Vi kan også filtrere verdiene, f.eks. hvis vi kun ønsker verdier større enn 3, og kun hvis listen har en lengde på mindre enn 4."
   ]
  },
  {
   "cell_type": "code",
   "execution_count": 3,
   "metadata": {},
   "outputs": [
    {
     "data": {
      "text/plain": [
       "[4, 5, 6]"
      ]
     },
     "execution_count": 3,
     "metadata": {},
     "output_type": "execute_result"
    }
   ],
   "source": [
    "nested_list = [[1, 2, 3], [4, 5, 6], [7, 8, 9, 10]]\n",
    "\n",
    "flattened_list = []\n",
    "\n",
    "for sublist in nested_list:\n",
    "    if len(sublist)<4:\n",
    "        for element in sublist:\n",
    "            if element>3:\n",
    "                flattened_list.append(element)\n",
    "\n",
    "flattened_list"
   ]
  },
  {
   "cell_type": "code",
   "execution_count": 4,
   "metadata": {},
   "outputs": [
    {
     "data": {
      "text/plain": [
       "[4, 5, 6]"
      ]
     },
     "execution_count": 4,
     "metadata": {},
     "output_type": "execute_result"
    }
   ],
   "source": [
    "nested_list = [[1, 2, 3], [4, 5, 6], [7, 8, 9, 10]]\n",
    "\n",
    "flattened_list = [ element for sublist in nested_list if len(sublist)<4 for element in sublist if element>3]\n",
    "\n",
    "flattened_list"
   ]
  },
  {
   "cell_type": "markdown",
   "metadata": {},
   "source": [
    "## Dictionary comprehensions\n",
    "\n",
    "Lignende til list comprehensions kan du generere en dictonary fra en eller to lister, ved hjelp av comprehensions."
   ]
  },
  {
   "cell_type": "code",
   "execution_count": 5,
   "metadata": {},
   "outputs": [
    {
     "data": {
      "text/plain": [
       "{'1': 1, '2': 4, '3': 9, '4': 16, '5': 25}"
      ]
     },
     "execution_count": 5,
     "metadata": {},
     "output_type": "execute_result"
    }
   ],
   "source": [
    "liste = [1, 2, 3, 4, 5]\n",
    "\n",
    "dictionary = {str(i): i**2 for i in liste}\n",
    "\n",
    "dictionary"
   ]
  },
  {
   "cell_type": "markdown",
   "metadata": {},
   "source": [
    "Dette er kanskje alltid like nyttig, men i kombinasjon med at du har flere lister, blir dette plutselig veldig nyttig. Du kan bruke `zip` funksjonen til å slå sammen to lister til noe som ligner på en `tuple` - som igjen ligner på en liste."
   ]
  },
  {
   "cell_type": "code",
   "execution_count": 6,
   "metadata": {},
   "outputs": [
    {
     "data": {
      "text/plain": [
       "{'A': 1, 'B': 2, 'C': 3}"
      ]
     },
     "execution_count": 6,
     "metadata": {},
     "output_type": "execute_result"
    }
   ],
   "source": [
    "tekstliste = ['A', 'B', 'C']\n",
    "tall = [1, 2, 3]\n",
    "\n",
    "dictionary = {k: v for k, v in zip(tekstliste, tall)}\n",
    "\n",
    "dictionary"
   ]
  },
  {
   "cell_type": "code",
   "execution_count": 7,
   "metadata": {},
   "outputs": [
    {
     "data": {
      "text/plain": [
       "['__add__',\n",
       " '__class__',\n",
       " '__contains__',\n",
       " '__delattr__',\n",
       " '__dir__',\n",
       " '__doc__',\n",
       " '__eq__',\n",
       " '__format__',\n",
       " '__ge__',\n",
       " '__getattribute__',\n",
       " '__getitem__',\n",
       " '__getnewargs__',\n",
       " '__gt__',\n",
       " '__hash__',\n",
       " '__init__',\n",
       " '__init_subclass__',\n",
       " '__iter__',\n",
       " '__le__',\n",
       " '__len__',\n",
       " '__lt__',\n",
       " '__mul__',\n",
       " '__ne__',\n",
       " '__new__',\n",
       " '__reduce__',\n",
       " '__reduce_ex__',\n",
       " '__repr__',\n",
       " '__rmul__',\n",
       " '__setattr__',\n",
       " '__sizeof__',\n",
       " '__str__',\n",
       " '__subclasshook__',\n",
       " 'count',\n",
       " 'index']"
      ]
     },
     "execution_count": 7,
     "metadata": {},
     "output_type": "execute_result"
    }
   ],
   "source": [
    "z = zip(tekstliste, tall)\n",
    "dir((1, 2))"
   ]
  },
  {
   "cell_type": "markdown",
   "metadata": {},
   "source": [
    "## Rekursive funksjoner\n",
    "\n",
    "Rekursive funksjoner blir (heldigvis) lite brukt, men de dukker opp fra tid til annen. Rekursive funksjoner er funksjoner som kaller seg selv. For at dette ikke bare skal bli en uendelig rekke, er det viktig at funksjonen har en exit-betingelse: et if-else statement som kan slå til og *ikke* kalle seg selv, dermed slutte loopen.\n",
    "\n",
    "Det vanligste eksempelet på en rekursiv funksjon, er en funksjon som returnerer fibonacci-tall nummer X, hvor X er input til funksjonen. Disse funksjonene er **veldig** tunge å kjøre, så ikke gjør det for større tall enn... 30."
   ]
  },
  {
   "cell_type": "code",
   "execution_count": 8,
   "metadata": {},
   "outputs": [
    {
     "data": {
      "text/plain": [
       "8"
      ]
     },
     "execution_count": 8,
     "metadata": {},
     "output_type": "execute_result"
    }
   ],
   "source": [
    "def fibonacci(number):\n",
    "    if number == 0: return 0\n",
    "    elif number == 1:\n",
    "        return 1\n",
    "    else:\n",
    "        return fibonacci(number-1) + fibonacci(number-2)\n",
    "    \n",
    "fibonacci(6)"
   ]
  },
  {
   "cell_type": "markdown",
   "metadata": {},
   "source": [
    "Det viktige å legge merke til her er hvordan funksjonen alltid kalles med et lavere argument enn inputen, og når inputen er 1 eller 0 kaller ikke funksjonen seg selv igjen. Dette fører til at funksjonen alltid vil avslutte uansett hvor høy inputen er. Men i praksis vil maskinen kapitulere ganske tidlig, fordi ett funksjonskall vil generere $2X!$ funksjonskall.\n",
    "\n",
    "Bare for å visualisere hvordan dette utvikler seg med høyere input verdi, opp til 30:"
   ]
  },
  {
   "cell_type": "code",
   "execution_count": 9,
   "metadata": {},
   "outputs": [
    {
     "data": {
      "text/plain": [
       "[<matplotlib.lines.Line2D at 0x7fd6a97615f8>]"
      ]
     },
     "execution_count": 9,
     "metadata": {},
     "output_type": "execute_result"
    },
    {
     "data": {
      "image/png": "[encoded data removed]",
      "text/plain": [
       "<Figure size 1440x720 with 1 Axes>"
      ]
     },
     "metadata": {
      "needs_background": "light"
     },
     "output_type": "display_data"
    }
   ],
   "source": [
    "%matplotlib inline\n",
    "import matplotlib.pyplot as plt\n",
    "import math\n",
    "\n",
    "antall_kall = [math.factorial(x) for x in range(1, 30)]\n",
    "\n",
    "plt.figure(figsize=(20, 10))\n",
    "plt.ticklabel_format(style='plain')\n",
    "plt.plot(range(1, 30), antall_kall)\n"
   ]
  },
  {
   "cell_type": "code",
   "execution_count": 10,
   "metadata": {},
   "outputs": [
    {
     "data": {
      "text/plain": [
       "265252859812191058636308480000000"
      ]
     },
     "execution_count": 10,
     "metadata": {},
     "output_type": "execute_result"
    }
   ],
   "source": [
    "math.factorial(30)"
   ]
  },
  {
   "cell_type": "markdown",
   "metadata": {},
   "source": [
    "## Objektorientering\n",
    "\n",
    "Som nevnt er python såkalt objektorientert, og vi har allerede forholdt oss til mange typer objekt - dictionaries, lister, `plt` i koden over og mye mer. Objekt er typisk kjennetegnet ved at vi kaller såkalte *metoder* på de, som i `math.factorial` over er `math` et objekt og `factorial` en metode. Metoder kan som regel betraktes som funksjoner, skillet mellom å kalle noe for en funksjon og noe annet for en metode er primært bare visuelt.\n",
    "\n",
    "Vi kan selv lage slike objekter ved å definere egne *klasser* som vi kan initialisere til objekt.\n",
    "\n",
    "Her er det to nye konsepter som det er viktig at vi holder fra hverandre:\n",
    "\n",
    "1. En *klasse* er en type objekt, for eksempel en dictionary.\n",
    "2. Et objekt er en *instans*, altså et helt konkret objekt (variabel), f.eks. `{\"A\": 1, \"B\": 2}`\n",
    "\n",
    "En klasse defineres på lignende måte til hvordan funksjoner defineres:"
   ]
  },
  {
   "cell_type": "code",
   "execution_count": 11,
   "metadata": {},
   "outputs": [],
   "source": [
    "class MyClass():\n",
    "    a = \"Hello\"\n",
    "    \n",
    "    def sayHello(self):\n",
    "        print(self.a)\n",
    "    "
   ]
  },
  {
   "cell_type": "code",
   "execution_count": 12,
   "metadata": {},
   "outputs": [],
   "source": [
    "hello_object = MyClass()"
   ]
  },
  {
   "cell_type": "code",
   "execution_count": 13,
   "metadata": {},
   "outputs": [
    {
     "name": "stdout",
     "output_type": "stream",
     "text": [
      "Hello\n"
     ]
    }
   ],
   "source": [
    "hello_object.sayHello()"
   ]
  },
  {
   "cell_type": "markdown",
   "metadata": {},
   "source": [
    "Her skjer det en del nytt. Vi kjenner igjen variabeltilordningen og funksjonsdefinisjonen, men `self` kommer ut fra intet. `self` er egentlig en referanse til det instansierte objektet, altså `hello_object`, og må være første argumentet til alle metoder. Kanskje er det mer forklarende at `hello_object.say_hello()` egentlig blir evaluert som `MyClass.sayHello(hello_object)`. Variabelen `a` hører til objektet, og må derfor refereres til som `self.a` - ellers ville python lett etter en global variabel `a`, og gitt feilmelding hvis den ikke eksisterte."
   ]
  },
  {
   "cell_type": "markdown",
   "metadata": {},
   "source": [
    "Klasser kan også arve fra andre klasser, ved å oppgi dette når du lager de. For enkelhets skyld kan vi bygge på klassen vi allerede har laget, og lage en ny klasse med en ekstra metode."
   ]
  },
  {
   "cell_type": "code",
   "execution_count": 14,
   "metadata": {},
   "outputs": [],
   "source": [
    "\n",
    "class extraClass(MyClass):\n",
    "    b = \"goodbye\"\n",
    "    def sayGoodbye(self):\n",
    "        print(self.b)"
   ]
  },
  {
   "cell_type": "code",
   "execution_count": 15,
   "metadata": {},
   "outputs": [],
   "source": [
    "g = extraClass()"
   ]
  },
  {
   "cell_type": "code",
   "execution_count": 16,
   "metadata": {},
   "outputs": [
    {
     "name": "stdout",
     "output_type": "stream",
     "text": [
      "Hello\n"
     ]
    }
   ],
   "source": [
    "g.sayHello()"
   ]
  },
  {
   "cell_type": "code",
   "execution_count": 17,
   "metadata": {},
   "outputs": [
    {
     "name": "stdout",
     "output_type": "stream",
     "text": [
      "goodbye\n"
     ]
    }
   ],
   "source": [
    "g.sayGoodbye()"
   ]
  },
  {
   "cell_type": "markdown",
   "metadata": {},
   "source": [
    "## Prøv selv\n",
    "\n",
    "Å lage klasser er ikke noe vi gjør så mye i dataanalyse, men det kan lønne seg å ha prøvd litt. Det enkleste dekkende eksempelet er å lage en bankkonto-klasse, som initialiseres med en saldo lik 0, og som har tre metoder: `deposit`, `withdraw` og `balance`. Uttakk og innskudd endrer saldoen, og balance-metoden returnerer saldoen."
   ]
  },
  {
   "cell_type": "code",
   "execution_count": null,
   "metadata": {},
   "outputs": [],
   "source": []
  }
 ],
 "metadata": {
  "kernelspec": {
   "display_name": "Python 3",
   "language": "python",
   "name": "python3"
  },
  "language_info": {
   "codemirror_mode": {
    "name": "ipython",
    "version": 3
   },
   "file_extension": ".py",
   "mimetype": "text/x-python",
   "name": "python",
   "nbconvert_exporter": "python",
   "pygments_lexer": "ipython3",
   "version": "3.6.8"
  },
  "toc": {
   "base_numbering": 1,
   "nav_menu": {},
   "number_sections": true,
   "sideBar": true,
   "skip_h1_title": false,
   "title_cell": "Table of Contents",
   "title_sidebar": "Contents",
   "toc_cell": false,
   "toc_position": {},
   "toc_section_display": true,
   "toc_window_display": false
  },
  "varInspector": {
   "cols": {
    "lenName": 16,
    "lenType": 16,
    "lenVar": 40
   },
   "kernels_config": {
    "python": {
     "delete_cmd_postfix": "",
     "delete_cmd_prefix": "del ",
     "library": "var_list.py",
     "varRefreshCmd": "print(var_dic_list())"
    },
    "r": {
     "delete_cmd_postfix": ") ",
     "delete_cmd_prefix": "rm(",
     "library": "var_list.r",
     "varRefreshCmd": "cat(var_dic_list()) "
    }
   },
   "types_to_exclude": [
    "module",
    "function",
    "builtin_function_or_method",
    "instance",
    "_Feature"
   ],
   "window_display": false
  }
 },
 "nbformat": 4,
 "nbformat_minor": 2
}
