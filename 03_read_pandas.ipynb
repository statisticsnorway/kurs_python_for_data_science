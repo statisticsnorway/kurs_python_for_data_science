{
 "cells": [
  {
   "cell_type": "markdown",
   "metadata": {},
   "source": [
    "# Verden er mer enn SAS og CSV\n",
    "\n",
    "Til daglig leser vi mest SAS-datasett, litt CSV og litt relasjonelle databaser. Det finnes dog så veldig mye mer, og Pandas har mulighet til å lese veldig mye mer enn hva SAS klarer.\n",
    "\n",
    "Pandas kommer ikke med noe eget filformat, men det finnes et mylder av ulike filer og databaser som er åpent tilgjengelig, og som kan brukes både av Pandas, R, og flere andre språk.\n",
    "\n",
    "Her går vi gjennom en del av de vanligste opsjonene til å lese CSV, og en del av de ulike andre datakildene vi kan lese med Pandas.\n"
   ]
  },
  {
   "cell_type": "markdown",
   "metadata": {},
   "source": [
    "## CSV-opsjoner\n",
    "\n",
    "Typiske opsjoner vi trenger når vi leser CSV er:\n",
    "- spesifisere skilletegn: `sep` argumentet\n",
    "- spesifisere header: `header=False` (default True, men False når names er angitt)\n",
    "- hoppe over X antall rader: `skiprows` (default 0)\n",
    "- angi variabelnavn: `names` (leser default fra første rad når `header=True`)\n",
    "- angi kolonnetyper: `dtype` (default `None`, forsøker å gjette, men kan angi i form av en `dict`)\n",
    "\n",
    "Den fulle listen av opsjoner finnes på https://pandas.pydata.org/pandas-docs/stable/reference/api/pandas.read_csv.html"
   ]
  },
  {
   "cell_type": "code",
   "execution_count": 1,
   "metadata": {},
   "outputs": [],
   "source": [
    "import pandas as pd\n",
    "import numpy as np"
   ]
  },
  {
   "cell_type": "code",
   "execution_count": 2,
   "metadata": {},
   "outputs": [],
   "source": [
    "varnames = [\"NAME\", \"DEPARTMENT_NAME\", \"TITLE\", \"REGULAR\", \"RETRO\", \"OTHER\", \"OVERTIME\", \"INJURED\", \"DETAIL\", \"QUINN\", \"TOTAL\", \"POSTAL\"]\n",
    "dtypes = ['str', 'str', 'str', 'float', 'float', 'float', 'float', 'float', 'float', 'float', 'float', 'str']"
   ]
  },
  {
   "cell_type": "markdown",
   "metadata": {},
   "source": [
    "Vi kunne i prinsippet laget en dictionary med variabelnavn og typer som vi kunne brukt som argument til `dtype`, men med trøblete filer kan det være mer praktisk å parse tall etterpå."
   ]
  },
  {
   "cell_type": "code",
   "execution_count": 3,
   "metadata": {},
   "outputs": [],
   "source": [
    "dtype_obj = {vname: dt for vname, dt in zip(varnames, dtypes)}"
   ]
  },
  {
   "cell_type": "code",
   "execution_count": 4,
   "metadata": {},
   "outputs": [
    {
     "data": {
      "text/plain": [
       "{'NAME': 'str',\n",
       " 'DEPARTMENT_NAME': 'str',\n",
       " 'TITLE': 'str',\n",
       " 'REGULAR': 'float',\n",
       " 'RETRO': 'float',\n",
       " 'OTHER': 'float',\n",
       " 'OVERTIME': 'float',\n",
       " 'INJURED': 'float',\n",
       " 'DETAIL': 'float',\n",
       " 'QUINN': 'float',\n",
       " 'TOTAL': 'float',\n",
       " 'POSTAL': 'str'}"
      ]
     },
     "execution_count": 4,
     "metadata": {},
     "output_type": "execute_result"
    }
   ],
   "source": [
    "dtype_obj"
   ]
  },
  {
   "cell_type": "code",
   "execution_count": 5,
   "metadata": {},
   "outputs": [],
   "source": [
    "floats = [v for v, t in zip(varnames, dtypes) if t=='float']"
   ]
  },
  {
   "cell_type": "code",
   "execution_count": 6,
   "metadata": {},
   "outputs": [],
   "source": [
    "pay = pd.read_csv('/data/kurs/python/payroll/employeeearningscy18full.csv', \n",
    "                  encoding='latin1', dtype='str', names=varnames, skiprows=1)"
   ]
  },
  {
   "cell_type": "code",
   "execution_count": 7,
   "metadata": {},
   "outputs": [
    {
     "data": {
      "text/html": [
       "<div>\n",
       "<style scoped>\n",
       "    .dataframe tbody tr th:only-of-type {\n",
       "        vertical-align: middle;\n",
       "    }\n",
       "\n",
       "    .dataframe tbody tr th {\n",
       "        vertical-align: top;\n",
       "    }\n",
       "\n",
       "    .dataframe thead th {\n",
       "        text-align: right;\n",
       "    }\n",
       "</style>\n",
       "<table border=\"1\" class=\"dataframe\">\n",
       "  <thead>\n",
       "    <tr style=\"text-align: right;\">\n",
       "      <th></th>\n",
       "      <th>NAME</th>\n",
       "      <th>DEPARTMENT_NAME</th>\n",
       "      <th>TITLE</th>\n",
       "      <th>REGULAR</th>\n",
       "      <th>RETRO</th>\n",
       "      <th>OTHER</th>\n",
       "      <th>OVERTIME</th>\n",
       "      <th>INJURED</th>\n",
       "      <th>DETAIL</th>\n",
       "      <th>QUINN</th>\n",
       "      <th>TOTAL</th>\n",
       "      <th>POSTAL</th>\n",
       "    </tr>\n",
       "  </thead>\n",
       "  <tbody>\n",
       "    <tr>\n",
       "      <th>0</th>\n",
       "      <td>Williams,David C.</td>\n",
       "      <td>Boston Police Department</td>\n",
       "      <td>Police Officer</td>\n",
       "      <td>95,184.68</td>\n",
       "      <td>NaN</td>\n",
       "      <td>503,025.78</td>\n",
       "      <td>45,176.88</td>\n",
       "      <td>5,307.62</td>\n",
       "      <td>24,610.00</td>\n",
       "      <td>4,375.69</td>\n",
       "      <td>677,680.65</td>\n",
       "      <td>02356</td>\n",
       "    </tr>\n",
       "    <tr>\n",
       "      <th>1</th>\n",
       "      <td>Earley,John W</td>\n",
       "      <td>Boston Police Department</td>\n",
       "      <td>Police Lieutenant</td>\n",
       "      <td>26,130.54</td>\n",
       "      <td>13,001.47</td>\n",
       "      <td>204,120.61</td>\n",
       "      <td>668.36</td>\n",
       "      <td>NaN</td>\n",
       "      <td>440.00</td>\n",
       "      <td>6,532.63</td>\n",
       "      <td>250,893.61</td>\n",
       "      <td>02131</td>\n",
       "    </tr>\n",
       "    <tr>\n",
       "      <th>2</th>\n",
       "      <td>Bucelewicz,Helen</td>\n",
       "      <td>Boston Police Department</td>\n",
       "      <td>Police Officer</td>\n",
       "      <td>8,676.89</td>\n",
       "      <td>NaN</td>\n",
       "      <td>200,000.00</td>\n",
       "      <td>NaN</td>\n",
       "      <td>NaN</td>\n",
       "      <td>NaN</td>\n",
       "      <td>NaN</td>\n",
       "      <td>208,676.89</td>\n",
       "      <td>02135</td>\n",
       "    </tr>\n",
       "    <tr>\n",
       "      <th>3</th>\n",
       "      <td>Evans,William B</td>\n",
       "      <td>Boston Police Department</td>\n",
       "      <td>Commissioner (Bpd)</td>\n",
       "      <td>149,999.93</td>\n",
       "      <td>3,461.56</td>\n",
       "      <td>165,858.44</td>\n",
       "      <td>NaN</td>\n",
       "      <td>NaN</td>\n",
       "      <td>NaN</td>\n",
       "      <td>NaN</td>\n",
       "      <td>319,319.93</td>\n",
       "      <td>02127</td>\n",
       "    </tr>\n",
       "    <tr>\n",
       "      <th>4</th>\n",
       "      <td>Jones,Ronnie C</td>\n",
       "      <td>Boston Police Department</td>\n",
       "      <td>Police Officer</td>\n",
       "      <td>462,149.98</td>\n",
       "      <td>NaN</td>\n",
       "      <td>114,973.46</td>\n",
       "      <td>NaN</td>\n",
       "      <td>NaN</td>\n",
       "      <td>NaN</td>\n",
       "      <td>NaN</td>\n",
       "      <td>577,123.44</td>\n",
       "      <td>02126</td>\n",
       "    </tr>\n",
       "  </tbody>\n",
       "</table>\n",
       "</div>"
      ],
      "text/plain": [
       "                NAME           DEPARTMENT_NAME               TITLE  \\\n",
       "0  Williams,David C.  Boston Police Department      Police Officer   \n",
       "1      Earley,John W  Boston Police Department   Police Lieutenant   \n",
       "2   Bucelewicz,Helen  Boston Police Department      Police Officer   \n",
       "3    Evans,William B  Boston Police Department  Commissioner (Bpd)   \n",
       "4     Jones,Ronnie C  Boston Police Department      Police Officer   \n",
       "\n",
       "      REGULAR      RETRO       OTHER   OVERTIME   INJURED     DETAIL  \\\n",
       "0   95,184.68        NaN  503,025.78  45,176.88  5,307.62  24,610.00   \n",
       "1   26,130.54  13,001.47  204,120.61     668.36       NaN     440.00   \n",
       "2    8,676.89        NaN  200,000.00        NaN       NaN        NaN   \n",
       "3  149,999.93   3,461.56  165,858.44        NaN       NaN        NaN   \n",
       "4  462,149.98        NaN  114,973.46        NaN       NaN        NaN   \n",
       "\n",
       "      QUINN       TOTAL POSTAL  \n",
       "0  4,375.69  677,680.65  02356  \n",
       "1  6,532.63  250,893.61  02131  \n",
       "2       NaN  208,676.89  02135  \n",
       "3       NaN  319,319.93  02127  \n",
       "4       NaN  577,123.44  02126  "
      ]
     },
     "execution_count": 7,
     "metadata": {},
     "output_type": "execute_result"
    }
   ],
   "source": [
    "pay.head()"
   ]
  },
  {
   "cell_type": "code",
   "execution_count": 8,
   "metadata": {},
   "outputs": [],
   "source": [
    "for val in floats:\n",
    "    pay[val] = pd.to_numeric(pay[val].apply(lambda x: str(x).replace(',', '')), errors='coerce')"
   ]
  },
  {
   "cell_type": "code",
   "execution_count": 9,
   "metadata": {},
   "outputs": [
    {
     "data": {
      "text/plain": [
       "NAME                object\n",
       "DEPARTMENT_NAME     object\n",
       "TITLE               object\n",
       "REGULAR            float64\n",
       "RETRO              float64\n",
       "OTHER              float64\n",
       "OVERTIME           float64\n",
       "INJURED            float64\n",
       "DETAIL             float64\n",
       "QUINN              float64\n",
       "TOTAL              float64\n",
       "POSTAL              object\n",
       "dtype: object"
      ]
     },
     "execution_count": 9,
     "metadata": {},
     "output_type": "execute_result"
    }
   ],
   "source": [
    "pay.dtypes"
   ]
  },
  {
   "cell_type": "code",
   "execution_count": 10,
   "metadata": {},
   "outputs": [
    {
     "data": {
      "text/html": [
       "<div>\n",
       "<style scoped>\n",
       "    .dataframe tbody tr th:only-of-type {\n",
       "        vertical-align: middle;\n",
       "    }\n",
       "\n",
       "    .dataframe tbody tr th {\n",
       "        vertical-align: top;\n",
       "    }\n",
       "\n",
       "    .dataframe thead th {\n",
       "        text-align: right;\n",
       "    }\n",
       "</style>\n",
       "<table border=\"1\" class=\"dataframe\">\n",
       "  <thead>\n",
       "    <tr style=\"text-align: right;\">\n",
       "      <th></th>\n",
       "      <th>NAME</th>\n",
       "      <th>DEPARTMENT_NAME</th>\n",
       "      <th>TITLE</th>\n",
       "      <th>REGULAR</th>\n",
       "      <th>RETRO</th>\n",
       "      <th>OTHER</th>\n",
       "      <th>OVERTIME</th>\n",
       "      <th>INJURED</th>\n",
       "      <th>DETAIL</th>\n",
       "      <th>QUINN</th>\n",
       "      <th>TOTAL</th>\n",
       "      <th>POSTAL</th>\n",
       "    </tr>\n",
       "  </thead>\n",
       "  <tbody>\n",
       "    <tr>\n",
       "      <th>0</th>\n",
       "      <td>Williams,David C.</td>\n",
       "      <td>Boston Police Department</td>\n",
       "      <td>Police Officer</td>\n",
       "      <td>95184.68</td>\n",
       "      <td>NaN</td>\n",
       "      <td>503025.78</td>\n",
       "      <td>45176.88</td>\n",
       "      <td>5307.62</td>\n",
       "      <td>24610.0</td>\n",
       "      <td>4375.69</td>\n",
       "      <td>677680.65</td>\n",
       "      <td>02356</td>\n",
       "    </tr>\n",
       "    <tr>\n",
       "      <th>1</th>\n",
       "      <td>Earley,John W</td>\n",
       "      <td>Boston Police Department</td>\n",
       "      <td>Police Lieutenant</td>\n",
       "      <td>26130.54</td>\n",
       "      <td>13001.47</td>\n",
       "      <td>204120.61</td>\n",
       "      <td>668.36</td>\n",
       "      <td>NaN</td>\n",
       "      <td>440.0</td>\n",
       "      <td>6532.63</td>\n",
       "      <td>250893.61</td>\n",
       "      <td>02131</td>\n",
       "    </tr>\n",
       "    <tr>\n",
       "      <th>2</th>\n",
       "      <td>Bucelewicz,Helen</td>\n",
       "      <td>Boston Police Department</td>\n",
       "      <td>Police Officer</td>\n",
       "      <td>8676.89</td>\n",
       "      <td>NaN</td>\n",
       "      <td>200000.00</td>\n",
       "      <td>NaN</td>\n",
       "      <td>NaN</td>\n",
       "      <td>NaN</td>\n",
       "      <td>NaN</td>\n",
       "      <td>208676.89</td>\n",
       "      <td>02135</td>\n",
       "    </tr>\n",
       "    <tr>\n",
       "      <th>3</th>\n",
       "      <td>Evans,William B</td>\n",
       "      <td>Boston Police Department</td>\n",
       "      <td>Commissioner (Bpd)</td>\n",
       "      <td>149999.93</td>\n",
       "      <td>3461.56</td>\n",
       "      <td>165858.44</td>\n",
       "      <td>NaN</td>\n",
       "      <td>NaN</td>\n",
       "      <td>NaN</td>\n",
       "      <td>NaN</td>\n",
       "      <td>319319.93</td>\n",
       "      <td>02127</td>\n",
       "    </tr>\n",
       "    <tr>\n",
       "      <th>4</th>\n",
       "      <td>Jones,Ronnie C</td>\n",
       "      <td>Boston Police Department</td>\n",
       "      <td>Police Officer</td>\n",
       "      <td>462149.98</td>\n",
       "      <td>NaN</td>\n",
       "      <td>114973.46</td>\n",
       "      <td>NaN</td>\n",
       "      <td>NaN</td>\n",
       "      <td>NaN</td>\n",
       "      <td>NaN</td>\n",
       "      <td>577123.44</td>\n",
       "      <td>02126</td>\n",
       "    </tr>\n",
       "  </tbody>\n",
       "</table>\n",
       "</div>"
      ],
      "text/plain": [
       "                NAME           DEPARTMENT_NAME               TITLE    REGULAR  \\\n",
       "0  Williams,David C.  Boston Police Department      Police Officer   95184.68   \n",
       "1      Earley,John W  Boston Police Department   Police Lieutenant   26130.54   \n",
       "2   Bucelewicz,Helen  Boston Police Department      Police Officer    8676.89   \n",
       "3    Evans,William B  Boston Police Department  Commissioner (Bpd)  149999.93   \n",
       "4     Jones,Ronnie C  Boston Police Department      Police Officer  462149.98   \n",
       "\n",
       "      RETRO      OTHER  OVERTIME  INJURED   DETAIL    QUINN      TOTAL POSTAL  \n",
       "0       NaN  503025.78  45176.88  5307.62  24610.0  4375.69  677680.65  02356  \n",
       "1  13001.47  204120.61    668.36      NaN    440.0  6532.63  250893.61  02131  \n",
       "2       NaN  200000.00       NaN      NaN      NaN      NaN  208676.89  02135  \n",
       "3   3461.56  165858.44       NaN      NaN      NaN      NaN  319319.93  02127  \n",
       "4       NaN  114973.46       NaN      NaN      NaN      NaN  577123.44  02126  "
      ]
     },
     "execution_count": 10,
     "metadata": {},
     "output_type": "execute_result"
    }
   ],
   "source": [
    "pay.head()"
   ]
  },
  {
   "cell_type": "markdown",
   "metadata": {},
   "source": [
    "## Posisjonsbestemte filer\n",
    "\n",
    "Alle arkivfilene våre er såkalt posisjonsbestemte, hvor hver variabel begynner på en angitt posisjon på linjen. Disse formatene er sjeldne å komme over i den virkelige verden, men Pandas har en metode for å lese disse: `read_fwf`.\n",
    "\n",
    "Vi har en liten demo-fil, som ser ut som følger:"
   ]
  },
  {
   "cell_type": "code",
   "execution_count": 11,
   "metadata": {},
   "outputs": [
    {
     "name": "stdout",
     "output_type": "stream",
     "text": [
      "123abcd 456.34\r\n",
      "423FGLFF  0.01"
     ]
    }
   ],
   "source": [
    "!cat data/fixed_width_demo.fwf"
   ]
  },
  {
   "cell_type": "code",
   "execution_count": 12,
   "metadata": {},
   "outputs": [],
   "source": [
    "fwf_dtypes = {'A': 'float', 'B': 'str', 'C': 'float'}"
   ]
  },
  {
   "cell_type": "code",
   "execution_count": 13,
   "metadata": {},
   "outputs": [],
   "source": [
    "import pandas as pd\n",
    "df = pd.read_fwf('../test.fwf', widths=[3, 5, 6], skiprows=0, names=['A', 'B', 'C'], dtype=fwf_dtypes)"
   ]
  },
  {
   "cell_type": "code",
   "execution_count": 14,
   "metadata": {},
   "outputs": [
    {
     "data": {
      "text/html": [
       "<div>\n",
       "<style scoped>\n",
       "    .dataframe tbody tr th:only-of-type {\n",
       "        vertical-align: middle;\n",
       "    }\n",
       "\n",
       "    .dataframe tbody tr th {\n",
       "        vertical-align: top;\n",
       "    }\n",
       "\n",
       "    .dataframe thead th {\n",
       "        text-align: right;\n",
       "    }\n",
       "</style>\n",
       "<table border=\"1\" class=\"dataframe\">\n",
       "  <thead>\n",
       "    <tr style=\"text-align: right;\">\n",
       "      <th></th>\n",
       "      <th>A</th>\n",
       "      <th>B</th>\n",
       "      <th>C</th>\n",
       "    </tr>\n",
       "  </thead>\n",
       "  <tbody>\n",
       "    <tr>\n",
       "      <th>0</th>\n",
       "      <td>123.0</td>\n",
       "      <td>abcd</td>\n",
       "      <td>456.34</td>\n",
       "    </tr>\n",
       "    <tr>\n",
       "      <th>1</th>\n",
       "      <td>423.0</td>\n",
       "      <td>FGLFF</td>\n",
       "      <td>0.01</td>\n",
       "    </tr>\n",
       "  </tbody>\n",
       "</table>\n",
       "</div>"
      ],
      "text/plain": [
       "       A      B       C\n",
       "0  123.0   abcd  456.34\n",
       "1  423.0  FGLFF    0.01"
      ]
     },
     "execution_count": 14,
     "metadata": {},
     "output_type": "execute_result"
    }
   ],
   "source": [
    "df"
   ]
  },
  {
   "cell_type": "code",
   "execution_count": 15,
   "metadata": {},
   "outputs": [
    {
     "data": {
      "text/plain": [
       "A    float64\n",
       "B     object\n",
       "C    float64\n",
       "dtype: object"
      ]
     },
     "execution_count": 15,
     "metadata": {},
     "output_type": "execute_result"
    }
   ],
   "source": [
    "df.dtypes"
   ]
  },
  {
   "cell_type": "markdown",
   "metadata": {},
   "source": [
    "## SQL\n",
    "\n",
    "Foreløpig har vi ikke Oracle SQL-drivere på maskinen så vi klarer ikke å lese oracle-databaser. Men vi kan lese sqlite med `sqlite3` biblioteket: https://docs.python.org/3.5/library/sqlite3.html"
   ]
  },
  {
   "cell_type": "code",
   "execution_count": 16,
   "metadata": {},
   "outputs": [],
   "source": [
    "import sqlite3\n",
    "import pandas as pd"
   ]
  },
  {
   "cell_type": "code",
   "execution_count": 17,
   "metadata": {},
   "outputs": [],
   "source": [
    "cnx = sqlite3.connect('./data/main.db')"
   ]
  },
  {
   "cell_type": "code",
   "execution_count": 18,
   "metadata": {},
   "outputs": [],
   "source": [
    "df1 = pd.read_sql_query(\"SELECT * FROM trainingdata LIMIT 100\", con=cnx)"
   ]
  },
  {
   "cell_type": "markdown",
   "metadata": {},
   "source": [
    "### Finne innholdet i en database\n",
    "\n",
    "Om du snubler over en sqlite-database og vil finne ut hva den inneholder, er det mulig å lese `sqlite_master` tabellen. Om databasen er stor er det kanskje ikke så hensiktsmessig å printe hele sånn vi gjør her, men vi kan likevel spørre f.eks. hvilke tabeller som finnes. Legg også merke til at indekser listes her."
   ]
  },
  {
   "cell_type": "code",
   "execution_count": 19,
   "metadata": {},
   "outputs": [
    {
     "data": {
      "text/html": [
       "<div>\n",
       "<style scoped>\n",
       "    .dataframe tbody tr th:only-of-type {\n",
       "        vertical-align: middle;\n",
       "    }\n",
       "\n",
       "    .dataframe tbody tr th {\n",
       "        vertical-align: top;\n",
       "    }\n",
       "\n",
       "    .dataframe thead th {\n",
       "        text-align: right;\n",
       "    }\n",
       "</style>\n",
       "<table border=\"1\" class=\"dataframe\">\n",
       "  <thead>\n",
       "    <tr style=\"text-align: right;\">\n",
       "      <th></th>\n",
       "      <th>type</th>\n",
       "      <th>name</th>\n",
       "      <th>tbl_name</th>\n",
       "      <th>rootpage</th>\n",
       "      <th>sql</th>\n",
       "    </tr>\n",
       "  </thead>\n",
       "  <tbody>\n",
       "    <tr>\n",
       "      <th>0</th>\n",
       "      <td>table</td>\n",
       "      <td>trainingdata</td>\n",
       "      <td>trainingdata</td>\n",
       "      <td>2</td>\n",
       "      <td>CREATE TABLE \"trainingdata\" (\\n\"index\" INTEGER...</td>\n",
       "    </tr>\n",
       "    <tr>\n",
       "      <th>1</th>\n",
       "      <td>index</td>\n",
       "      <td>ix_trainingdata_index</td>\n",
       "      <td>trainingdata</td>\n",
       "      <td>3</td>\n",
       "      <td>CREATE INDEX \"ix_trainingdata_index\"ON \"traini...</td>\n",
       "    </tr>\n",
       "  </tbody>\n",
       "</table>\n",
       "</div>"
      ],
      "text/plain": [
       "    type                   name      tbl_name  rootpage  \\\n",
       "0  table           trainingdata  trainingdata         2   \n",
       "1  index  ix_trainingdata_index  trainingdata         3   \n",
       "\n",
       "                                                 sql  \n",
       "0  CREATE TABLE \"trainingdata\" (\\n\"index\" INTEGER...  \n",
       "1  CREATE INDEX \"ix_trainingdata_index\"ON \"traini...  "
      ]
     },
     "execution_count": 19,
     "metadata": {},
     "output_type": "execute_result"
    }
   ],
   "source": [
    "pd.read_sql_query(\"SELECT * FROM sqlite_master\", con=cnx)"
   ]
  },
  {
   "cell_type": "markdown",
   "metadata": {},
   "source": [
    "## HDF5\n",
    "\n",
    "HDF5 er et mindre kjent, men åpent og ofte nyttig binært filformat for tabulære datasett. En fil kan inneholde mer enn bare ett datasett, noe som gir store muligheter til å lagre f.eks. metadata sammen med datasettet.\n",
    "\n",
    "For å finne hvilke datasett en fil inneholder, kan vi lage et `HDFStore` objekt som vi kan undersøke."
   ]
  },
  {
   "cell_type": "code",
   "execution_count": 20,
   "metadata": {},
   "outputs": [],
   "source": [
    "store = pd.HDFStore(\"data/trainingdata.hd5\")"
   ]
  },
  {
   "cell_type": "code",
   "execution_count": 21,
   "metadata": {},
   "outputs": [
    {
     "data": {
      "text/plain": [
       "['/data']"
      ]
     },
     "execution_count": 21,
     "metadata": {},
     "output_type": "execute_result"
    }
   ],
   "source": [
    "store.keys()"
   ]
  },
  {
   "cell_type": "code",
   "execution_count": 22,
   "metadata": {},
   "outputs": [],
   "source": [
    "df = store.get(\"data\")"
   ]
  },
  {
   "cell_type": "code",
   "execution_count": 23,
   "metadata": {},
   "outputs": [],
   "source": [
    "store.close()"
   ]
  },
  {
   "cell_type": "markdown",
   "metadata": {},
   "source": [
    "Eller:"
   ]
  },
  {
   "cell_type": "code",
   "execution_count": 24,
   "metadata": {},
   "outputs": [],
   "source": [
    "df = pd.read_hdf(\"data/trainingdata.hd5\", key=\"data\")"
   ]
  },
  {
   "cell_type": "code",
   "execution_count": null,
   "metadata": {},
   "outputs": [],
   "source": []
  },
  {
   "cell_type": "markdown",
   "metadata": {},
   "source": [
    "## Prøv selv\n",
    "\n",
    "Om du ikke kommer på ting å prøve selv, kan dette være noen ideer:\n",
    "\n",
    "- Lag en ny sqlite database, og lag en ny tabell hvor du setter inn noen verdier fra et selvvalgt datasett.\n",
    "- Filen `fagkoder.txt` er en posisjonsbestemt arkivfil. Fildefinisjonen/metadata slik den ligger i datadok er lagret i `fagkoder.ddok` Lag et program som først leser metadataene, og så leser arkivfilen inn til en dataframe."
   ]
  },
  {
   "cell_type": "code",
   "execution_count": null,
   "metadata": {},
   "outputs": [],
   "source": []
  }
 ],
 "metadata": {
  "kernelspec": {
   "display_name": "Python 3",
   "language": "python",
   "name": "python3"
  },
  "language_info": {
   "codemirror_mode": {
    "name": "ipython",
    "version": 3
   },
   "file_extension": ".py",
   "mimetype": "text/x-python",
   "name": "python",
   "nbconvert_exporter": "python",
   "pygments_lexer": "ipython3",
   "version": "3.6.8"
  }
 },
 "nbformat": 4,
 "nbformat_minor": 2
}
