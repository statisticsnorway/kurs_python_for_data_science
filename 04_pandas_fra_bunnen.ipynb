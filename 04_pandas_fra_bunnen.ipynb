{
 "cells": [
  {
   "cell_type": "markdown",
   "metadata": {},
   "source": [
    "# Pandas fra bunnen og opp\n",
    "\n",
    "Pandas er en av de mest populære pakkene for bruk av python i Data Science/data analyse.\n",
    "I dette kapitelet skal vi gjennomgå en rekke av funksjonalitete til pandas, se på hvordan Pandas er byg opp, vi skal innom Numpy og se på Dokumentasjon.\n",
    "\n",
    "Har du brukt python i Data analyse, har du let sikkert vært borti Pandas. Her sattser vi litt på og favne bredt, mye av dette vil kanskje være kjent, men muligens finner du noe nytt du ikke har vært klar over fra før.\n",
    "\n",
    "## Hva pandas egentlig er\n",
    "\n",
    "Men hva er egentlig en Dataframe? Som med alt annet i Python så er det et objekt med en rekke funksjonaliteter. \n",
    "Intuitivt ser vi på en dataframe som et sett kolonner og rader som inneholder data, men fra et teknisk perspektiv kan vi dissekere dataframes til et sett mindre bestanddeler.\n",
    "\n",
    "Et pandas datasett er lagret som en samling kolonner som kalles serier, og kolonnene inneholder elementer (som vi tenker på som celler/verdier). I tillegg har alle datasett i pandas en indeks, som effektiviserer oppslag og sikrer orden.\n",
    "\n",
    "At datasett er en samling med kolonner heller enn en samling rader kan høres ut som semantisk distinksjon, men det har faktisk en del å si for ytelsen når en gjør analytiske utledninger. For numeriske variabler har alle celler lik lengde. En implikasjon av dett er at maskinen kan nøye seg med å lese gjennom langt mindre data. Skal du i et datasett ha sum formue for alle kvinner, må pandas lese gjennom kjønn-kolonnen for å finne kvinner, men når den har indeksen for alle radene den vil ha, kan de aktuelle formue-verdiene finnes bare ved å vite minnelokasjonen for starten på formuekolonnnen, og finne minnelokasjonene den trenger å lese bare ved å multiplisere startposisjonen med indeksene. Dette er også en av årsakene til at indekser i mange språk starter med 0."
   ]
  },
  {
   "cell_type": "code",
   "execution_count": 1,
   "metadata": {
    "ExecuteTime": {
     "end_time": "2020-02-22T11:06:19.001569Z",
     "start_time": "2020-02-22T11:06:14.217941Z"
    }
   },
   "outputs": [],
   "source": [
    "import pandas as pd\n",
    "import numpy as np \n",
    "import datetime"
   ]
  },
  {
   "cell_type": "code",
   "execution_count": 2,
   "metadata": {
    "ExecuteTime": {
     "end_time": "2020-02-22T11:06:19.124548Z",
     "start_time": "2020-02-22T11:06:19.013547Z"
    }
   },
   "outputs": [],
   "source": [
    "df = pd.read_csv('data/diamonds.csv')"
   ]
  },
  {
   "cell_type": "code",
   "execution_count": 3,
   "metadata": {},
   "outputs": [
    {
     "data": {
      "text/plain": [
       "Unnamed: 0      int64\n",
       "carat         float64\n",
       "cut            object\n",
       "color          object\n",
       "clarity        object\n",
       "depth         float64\n",
       "table         float64\n",
       "price           int64\n",
       "x             float64\n",
       "y             float64\n",
       "z             float64\n",
       "dtype: object"
      ]
     },
     "execution_count": 3,
     "metadata": {},
     "output_type": "execute_result"
    }
   ],
   "source": [
    "df.dtypes"
   ]
  },
  {
   "cell_type": "code",
   "execution_count": 4,
   "metadata": {},
   "outputs": [
    {
     "data": {
      "text/plain": [
       "pandas.core.series.Series"
      ]
     },
     "execution_count": 4,
     "metadata": {},
     "output_type": "execute_result"
    }
   ],
   "source": [
    "type(df[\"carat\"])"
   ]
  },
  {
   "cell_type": "markdown",
   "metadata": {},
   "source": [
    "## Indekser\n",
    "\n",
    "Indekser er identifikatoren for den enkelte rad. \n",
    "I utgangspunktet lager Pandas en *Ny* index fom starter på 0 ved innlesing av et datasett.\n"
   ]
  },
  {
   "cell_type": "markdown",
   "metadata": {
    "heading_collapsed": true
   },
   "source": [
    "### Enkle index operasjoner"
   ]
  },
  {
   "cell_type": "code",
   "execution_count": 5,
   "metadata": {
    "ExecuteTime": {
     "end_time": "2020-02-22T11:06:25.464441Z",
     "start_time": "2020-02-22T11:06:25.429425Z"
    },
    "hidden": true
   },
   "outputs": [
    {
     "data": {
      "text/html": [
       "<div>\n",
       "<style scoped>\n",
       "    .dataframe tbody tr th:only-of-type {\n",
       "        vertical-align: middle;\n",
       "    }\n",
       "\n",
       "    .dataframe tbody tr th {\n",
       "        vertical-align: top;\n",
       "    }\n",
       "\n",
       "    .dataframe thead th {\n",
       "        text-align: right;\n",
       "    }\n",
       "</style>\n",
       "<table border=\"1\" class=\"dataframe\">\n",
       "  <thead>\n",
       "    <tr style=\"text-align: right;\">\n",
       "      <th></th>\n",
       "      <th>Unnamed: 0</th>\n",
       "      <th>carat</th>\n",
       "      <th>cut</th>\n",
       "      <th>color</th>\n",
       "      <th>clarity</th>\n",
       "      <th>depth</th>\n",
       "      <th>table</th>\n",
       "      <th>price</th>\n",
       "      <th>x</th>\n",
       "      <th>y</th>\n",
       "      <th>z</th>\n",
       "    </tr>\n",
       "  </thead>\n",
       "  <tbody>\n",
       "    <tr>\n",
       "      <th>0</th>\n",
       "      <td>1</td>\n",
       "      <td>0.23</td>\n",
       "      <td>Ideal</td>\n",
       "      <td>E</td>\n",
       "      <td>SI2</td>\n",
       "      <td>61.5</td>\n",
       "      <td>55.0</td>\n",
       "      <td>326</td>\n",
       "      <td>3.95</td>\n",
       "      <td>3.98</td>\n",
       "      <td>2.43</td>\n",
       "    </tr>\n",
       "    <tr>\n",
       "      <th>1</th>\n",
       "      <td>2</td>\n",
       "      <td>0.21</td>\n",
       "      <td>Premium</td>\n",
       "      <td>E</td>\n",
       "      <td>SI1</td>\n",
       "      <td>59.8</td>\n",
       "      <td>61.0</td>\n",
       "      <td>326</td>\n",
       "      <td>3.89</td>\n",
       "      <td>3.84</td>\n",
       "      <td>2.31</td>\n",
       "    </tr>\n",
       "    <tr>\n",
       "      <th>2</th>\n",
       "      <td>3</td>\n",
       "      <td>0.23</td>\n",
       "      <td>Good</td>\n",
       "      <td>E</td>\n",
       "      <td>VS1</td>\n",
       "      <td>56.9</td>\n",
       "      <td>65.0</td>\n",
       "      <td>327</td>\n",
       "      <td>4.05</td>\n",
       "      <td>4.07</td>\n",
       "      <td>2.31</td>\n",
       "    </tr>\n",
       "    <tr>\n",
       "      <th>3</th>\n",
       "      <td>4</td>\n",
       "      <td>0.29</td>\n",
       "      <td>Premium</td>\n",
       "      <td>I</td>\n",
       "      <td>VS2</td>\n",
       "      <td>62.4</td>\n",
       "      <td>58.0</td>\n",
       "      <td>334</td>\n",
       "      <td>4.20</td>\n",
       "      <td>4.23</td>\n",
       "      <td>2.63</td>\n",
       "    </tr>\n",
       "    <tr>\n",
       "      <th>4</th>\n",
       "      <td>5</td>\n",
       "      <td>0.31</td>\n",
       "      <td>Good</td>\n",
       "      <td>J</td>\n",
       "      <td>SI2</td>\n",
       "      <td>63.3</td>\n",
       "      <td>58.0</td>\n",
       "      <td>335</td>\n",
       "      <td>4.34</td>\n",
       "      <td>4.35</td>\n",
       "      <td>2.75</td>\n",
       "    </tr>\n",
       "  </tbody>\n",
       "</table>\n",
       "</div>"
      ],
      "text/plain": [
       "   Unnamed: 0  carat      cut color clarity  depth  table  price     x     y  \\\n",
       "0           1   0.23    Ideal     E     SI2   61.5   55.0    326  3.95  3.98   \n",
       "1           2   0.21  Premium     E     SI1   59.8   61.0    326  3.89  3.84   \n",
       "2           3   0.23     Good     E     VS1   56.9   65.0    327  4.05  4.07   \n",
       "3           4   0.29  Premium     I     VS2   62.4   58.0    334  4.20  4.23   \n",
       "4           5   0.31     Good     J     SI2   63.3   58.0    335  4.34  4.35   \n",
       "\n",
       "      z  \n",
       "0  2.43  \n",
       "1  2.31  \n",
       "2  2.31  \n",
       "3  2.63  \n",
       "4  2.75  "
      ]
     },
     "execution_count": 5,
     "metadata": {},
     "output_type": "execute_result"
    }
   ],
   "source": [
    "df.head()"
   ]
  },
  {
   "cell_type": "markdown",
   "metadata": {
    "hidden": true
   },
   "source": [
    "denne indexen lar deg "
   ]
  },
  {
   "cell_type": "code",
   "execution_count": 6,
   "metadata": {
    "ExecuteTime": {
     "end_time": "2020-02-22T11:06:29.719449Z",
     "start_time": "2020-02-22T11:06:29.693438Z"
    },
    "hidden": true
   },
   "outputs": [
    {
     "data": {
      "text/html": [
       "<div>\n",
       "<style scoped>\n",
       "    .dataframe tbody tr th:only-of-type {\n",
       "        vertical-align: middle;\n",
       "    }\n",
       "\n",
       "    .dataframe tbody tr th {\n",
       "        vertical-align: top;\n",
       "    }\n",
       "\n",
       "    .dataframe thead th {\n",
       "        text-align: right;\n",
       "    }\n",
       "</style>\n",
       "<table border=\"1\" class=\"dataframe\">\n",
       "  <thead>\n",
       "    <tr style=\"text-align: right;\">\n",
       "      <th></th>\n",
       "      <th>Unnamed: 0</th>\n",
       "      <th>carat</th>\n",
       "      <th>color</th>\n",
       "      <th>clarity</th>\n",
       "      <th>depth</th>\n",
       "      <th>table</th>\n",
       "      <th>price</th>\n",
       "      <th>x</th>\n",
       "      <th>y</th>\n",
       "      <th>z</th>\n",
       "    </tr>\n",
       "    <tr>\n",
       "      <th>cut</th>\n",
       "      <th></th>\n",
       "      <th></th>\n",
       "      <th></th>\n",
       "      <th></th>\n",
       "      <th></th>\n",
       "      <th></th>\n",
       "      <th></th>\n",
       "      <th></th>\n",
       "      <th></th>\n",
       "      <th></th>\n",
       "    </tr>\n",
       "  </thead>\n",
       "  <tbody>\n",
       "    <tr>\n",
       "      <th>Ideal</th>\n",
       "      <td>1</td>\n",
       "      <td>0.23</td>\n",
       "      <td>E</td>\n",
       "      <td>SI2</td>\n",
       "      <td>61.5</td>\n",
       "      <td>55.0</td>\n",
       "      <td>326</td>\n",
       "      <td>3.95</td>\n",
       "      <td>3.98</td>\n",
       "      <td>2.43</td>\n",
       "    </tr>\n",
       "    <tr>\n",
       "      <th>Premium</th>\n",
       "      <td>2</td>\n",
       "      <td>0.21</td>\n",
       "      <td>E</td>\n",
       "      <td>SI1</td>\n",
       "      <td>59.8</td>\n",
       "      <td>61.0</td>\n",
       "      <td>326</td>\n",
       "      <td>3.89</td>\n",
       "      <td>3.84</td>\n",
       "      <td>2.31</td>\n",
       "    </tr>\n",
       "    <tr>\n",
       "      <th>Good</th>\n",
       "      <td>3</td>\n",
       "      <td>0.23</td>\n",
       "      <td>E</td>\n",
       "      <td>VS1</td>\n",
       "      <td>56.9</td>\n",
       "      <td>65.0</td>\n",
       "      <td>327</td>\n",
       "      <td>4.05</td>\n",
       "      <td>4.07</td>\n",
       "      <td>2.31</td>\n",
       "    </tr>\n",
       "    <tr>\n",
       "      <th>Premium</th>\n",
       "      <td>4</td>\n",
       "      <td>0.29</td>\n",
       "      <td>I</td>\n",
       "      <td>VS2</td>\n",
       "      <td>62.4</td>\n",
       "      <td>58.0</td>\n",
       "      <td>334</td>\n",
       "      <td>4.20</td>\n",
       "      <td>4.23</td>\n",
       "      <td>2.63</td>\n",
       "    </tr>\n",
       "    <tr>\n",
       "      <th>Good</th>\n",
       "      <td>5</td>\n",
       "      <td>0.31</td>\n",
       "      <td>J</td>\n",
       "      <td>SI2</td>\n",
       "      <td>63.3</td>\n",
       "      <td>58.0</td>\n",
       "      <td>335</td>\n",
       "      <td>4.34</td>\n",
       "      <td>4.35</td>\n",
       "      <td>2.75</td>\n",
       "    </tr>\n",
       "  </tbody>\n",
       "</table>\n",
       "</div>"
      ],
      "text/plain": [
       "         Unnamed: 0  carat color clarity  depth  table  price     x     y  \\\n",
       "cut                                                                         \n",
       "Ideal             1   0.23     E     SI2   61.5   55.0    326  3.95  3.98   \n",
       "Premium           2   0.21     E     SI1   59.8   61.0    326  3.89  3.84   \n",
       "Good              3   0.23     E     VS1   56.9   65.0    327  4.05  4.07   \n",
       "Premium           4   0.29     I     VS2   62.4   58.0    334  4.20  4.23   \n",
       "Good              5   0.31     J     SI2   63.3   58.0    335  4.34  4.35   \n",
       "\n",
       "            z  \n",
       "cut            \n",
       "Ideal    2.43  \n",
       "Premium  2.31  \n",
       "Good     2.31  \n",
       "Premium  2.63  \n",
       "Good     2.75  "
      ]
     },
     "execution_count": 6,
     "metadata": {},
     "output_type": "execute_result"
    }
   ],
   "source": [
    "cut = df.set_index('cut')\n",
    "cut.head()"
   ]
  },
  {
   "cell_type": "code",
   "execution_count": 7,
   "metadata": {
    "ExecuteTime": {
     "end_time": "2020-02-22T11:06:34.471848Z",
     "start_time": "2020-02-22T11:06:34.438846Z"
    },
    "hidden": true
   },
   "outputs": [
    {
     "data": {
      "text/html": [
       "<div>\n",
       "<style scoped>\n",
       "    .dataframe tbody tr th:only-of-type {\n",
       "        vertical-align: middle;\n",
       "    }\n",
       "\n",
       "    .dataframe tbody tr th {\n",
       "        vertical-align: top;\n",
       "    }\n",
       "\n",
       "    .dataframe thead th {\n",
       "        text-align: right;\n",
       "    }\n",
       "</style>\n",
       "<table border=\"1\" class=\"dataframe\">\n",
       "  <thead>\n",
       "    <tr style=\"text-align: right;\">\n",
       "      <th></th>\n",
       "      <th>Unnamed: 0</th>\n",
       "      <th>carat</th>\n",
       "      <th>color</th>\n",
       "      <th>clarity</th>\n",
       "      <th>depth</th>\n",
       "      <th>table</th>\n",
       "      <th>price</th>\n",
       "      <th>x</th>\n",
       "      <th>y</th>\n",
       "      <th>z</th>\n",
       "    </tr>\n",
       "    <tr>\n",
       "      <th>cut</th>\n",
       "      <th></th>\n",
       "      <th></th>\n",
       "      <th></th>\n",
       "      <th></th>\n",
       "      <th></th>\n",
       "      <th></th>\n",
       "      <th></th>\n",
       "      <th></th>\n",
       "      <th></th>\n",
       "      <th></th>\n",
       "    </tr>\n",
       "  </thead>\n",
       "  <tbody>\n",
       "    <tr>\n",
       "      <th>Ideal</th>\n",
       "      <td>1</td>\n",
       "      <td>0.23</td>\n",
       "      <td>E</td>\n",
       "      <td>SI2</td>\n",
       "      <td>61.5</td>\n",
       "      <td>55.0</td>\n",
       "      <td>326</td>\n",
       "      <td>3.95</td>\n",
       "      <td>3.98</td>\n",
       "      <td>2.43</td>\n",
       "    </tr>\n",
       "    <tr>\n",
       "      <th>Ideal</th>\n",
       "      <td>12</td>\n",
       "      <td>0.23</td>\n",
       "      <td>J</td>\n",
       "      <td>VS1</td>\n",
       "      <td>62.8</td>\n",
       "      <td>56.0</td>\n",
       "      <td>340</td>\n",
       "      <td>3.93</td>\n",
       "      <td>3.90</td>\n",
       "      <td>2.46</td>\n",
       "    </tr>\n",
       "    <tr>\n",
       "      <th>Ideal</th>\n",
       "      <td>14</td>\n",
       "      <td>0.31</td>\n",
       "      <td>J</td>\n",
       "      <td>SI2</td>\n",
       "      <td>62.2</td>\n",
       "      <td>54.0</td>\n",
       "      <td>344</td>\n",
       "      <td>4.35</td>\n",
       "      <td>4.37</td>\n",
       "      <td>2.71</td>\n",
       "    </tr>\n",
       "    <tr>\n",
       "      <th>Ideal</th>\n",
       "      <td>17</td>\n",
       "      <td>0.30</td>\n",
       "      <td>I</td>\n",
       "      <td>SI2</td>\n",
       "      <td>62.0</td>\n",
       "      <td>54.0</td>\n",
       "      <td>348</td>\n",
       "      <td>4.31</td>\n",
       "      <td>4.34</td>\n",
       "      <td>2.68</td>\n",
       "    </tr>\n",
       "    <tr>\n",
       "      <th>Ideal</th>\n",
       "      <td>40</td>\n",
       "      <td>0.33</td>\n",
       "      <td>I</td>\n",
       "      <td>SI2</td>\n",
       "      <td>61.8</td>\n",
       "      <td>55.0</td>\n",
       "      <td>403</td>\n",
       "      <td>4.49</td>\n",
       "      <td>4.51</td>\n",
       "      <td>2.78</td>\n",
       "    </tr>\n",
       "  </tbody>\n",
       "</table>\n",
       "</div>"
      ],
      "text/plain": [
       "       Unnamed: 0  carat color clarity  depth  table  price     x     y     z\n",
       "cut                                                                          \n",
       "Ideal           1   0.23     E     SI2   61.5   55.0    326  3.95  3.98  2.43\n",
       "Ideal          12   0.23     J     VS1   62.8   56.0    340  3.93  3.90  2.46\n",
       "Ideal          14   0.31     J     SI2   62.2   54.0    344  4.35  4.37  2.71\n",
       "Ideal          17   0.30     I     SI2   62.0   54.0    348  4.31  4.34  2.68\n",
       "Ideal          40   0.33     I     SI2   61.8   55.0    403  4.49  4.51  2.78"
      ]
     },
     "execution_count": 7,
     "metadata": {},
     "output_type": "execute_result"
    }
   ],
   "source": [
    "cut.loc['Ideal'].head()"
   ]
  },
  {
   "cell_type": "markdown",
   "metadata": {
    "hidden": true
   },
   "source": [
    "Det er også mulig å spesifisere syntetiske indekser, bestående av to eller flere kolonner."
   ]
  },
  {
   "cell_type": "code",
   "execution_count": 8,
   "metadata": {
    "ExecuteTime": {
     "end_time": "2020-02-22T11:06:35.131090Z",
     "start_time": "2020-02-22T11:06:35.093086Z"
    },
    "hidden": true
   },
   "outputs": [
    {
     "data": {
      "text/html": [
       "<div>\n",
       "<style scoped>\n",
       "    .dataframe tbody tr th:only-of-type {\n",
       "        vertical-align: middle;\n",
       "    }\n",
       "\n",
       "    .dataframe tbody tr th {\n",
       "        vertical-align: top;\n",
       "    }\n",
       "\n",
       "    .dataframe thead th {\n",
       "        text-align: right;\n",
       "    }\n",
       "</style>\n",
       "<table border=\"1\" class=\"dataframe\">\n",
       "  <thead>\n",
       "    <tr style=\"text-align: right;\">\n",
       "      <th></th>\n",
       "      <th></th>\n",
       "      <th>Unnamed: 0</th>\n",
       "      <th>carat</th>\n",
       "      <th>clarity</th>\n",
       "      <th>depth</th>\n",
       "      <th>table</th>\n",
       "      <th>price</th>\n",
       "      <th>x</th>\n",
       "      <th>y</th>\n",
       "      <th>z</th>\n",
       "    </tr>\n",
       "    <tr>\n",
       "      <th>cut</th>\n",
       "      <th>color</th>\n",
       "      <th></th>\n",
       "      <th></th>\n",
       "      <th></th>\n",
       "      <th></th>\n",
       "      <th></th>\n",
       "      <th></th>\n",
       "      <th></th>\n",
       "      <th></th>\n",
       "      <th></th>\n",
       "    </tr>\n",
       "  </thead>\n",
       "  <tbody>\n",
       "    <tr>\n",
       "      <th>Ideal</th>\n",
       "      <th>E</th>\n",
       "      <td>1</td>\n",
       "      <td>0.23</td>\n",
       "      <td>SI2</td>\n",
       "      <td>61.5</td>\n",
       "      <td>55.0</td>\n",
       "      <td>326</td>\n",
       "      <td>3.95</td>\n",
       "      <td>3.98</td>\n",
       "      <td>2.43</td>\n",
       "    </tr>\n",
       "    <tr>\n",
       "      <th>Premium</th>\n",
       "      <th>E</th>\n",
       "      <td>2</td>\n",
       "      <td>0.21</td>\n",
       "      <td>SI1</td>\n",
       "      <td>59.8</td>\n",
       "      <td>61.0</td>\n",
       "      <td>326</td>\n",
       "      <td>3.89</td>\n",
       "      <td>3.84</td>\n",
       "      <td>2.31</td>\n",
       "    </tr>\n",
       "    <tr>\n",
       "      <th>Good</th>\n",
       "      <th>E</th>\n",
       "      <td>3</td>\n",
       "      <td>0.23</td>\n",
       "      <td>VS1</td>\n",
       "      <td>56.9</td>\n",
       "      <td>65.0</td>\n",
       "      <td>327</td>\n",
       "      <td>4.05</td>\n",
       "      <td>4.07</td>\n",
       "      <td>2.31</td>\n",
       "    </tr>\n",
       "    <tr>\n",
       "      <th>Premium</th>\n",
       "      <th>I</th>\n",
       "      <td>4</td>\n",
       "      <td>0.29</td>\n",
       "      <td>VS2</td>\n",
       "      <td>62.4</td>\n",
       "      <td>58.0</td>\n",
       "      <td>334</td>\n",
       "      <td>4.20</td>\n",
       "      <td>4.23</td>\n",
       "      <td>2.63</td>\n",
       "    </tr>\n",
       "    <tr>\n",
       "      <th>Good</th>\n",
       "      <th>J</th>\n",
       "      <td>5</td>\n",
       "      <td>0.31</td>\n",
       "      <td>SI2</td>\n",
       "      <td>63.3</td>\n",
       "      <td>58.0</td>\n",
       "      <td>335</td>\n",
       "      <td>4.34</td>\n",
       "      <td>4.35</td>\n",
       "      <td>2.75</td>\n",
       "    </tr>\n",
       "  </tbody>\n",
       "</table>\n",
       "</div>"
      ],
      "text/plain": [
       "               Unnamed: 0  carat clarity  depth  table  price     x     y  \\\n",
       "cut     color                                                               \n",
       "Ideal   E               1   0.23     SI2   61.5   55.0    326  3.95  3.98   \n",
       "Premium E               2   0.21     SI1   59.8   61.0    326  3.89  3.84   \n",
       "Good    E               3   0.23     VS1   56.9   65.0    327  4.05  4.07   \n",
       "Premium I               4   0.29     VS2   62.4   58.0    334  4.20  4.23   \n",
       "Good    J               5   0.31     SI2   63.3   58.0    335  4.34  4.35   \n",
       "\n",
       "                  z  \n",
       "cut     color        \n",
       "Ideal   E      2.43  \n",
       "Premium E      2.31  \n",
       "Good    E      2.31  \n",
       "Premium I      2.63  \n",
       "Good    J      2.75  "
      ]
     },
     "execution_count": 8,
     "metadata": {},
     "output_type": "execute_result"
    }
   ],
   "source": [
    "cut_color = df.set_index(['cut', 'color'])\n",
    "cut_color.head()"
   ]
  },
  {
   "cell_type": "code",
   "execution_count": 9,
   "metadata": {
    "ExecuteTime": {
     "end_time": "2020-02-22T11:06:35.459250Z",
     "start_time": "2020-02-22T11:06:35.421241Z"
    },
    "hidden": true
   },
   "outputs": [
    {
     "name": "stderr",
     "output_type": "stream",
     "text": [
      "/opt/anaconda3/lib/python3.6/site-packages/ipykernel_launcher.py:1: PerformanceWarning: indexing past lexsort depth may impact performance.\n",
      "  \"\"\"Entry point for launching an IPython kernel.\n"
     ]
    },
    {
     "data": {
      "text/html": [
       "<div>\n",
       "<style scoped>\n",
       "    .dataframe tbody tr th:only-of-type {\n",
       "        vertical-align: middle;\n",
       "    }\n",
       "\n",
       "    .dataframe tbody tr th {\n",
       "        vertical-align: top;\n",
       "    }\n",
       "\n",
       "    .dataframe thead th {\n",
       "        text-align: right;\n",
       "    }\n",
       "</style>\n",
       "<table border=\"1\" class=\"dataframe\">\n",
       "  <thead>\n",
       "    <tr style=\"text-align: right;\">\n",
       "      <th></th>\n",
       "      <th></th>\n",
       "      <th>Unnamed: 0</th>\n",
       "      <th>carat</th>\n",
       "      <th>clarity</th>\n",
       "      <th>depth</th>\n",
       "      <th>table</th>\n",
       "      <th>price</th>\n",
       "      <th>x</th>\n",
       "      <th>y</th>\n",
       "      <th>z</th>\n",
       "    </tr>\n",
       "    <tr>\n",
       "      <th>cut</th>\n",
       "      <th>color</th>\n",
       "      <th></th>\n",
       "      <th></th>\n",
       "      <th></th>\n",
       "      <th></th>\n",
       "      <th></th>\n",
       "      <th></th>\n",
       "      <th></th>\n",
       "      <th></th>\n",
       "      <th></th>\n",
       "    </tr>\n",
       "  </thead>\n",
       "  <tbody>\n",
       "    <tr>\n",
       "      <th rowspan=\"5\" valign=\"top\">Ideal</th>\n",
       "      <th>J</th>\n",
       "      <td>12</td>\n",
       "      <td>0.23</td>\n",
       "      <td>VS1</td>\n",
       "      <td>62.8</td>\n",
       "      <td>56.0</td>\n",
       "      <td>340</td>\n",
       "      <td>3.93</td>\n",
       "      <td>3.90</td>\n",
       "      <td>2.46</td>\n",
       "    </tr>\n",
       "    <tr>\n",
       "      <th>J</th>\n",
       "      <td>14</td>\n",
       "      <td>0.31</td>\n",
       "      <td>SI2</td>\n",
       "      <td>62.2</td>\n",
       "      <td>54.0</td>\n",
       "      <td>344</td>\n",
       "      <td>4.35</td>\n",
       "      <td>4.37</td>\n",
       "      <td>2.71</td>\n",
       "    </tr>\n",
       "    <tr>\n",
       "      <th>J</th>\n",
       "      <td>42</td>\n",
       "      <td>0.33</td>\n",
       "      <td>SI1</td>\n",
       "      <td>61.1</td>\n",
       "      <td>56.0</td>\n",
       "      <td>403</td>\n",
       "      <td>4.49</td>\n",
       "      <td>4.55</td>\n",
       "      <td>2.76</td>\n",
       "    </tr>\n",
       "    <tr>\n",
       "      <th>J</th>\n",
       "      <td>461</td>\n",
       "      <td>0.90</td>\n",
       "      <td>VS2</td>\n",
       "      <td>62.8</td>\n",
       "      <td>55.0</td>\n",
       "      <td>2817</td>\n",
       "      <td>6.20</td>\n",
       "      <td>6.16</td>\n",
       "      <td>3.88</td>\n",
       "    </tr>\n",
       "    <tr>\n",
       "      <th>J</th>\n",
       "      <td>682</td>\n",
       "      <td>0.75</td>\n",
       "      <td>SI1</td>\n",
       "      <td>61.5</td>\n",
       "      <td>56.0</td>\n",
       "      <td>2850</td>\n",
       "      <td>5.83</td>\n",
       "      <td>5.87</td>\n",
       "      <td>3.60</td>\n",
       "    </tr>\n",
       "  </tbody>\n",
       "</table>\n",
       "</div>"
      ],
      "text/plain": [
       "             Unnamed: 0  carat clarity  depth  table  price     x     y     z\n",
       "cut   color                                                                  \n",
       "Ideal J              12   0.23     VS1   62.8   56.0    340  3.93  3.90  2.46\n",
       "      J              14   0.31     SI2   62.2   54.0    344  4.35  4.37  2.71\n",
       "      J              42   0.33     SI1   61.1   56.0    403  4.49  4.55  2.76\n",
       "      J             461   0.90     VS2   62.8   55.0   2817  6.20  6.16  3.88\n",
       "      J             682   0.75     SI1   61.5   56.0   2850  5.83  5.87  3.60"
      ]
     },
     "execution_count": 9,
     "metadata": {},
     "output_type": "execute_result"
    }
   ],
   "source": [
    "cut_color.loc['Ideal', 'J'].head()"
   ]
  },
  {
   "cell_type": "code",
   "execution_count": 10,
   "metadata": {
    "ExecuteTime": {
     "end_time": "2020-02-22T11:06:35.989577Z",
     "start_time": "2020-02-22T11:06:35.966564Z"
    },
    "hidden": true
   },
   "outputs": [
    {
     "name": "stderr",
     "output_type": "stream",
     "text": [
      "/opt/anaconda3/lib/python3.6/site-packages/ipykernel_launcher.py:1: PerformanceWarning: indexing past lexsort depth may impact performance.\n",
      "  \"\"\"Entry point for launching an IPython kernel.\n"
     ]
    },
    {
     "data": {
      "text/html": [
       "<div>\n",
       "<style scoped>\n",
       "    .dataframe tbody tr th:only-of-type {\n",
       "        vertical-align: middle;\n",
       "    }\n",
       "\n",
       "    .dataframe tbody tr th {\n",
       "        vertical-align: top;\n",
       "    }\n",
       "\n",
       "    .dataframe thead th {\n",
       "        text-align: right;\n",
       "    }\n",
       "</style>\n",
       "<table border=\"1\" class=\"dataframe\">\n",
       "  <thead>\n",
       "    <tr style=\"text-align: right;\">\n",
       "      <th></th>\n",
       "      <th></th>\n",
       "      <th>Unnamed: 0</th>\n",
       "      <th>carat</th>\n",
       "      <th>clarity</th>\n",
       "      <th>depth</th>\n",
       "      <th>table</th>\n",
       "      <th>price</th>\n",
       "      <th>x</th>\n",
       "      <th>y</th>\n",
       "      <th>z</th>\n",
       "    </tr>\n",
       "    <tr>\n",
       "      <th>cut</th>\n",
       "      <th>color</th>\n",
       "      <th></th>\n",
       "      <th></th>\n",
       "      <th></th>\n",
       "      <th></th>\n",
       "      <th></th>\n",
       "      <th></th>\n",
       "      <th></th>\n",
       "      <th></th>\n",
       "      <th></th>\n",
       "    </tr>\n",
       "  </thead>\n",
       "  <tbody>\n",
       "    <tr>\n",
       "      <th rowspan=\"5\" valign=\"top\">Ideal</th>\n",
       "      <th>H</th>\n",
       "      <td>131</td>\n",
       "      <td>0.77</td>\n",
       "      <td>VS2</td>\n",
       "      <td>62.0</td>\n",
       "      <td>56.0</td>\n",
       "      <td>2763</td>\n",
       "      <td>5.89</td>\n",
       "      <td>5.86</td>\n",
       "      <td>3.64</td>\n",
       "    </tr>\n",
       "    <tr>\n",
       "      <th>H</th>\n",
       "      <td>139</td>\n",
       "      <td>0.76</td>\n",
       "      <td>SI1</td>\n",
       "      <td>61.2</td>\n",
       "      <td>57.0</td>\n",
       "      <td>2765</td>\n",
       "      <td>5.88</td>\n",
       "      <td>5.91</td>\n",
       "      <td>3.61</td>\n",
       "    </tr>\n",
       "    <tr>\n",
       "      <th>H</th>\n",
       "      <td>217</td>\n",
       "      <td>0.77</td>\n",
       "      <td>SI1</td>\n",
       "      <td>62.2</td>\n",
       "      <td>56.0</td>\n",
       "      <td>2781</td>\n",
       "      <td>5.83</td>\n",
       "      <td>5.88</td>\n",
       "      <td>3.64</td>\n",
       "    </tr>\n",
       "    <tr>\n",
       "      <th>H</th>\n",
       "      <td>218</td>\n",
       "      <td>0.78</td>\n",
       "      <td>SI1</td>\n",
       "      <td>61.2</td>\n",
       "      <td>56.0</td>\n",
       "      <td>2781</td>\n",
       "      <td>5.92</td>\n",
       "      <td>5.99</td>\n",
       "      <td>3.64</td>\n",
       "    </tr>\n",
       "    <tr>\n",
       "      <th>H</th>\n",
       "      <td>275</td>\n",
       "      <td>0.73</td>\n",
       "      <td>VS2</td>\n",
       "      <td>62.7</td>\n",
       "      <td>55.0</td>\n",
       "      <td>2793</td>\n",
       "      <td>5.72</td>\n",
       "      <td>5.76</td>\n",
       "      <td>3.60</td>\n",
       "    </tr>\n",
       "  </tbody>\n",
       "</table>\n",
       "</div>"
      ],
      "text/plain": [
       "             Unnamed: 0  carat clarity  depth  table  price     x     y     z\n",
       "cut   color                                                                  \n",
       "Ideal H             131   0.77     VS2   62.0   56.0   2763  5.89  5.86  3.64\n",
       "      H             139   0.76     SI1   61.2   57.0   2765  5.88  5.91  3.61\n",
       "      H             217   0.77     SI1   62.2   56.0   2781  5.83  5.88  3.64\n",
       "      H             218   0.78     SI1   61.2   56.0   2781  5.92  5.99  3.64\n",
       "      H             275   0.73     VS2   62.7   55.0   2793  5.72  5.76  3.60"
      ]
     },
     "execution_count": 10,
     "metadata": {},
     "output_type": "execute_result"
    }
   ],
   "source": [
    "cut_color.loc['Ideal', 'H'].head()"
   ]
  },
  {
   "cell_type": "code",
   "execution_count": 11,
   "metadata": {
    "ExecuteTime": {
     "end_time": "2020-02-22T11:06:36.469965Z",
     "start_time": "2020-02-22T11:06:36.436878Z"
    },
    "hidden": true
   },
   "outputs": [
    {
     "data": {
      "text/html": [
       "<div>\n",
       "<style scoped>\n",
       "    .dataframe tbody tr th:only-of-type {\n",
       "        vertical-align: middle;\n",
       "    }\n",
       "\n",
       "    .dataframe tbody tr th {\n",
       "        vertical-align: top;\n",
       "    }\n",
       "\n",
       "    .dataframe thead th {\n",
       "        text-align: right;\n",
       "    }\n",
       "</style>\n",
       "<table border=\"1\" class=\"dataframe\">\n",
       "  <thead>\n",
       "    <tr style=\"text-align: right;\">\n",
       "      <th></th>\n",
       "      <th>cut</th>\n",
       "      <th>color</th>\n",
       "      <th>Unnamed: 0</th>\n",
       "      <th>carat</th>\n",
       "      <th>clarity</th>\n",
       "      <th>depth</th>\n",
       "      <th>table</th>\n",
       "      <th>price</th>\n",
       "      <th>x</th>\n",
       "      <th>y</th>\n",
       "      <th>z</th>\n",
       "    </tr>\n",
       "  </thead>\n",
       "  <tbody>\n",
       "    <tr>\n",
       "      <th>0</th>\n",
       "      <td>Ideal</td>\n",
       "      <td>E</td>\n",
       "      <td>1</td>\n",
       "      <td>0.23</td>\n",
       "      <td>SI2</td>\n",
       "      <td>61.5</td>\n",
       "      <td>55.0</td>\n",
       "      <td>326</td>\n",
       "      <td>3.95</td>\n",
       "      <td>3.98</td>\n",
       "      <td>2.43</td>\n",
       "    </tr>\n",
       "    <tr>\n",
       "      <th>1</th>\n",
       "      <td>Premium</td>\n",
       "      <td>E</td>\n",
       "      <td>2</td>\n",
       "      <td>0.21</td>\n",
       "      <td>SI1</td>\n",
       "      <td>59.8</td>\n",
       "      <td>61.0</td>\n",
       "      <td>326</td>\n",
       "      <td>3.89</td>\n",
       "      <td>3.84</td>\n",
       "      <td>2.31</td>\n",
       "    </tr>\n",
       "    <tr>\n",
       "      <th>2</th>\n",
       "      <td>Good</td>\n",
       "      <td>E</td>\n",
       "      <td>3</td>\n",
       "      <td>0.23</td>\n",
       "      <td>VS1</td>\n",
       "      <td>56.9</td>\n",
       "      <td>65.0</td>\n",
       "      <td>327</td>\n",
       "      <td>4.05</td>\n",
       "      <td>4.07</td>\n",
       "      <td>2.31</td>\n",
       "    </tr>\n",
       "    <tr>\n",
       "      <th>3</th>\n",
       "      <td>Premium</td>\n",
       "      <td>I</td>\n",
       "      <td>4</td>\n",
       "      <td>0.29</td>\n",
       "      <td>VS2</td>\n",
       "      <td>62.4</td>\n",
       "      <td>58.0</td>\n",
       "      <td>334</td>\n",
       "      <td>4.20</td>\n",
       "      <td>4.23</td>\n",
       "      <td>2.63</td>\n",
       "    </tr>\n",
       "    <tr>\n",
       "      <th>4</th>\n",
       "      <td>Good</td>\n",
       "      <td>J</td>\n",
       "      <td>5</td>\n",
       "      <td>0.31</td>\n",
       "      <td>SI2</td>\n",
       "      <td>63.3</td>\n",
       "      <td>58.0</td>\n",
       "      <td>335</td>\n",
       "      <td>4.34</td>\n",
       "      <td>4.35</td>\n",
       "      <td>2.75</td>\n",
       "    </tr>\n",
       "  </tbody>\n",
       "</table>\n",
       "</div>"
      ],
      "text/plain": [
       "       cut color  Unnamed: 0  carat clarity  depth  table  price     x     y  \\\n",
       "0    Ideal     E           1   0.23     SI2   61.5   55.0    326  3.95  3.98   \n",
       "1  Premium     E           2   0.21     SI1   59.8   61.0    326  3.89  3.84   \n",
       "2     Good     E           3   0.23     VS1   56.9   65.0    327  4.05  4.07   \n",
       "3  Premium     I           4   0.29     VS2   62.4   58.0    334  4.20  4.23   \n",
       "4     Good     J           5   0.31     SI2   63.3   58.0    335  4.34  4.35   \n",
       "\n",
       "      z  \n",
       "0  2.43  \n",
       "1  2.31  \n",
       "2  2.31  \n",
       "3  2.63  \n",
       "4  2.75  "
      ]
     },
     "execution_count": 11,
     "metadata": {},
     "output_type": "execute_result"
    }
   ],
   "source": [
    "cut_color.reset_index().head()"
   ]
  },
  {
   "cell_type": "markdown",
   "metadata": {},
   "source": [
    "### Tidserier og dato som index\n",
    "\n",
    "Hvis dataene du jobber med er knyttet opp mot tid, bringer Pandas og Datetime en rekke funksjonaliteter knyttet itl å bruke tidsstempelet som index.\n",
    "\n",
    "I dette avsnittet skal vi ta en rask kikk på noen av funksjonalitetene, mor grundigere gjennomgang se:\n",
    "https://pandas.pydata.org/pandas-docs/stable/user_guide/timeseries.html\n",
    "\n",
    "Vi laster inn ett sett med værdata som er sammlet inn på times basis. Dette er et relativt stort datasett med ~4M records.\n",
    "Derfor begrenser vi antallet for denne demonstrasjonene til 6000.\n",
    "\n",
    "For at Python skal gi oss den fulle funksjonaliteten til å jobbe med tidsdata må vi fortelle python at dette er en tidsvariabel"
   ]
  },
  {
   "cell_type": "code",
   "execution_count": 12,
   "metadata": {
    "ExecuteTime": {
     "end_time": "2020-02-22T11:44:32.338215Z",
     "start_time": "2020-02-22T11:44:32.251174Z"
    },
    "scrolled": true
   },
   "outputs": [
    {
     "data": {
      "text/html": [
       "<div>\n",
       "<style scoped>\n",
       "    .dataframe tbody tr th:only-of-type {\n",
       "        vertical-align: middle;\n",
       "    }\n",
       "\n",
       "    .dataframe tbody tr th {\n",
       "        vertical-align: top;\n",
       "    }\n",
       "\n",
       "    .dataframe thead th {\n",
       "        text-align: right;\n",
       "    }\n",
       "</style>\n",
       "<table border=\"1\" class=\"dataframe\">\n",
       "  <thead>\n",
       "    <tr style=\"text-align: right;\">\n",
       "      <th></th>\n",
       "      <th>station</th>\n",
       "      <th>county</th>\n",
       "      <th>longitude</th>\n",
       "      <th>latitude</th>\n",
       "      <th>rain</th>\n",
       "      <th>temp</th>\n",
       "      <th>wetb</th>\n",
       "      <th>dewpt</th>\n",
       "      <th>vappr</th>\n",
       "      <th>rhum</th>\n",
       "      <th>msl</th>\n",
       "      <th>wdsp</th>\n",
       "      <th>wddir</th>\n",
       "      <th>ww</th>\n",
       "      <th>w</th>\n",
       "      <th>sun</th>\n",
       "      <th>vis</th>\n",
       "      <th>clht</th>\n",
       "      <th>clamt</th>\n",
       "    </tr>\n",
       "    <tr>\n",
       "      <th>date</th>\n",
       "      <th></th>\n",
       "      <th></th>\n",
       "      <th></th>\n",
       "      <th></th>\n",
       "      <th></th>\n",
       "      <th></th>\n",
       "      <th></th>\n",
       "      <th></th>\n",
       "      <th></th>\n",
       "      <th></th>\n",
       "      <th></th>\n",
       "      <th></th>\n",
       "      <th></th>\n",
       "      <th></th>\n",
       "      <th></th>\n",
       "      <th></th>\n",
       "      <th></th>\n",
       "      <th></th>\n",
       "      <th></th>\n",
       "    </tr>\n",
       "  </thead>\n",
       "  <tbody>\n",
       "    <tr>\n",
       "      <th>1989-01-01 00:00:00</th>\n",
       "      <td>Cork_Airport</td>\n",
       "      <td>Cork</td>\n",
       "      <td>-8.485</td>\n",
       "      <td>51.842</td>\n",
       "      <td>0.0</td>\n",
       "      <td>9.1</td>\n",
       "      <td>8.7</td>\n",
       "      <td>8.3</td>\n",
       "      <td>10.9</td>\n",
       "      <td>95.0</td>\n",
       "      <td>1036.3</td>\n",
       "      <td>13.0</td>\n",
       "      <td>190.0</td>\n",
       "      <td>10.0</td>\n",
       "      <td>22.0</td>\n",
       "      <td>0.0</td>\n",
       "      <td>10000.0</td>\n",
       "      <td>22.0</td>\n",
       "      <td>7.0</td>\n",
       "    </tr>\n",
       "    <tr>\n",
       "      <th>1989-01-01 01:00:00</th>\n",
       "      <td>Cork_Airport</td>\n",
       "      <td>Cork</td>\n",
       "      <td>-8.485</td>\n",
       "      <td>51.842</td>\n",
       "      <td>0.0</td>\n",
       "      <td>9.0</td>\n",
       "      <td>8.7</td>\n",
       "      <td>8.4</td>\n",
       "      <td>11.0</td>\n",
       "      <td>96.0</td>\n",
       "      <td>1036.2</td>\n",
       "      <td>13.0</td>\n",
       "      <td>190.0</td>\n",
       "      <td>10.0</td>\n",
       "      <td>22.0</td>\n",
       "      <td>0.0</td>\n",
       "      <td>8000.0</td>\n",
       "      <td>4.0</td>\n",
       "      <td>8.0</td>\n",
       "    </tr>\n",
       "    <tr>\n",
       "      <th>1989-01-01 02:00:00</th>\n",
       "      <td>Cork_Airport</td>\n",
       "      <td>Cork</td>\n",
       "      <td>-8.485</td>\n",
       "      <td>51.842</td>\n",
       "      <td>0.0</td>\n",
       "      <td>8.9</td>\n",
       "      <td>8.5</td>\n",
       "      <td>8.1</td>\n",
       "      <td>10.8</td>\n",
       "      <td>95.0</td>\n",
       "      <td>1036.0</td>\n",
       "      <td>12.0</td>\n",
       "      <td>190.0</td>\n",
       "      <td>10.0</td>\n",
       "      <td>22.0</td>\n",
       "      <td>0.0</td>\n",
       "      <td>8000.0</td>\n",
       "      <td>4.0</td>\n",
       "      <td>8.0</td>\n",
       "    </tr>\n",
       "    <tr>\n",
       "      <th>1989-01-01 03:00:00</th>\n",
       "      <td>Cork_Airport</td>\n",
       "      <td>Cork</td>\n",
       "      <td>-8.485</td>\n",
       "      <td>51.842</td>\n",
       "      <td>0.0</td>\n",
       "      <td>9.0</td>\n",
       "      <td>8.7</td>\n",
       "      <td>8.4</td>\n",
       "      <td>11.0</td>\n",
       "      <td>96.0</td>\n",
       "      <td>1035.9</td>\n",
       "      <td>11.0</td>\n",
       "      <td>190.0</td>\n",
       "      <td>10.0</td>\n",
       "      <td>22.0</td>\n",
       "      <td>0.0</td>\n",
       "      <td>8000.0</td>\n",
       "      <td>4.0</td>\n",
       "      <td>8.0</td>\n",
       "    </tr>\n",
       "    <tr>\n",
       "      <th>1989-01-01 04:00:00</th>\n",
       "      <td>Cork_Airport</td>\n",
       "      <td>Cork</td>\n",
       "      <td>-8.485</td>\n",
       "      <td>51.842</td>\n",
       "      <td>0.0</td>\n",
       "      <td>9.0</td>\n",
       "      <td>8.6</td>\n",
       "      <td>8.2</td>\n",
       "      <td>10.8</td>\n",
       "      <td>95.0</td>\n",
       "      <td>1035.8</td>\n",
       "      <td>10.0</td>\n",
       "      <td>190.0</td>\n",
       "      <td>10.0</td>\n",
       "      <td>22.0</td>\n",
       "      <td>0.0</td>\n",
       "      <td>10000.0</td>\n",
       "      <td>14.0</td>\n",
       "      <td>8.0</td>\n",
       "    </tr>\n",
       "  </tbody>\n",
       "</table>\n",
       "</div>"
      ],
      "text/plain": [
       "                          station county  longitude  latitude  rain  temp  \\\n",
       "date                                                                        \n",
       "1989-01-01 00:00:00  Cork_Airport   Cork     -8.485    51.842   0.0   9.1   \n",
       "1989-01-01 01:00:00  Cork_Airport   Cork     -8.485    51.842   0.0   9.0   \n",
       "1989-01-01 02:00:00  Cork_Airport   Cork     -8.485    51.842   0.0   8.9   \n",
       "1989-01-01 03:00:00  Cork_Airport   Cork     -8.485    51.842   0.0   9.0   \n",
       "1989-01-01 04:00:00  Cork_Airport   Cork     -8.485    51.842   0.0   9.0   \n",
       "\n",
       "                     wetb  dewpt  vappr  rhum     msl  wdsp  wddir    ww  \\\n",
       "date                                                                       \n",
       "1989-01-01 00:00:00   8.7    8.3   10.9  95.0  1036.3  13.0  190.0  10.0   \n",
       "1989-01-01 01:00:00   8.7    8.4   11.0  96.0  1036.2  13.0  190.0  10.0   \n",
       "1989-01-01 02:00:00   8.5    8.1   10.8  95.0  1036.0  12.0  190.0  10.0   \n",
       "1989-01-01 03:00:00   8.7    8.4   11.0  96.0  1035.9  11.0  190.0  10.0   \n",
       "1989-01-01 04:00:00   8.6    8.2   10.8  95.0  1035.8  10.0  190.0  10.0   \n",
       "\n",
       "                        w  sun      vis  clht  clamt  \n",
       "date                                                  \n",
       "1989-01-01 00:00:00  22.0  0.0  10000.0  22.0    7.0  \n",
       "1989-01-01 01:00:00  22.0  0.0   8000.0   4.0    8.0  \n",
       "1989-01-01 02:00:00  22.0  0.0   8000.0   4.0    8.0  \n",
       "1989-01-01 03:00:00  22.0  0.0   8000.0   4.0    8.0  \n",
       "1989-01-01 04:00:00  22.0  0.0  10000.0  14.0    8.0  "
      ]
     },
     "execution_count": 12,
     "metadata": {},
     "output_type": "execute_result"
    }
   ],
   "source": [
    "tidsserie = pd.read_csv('data/hourly_irish_weather.csv', nrows=6000)\n",
    "tidsserie = tidsserie.drop('Unnamed: 0', axis=1)\n",
    "tidsserie['date'] = pd.to_datetime(tidsserie['date'])\n",
    "tidsserie = tidsserie.set_index('date')\n",
    "tidsserie.head()"
   ]
  },
  {
   "cell_type": "code",
   "execution_count": 13,
   "metadata": {
    "ExecuteTime": {
     "end_time": "2020-02-22T11:44:33.688011Z",
     "start_time": "2020-02-22T11:44:33.679987Z"
    }
   },
   "outputs": [
    {
     "data": {
      "text/plain": [
       "DatetimeIndex(['1989-01-01 00:00:00', '1989-01-01 01:00:00',\n",
       "               '1989-01-01 02:00:00', '1989-01-01 03:00:00',\n",
       "               '1989-01-01 04:00:00', '1989-01-01 05:00:00',\n",
       "               '1989-01-01 06:00:00', '1989-01-01 07:00:00',\n",
       "               '1989-01-01 08:00:00', '1989-01-01 09:00:00',\n",
       "               ...\n",
       "               '1989-09-07 14:00:00', '1989-09-07 15:00:00',\n",
       "               '1989-09-07 16:00:00', '1989-09-07 17:00:00',\n",
       "               '1989-09-07 18:00:00', '1989-09-07 19:00:00',\n",
       "               '1989-09-07 20:00:00', '1989-09-07 21:00:00',\n",
       "               '1989-09-07 22:00:00', '1989-09-07 23:00:00'],\n",
       "              dtype='datetime64[ns]', name='date', length=6000, freq=None)"
      ]
     },
     "execution_count": 13,
     "metadata": {},
     "output_type": "execute_result"
    }
   ],
   "source": [
    "tidsserie.index"
   ]
  },
  {
   "cell_type": "markdown",
   "metadata": {},
   "source": [
    "En av styrkenen med å jobbe med tid på denne måten er at vi kan fortelle programmet hvor dataene er fra og knytte det til en tidssone. I dette tilfellet er datene fra Irland som ligger i UTC tidssonen."
   ]
  },
  {
   "cell_type": "code",
   "execution_count": 14,
   "metadata": {
    "ExecuteTime": {
     "end_time": "2020-02-22T11:44:45.530578Z",
     "start_time": "2020-02-22T11:44:45.499556Z"
    }
   },
   "outputs": [
    {
     "data": {
      "text/html": [
       "<div>\n",
       "<style scoped>\n",
       "    .dataframe tbody tr th:only-of-type {\n",
       "        vertical-align: middle;\n",
       "    }\n",
       "\n",
       "    .dataframe tbody tr th {\n",
       "        vertical-align: top;\n",
       "    }\n",
       "\n",
       "    .dataframe thead th {\n",
       "        text-align: right;\n",
       "    }\n",
       "</style>\n",
       "<table border=\"1\" class=\"dataframe\">\n",
       "  <thead>\n",
       "    <tr style=\"text-align: right;\">\n",
       "      <th></th>\n",
       "      <th>station</th>\n",
       "      <th>county</th>\n",
       "      <th>longitude</th>\n",
       "      <th>latitude</th>\n",
       "      <th>rain</th>\n",
       "      <th>temp</th>\n",
       "      <th>wetb</th>\n",
       "      <th>dewpt</th>\n",
       "      <th>vappr</th>\n",
       "      <th>rhum</th>\n",
       "      <th>msl</th>\n",
       "      <th>wdsp</th>\n",
       "      <th>wddir</th>\n",
       "      <th>ww</th>\n",
       "      <th>w</th>\n",
       "      <th>sun</th>\n",
       "      <th>vis</th>\n",
       "      <th>clht</th>\n",
       "      <th>clamt</th>\n",
       "    </tr>\n",
       "    <tr>\n",
       "      <th>date</th>\n",
       "      <th></th>\n",
       "      <th></th>\n",
       "      <th></th>\n",
       "      <th></th>\n",
       "      <th></th>\n",
       "      <th></th>\n",
       "      <th></th>\n",
       "      <th></th>\n",
       "      <th></th>\n",
       "      <th></th>\n",
       "      <th></th>\n",
       "      <th></th>\n",
       "      <th></th>\n",
       "      <th></th>\n",
       "      <th></th>\n",
       "      <th></th>\n",
       "      <th></th>\n",
       "      <th></th>\n",
       "      <th></th>\n",
       "    </tr>\n",
       "  </thead>\n",
       "  <tbody>\n",
       "    <tr>\n",
       "      <th>1989-01-01 00:00:00+00:00</th>\n",
       "      <td>Cork_Airport</td>\n",
       "      <td>Cork</td>\n",
       "      <td>-8.485</td>\n",
       "      <td>51.842</td>\n",
       "      <td>0.0</td>\n",
       "      <td>9.1</td>\n",
       "      <td>8.7</td>\n",
       "      <td>8.3</td>\n",
       "      <td>10.9</td>\n",
       "      <td>95.0</td>\n",
       "      <td>1036.3</td>\n",
       "      <td>13.0</td>\n",
       "      <td>190.0</td>\n",
       "      <td>10.0</td>\n",
       "      <td>22.0</td>\n",
       "      <td>0.0</td>\n",
       "      <td>10000.0</td>\n",
       "      <td>22.0</td>\n",
       "      <td>7.0</td>\n",
       "    </tr>\n",
       "    <tr>\n",
       "      <th>1989-01-01 01:00:00+00:00</th>\n",
       "      <td>Cork_Airport</td>\n",
       "      <td>Cork</td>\n",
       "      <td>-8.485</td>\n",
       "      <td>51.842</td>\n",
       "      <td>0.0</td>\n",
       "      <td>9.0</td>\n",
       "      <td>8.7</td>\n",
       "      <td>8.4</td>\n",
       "      <td>11.0</td>\n",
       "      <td>96.0</td>\n",
       "      <td>1036.2</td>\n",
       "      <td>13.0</td>\n",
       "      <td>190.0</td>\n",
       "      <td>10.0</td>\n",
       "      <td>22.0</td>\n",
       "      <td>0.0</td>\n",
       "      <td>8000.0</td>\n",
       "      <td>4.0</td>\n",
       "      <td>8.0</td>\n",
       "    </tr>\n",
       "    <tr>\n",
       "      <th>1989-01-01 02:00:00+00:00</th>\n",
       "      <td>Cork_Airport</td>\n",
       "      <td>Cork</td>\n",
       "      <td>-8.485</td>\n",
       "      <td>51.842</td>\n",
       "      <td>0.0</td>\n",
       "      <td>8.9</td>\n",
       "      <td>8.5</td>\n",
       "      <td>8.1</td>\n",
       "      <td>10.8</td>\n",
       "      <td>95.0</td>\n",
       "      <td>1036.0</td>\n",
       "      <td>12.0</td>\n",
       "      <td>190.0</td>\n",
       "      <td>10.0</td>\n",
       "      <td>22.0</td>\n",
       "      <td>0.0</td>\n",
       "      <td>8000.0</td>\n",
       "      <td>4.0</td>\n",
       "      <td>8.0</td>\n",
       "    </tr>\n",
       "    <tr>\n",
       "      <th>1989-01-01 03:00:00+00:00</th>\n",
       "      <td>Cork_Airport</td>\n",
       "      <td>Cork</td>\n",
       "      <td>-8.485</td>\n",
       "      <td>51.842</td>\n",
       "      <td>0.0</td>\n",
       "      <td>9.0</td>\n",
       "      <td>8.7</td>\n",
       "      <td>8.4</td>\n",
       "      <td>11.0</td>\n",
       "      <td>96.0</td>\n",
       "      <td>1035.9</td>\n",
       "      <td>11.0</td>\n",
       "      <td>190.0</td>\n",
       "      <td>10.0</td>\n",
       "      <td>22.0</td>\n",
       "      <td>0.0</td>\n",
       "      <td>8000.0</td>\n",
       "      <td>4.0</td>\n",
       "      <td>8.0</td>\n",
       "    </tr>\n",
       "    <tr>\n",
       "      <th>1989-01-01 04:00:00+00:00</th>\n",
       "      <td>Cork_Airport</td>\n",
       "      <td>Cork</td>\n",
       "      <td>-8.485</td>\n",
       "      <td>51.842</td>\n",
       "      <td>0.0</td>\n",
       "      <td>9.0</td>\n",
       "      <td>8.6</td>\n",
       "      <td>8.2</td>\n",
       "      <td>10.8</td>\n",
       "      <td>95.0</td>\n",
       "      <td>1035.8</td>\n",
       "      <td>10.0</td>\n",
       "      <td>190.0</td>\n",
       "      <td>10.0</td>\n",
       "      <td>22.0</td>\n",
       "      <td>0.0</td>\n",
       "      <td>10000.0</td>\n",
       "      <td>14.0</td>\n",
       "      <td>8.0</td>\n",
       "    </tr>\n",
       "  </tbody>\n",
       "</table>\n",
       "</div>"
      ],
      "text/plain": [
       "                                station county  longitude  latitude  rain  \\\n",
       "date                                                                        \n",
       "1989-01-01 00:00:00+00:00  Cork_Airport   Cork     -8.485    51.842   0.0   \n",
       "1989-01-01 01:00:00+00:00  Cork_Airport   Cork     -8.485    51.842   0.0   \n",
       "1989-01-01 02:00:00+00:00  Cork_Airport   Cork     -8.485    51.842   0.0   \n",
       "1989-01-01 03:00:00+00:00  Cork_Airport   Cork     -8.485    51.842   0.0   \n",
       "1989-01-01 04:00:00+00:00  Cork_Airport   Cork     -8.485    51.842   0.0   \n",
       "\n",
       "                           temp  wetb  dewpt  vappr  rhum     msl  wdsp  \\\n",
       "date                                                                      \n",
       "1989-01-01 00:00:00+00:00   9.1   8.7    8.3   10.9  95.0  1036.3  13.0   \n",
       "1989-01-01 01:00:00+00:00   9.0   8.7    8.4   11.0  96.0  1036.2  13.0   \n",
       "1989-01-01 02:00:00+00:00   8.9   8.5    8.1   10.8  95.0  1036.0  12.0   \n",
       "1989-01-01 03:00:00+00:00   9.0   8.7    8.4   11.0  96.0  1035.9  11.0   \n",
       "1989-01-01 04:00:00+00:00   9.0   8.6    8.2   10.8  95.0  1035.8  10.0   \n",
       "\n",
       "                           wddir    ww     w  sun      vis  clht  clamt  \n",
       "date                                                                     \n",
       "1989-01-01 00:00:00+00:00  190.0  10.0  22.0  0.0  10000.0  22.0    7.0  \n",
       "1989-01-01 01:00:00+00:00  190.0  10.0  22.0  0.0   8000.0   4.0    8.0  \n",
       "1989-01-01 02:00:00+00:00  190.0  10.0  22.0  0.0   8000.0   4.0    8.0  \n",
       "1989-01-01 03:00:00+00:00  190.0  10.0  22.0  0.0   8000.0   4.0    8.0  \n",
       "1989-01-01 04:00:00+00:00  190.0  10.0  22.0  0.0  10000.0  14.0    8.0  "
      ]
     },
     "execution_count": 14,
     "metadata": {},
     "output_type": "execute_result"
    }
   ],
   "source": [
    "tidsserie = tidsserie.tz_localize('UTC')\n",
    "tidsserie.head()"
   ]
  },
  {
   "cell_type": "markdown",
   "metadata": {},
   "source": [
    "Vi ønsker imidertid å sammenligne værforholdene i irrland med en eller annen hendelse i norge på samme tid. Hvis vi kobler dataene slik de er, vil dette ikke stemme overens da Irland er en time bak oss. Vi må derfor konvertere alle tidsstempler til nåværende tidspunkt. \n",
    "\n",
    "Når vi har stedfestet dataene er det så enkelt som å fortelle dataene hvilken tidserie vi ønsker og jobbe med. I dette tilfellet CET."
   ]
  },
  {
   "cell_type": "code",
   "execution_count": 15,
   "metadata": {
    "ExecuteTime": {
     "end_time": "2020-02-22T11:44:49.349954Z",
     "start_time": "2020-02-22T11:44:49.313952Z"
    }
   },
   "outputs": [
    {
     "data": {
      "text/html": [
       "<div>\n",
       "<style scoped>\n",
       "    .dataframe tbody tr th:only-of-type {\n",
       "        vertical-align: middle;\n",
       "    }\n",
       "\n",
       "    .dataframe tbody tr th {\n",
       "        vertical-align: top;\n",
       "    }\n",
       "\n",
       "    .dataframe thead th {\n",
       "        text-align: right;\n",
       "    }\n",
       "</style>\n",
       "<table border=\"1\" class=\"dataframe\">\n",
       "  <thead>\n",
       "    <tr style=\"text-align: right;\">\n",
       "      <th></th>\n",
       "      <th>station</th>\n",
       "      <th>county</th>\n",
       "      <th>longitude</th>\n",
       "      <th>latitude</th>\n",
       "      <th>rain</th>\n",
       "      <th>temp</th>\n",
       "      <th>wetb</th>\n",
       "      <th>dewpt</th>\n",
       "      <th>vappr</th>\n",
       "      <th>rhum</th>\n",
       "      <th>msl</th>\n",
       "      <th>wdsp</th>\n",
       "      <th>wddir</th>\n",
       "      <th>ww</th>\n",
       "      <th>w</th>\n",
       "      <th>sun</th>\n",
       "      <th>vis</th>\n",
       "      <th>clht</th>\n",
       "      <th>clamt</th>\n",
       "    </tr>\n",
       "    <tr>\n",
       "      <th>date</th>\n",
       "      <th></th>\n",
       "      <th></th>\n",
       "      <th></th>\n",
       "      <th></th>\n",
       "      <th></th>\n",
       "      <th></th>\n",
       "      <th></th>\n",
       "      <th></th>\n",
       "      <th></th>\n",
       "      <th></th>\n",
       "      <th></th>\n",
       "      <th></th>\n",
       "      <th></th>\n",
       "      <th></th>\n",
       "      <th></th>\n",
       "      <th></th>\n",
       "      <th></th>\n",
       "      <th></th>\n",
       "      <th></th>\n",
       "    </tr>\n",
       "  </thead>\n",
       "  <tbody>\n",
       "    <tr>\n",
       "      <th>1989-01-01 01:00:00+01:00</th>\n",
       "      <td>Cork_Airport</td>\n",
       "      <td>Cork</td>\n",
       "      <td>-8.485</td>\n",
       "      <td>51.842</td>\n",
       "      <td>0.0</td>\n",
       "      <td>9.1</td>\n",
       "      <td>8.7</td>\n",
       "      <td>8.3</td>\n",
       "      <td>10.9</td>\n",
       "      <td>95.0</td>\n",
       "      <td>1036.3</td>\n",
       "      <td>13.0</td>\n",
       "      <td>190.0</td>\n",
       "      <td>10.0</td>\n",
       "      <td>22.0</td>\n",
       "      <td>0.0</td>\n",
       "      <td>10000.0</td>\n",
       "      <td>22.0</td>\n",
       "      <td>7.0</td>\n",
       "    </tr>\n",
       "    <tr>\n",
       "      <th>1989-01-01 02:00:00+01:00</th>\n",
       "      <td>Cork_Airport</td>\n",
       "      <td>Cork</td>\n",
       "      <td>-8.485</td>\n",
       "      <td>51.842</td>\n",
       "      <td>0.0</td>\n",
       "      <td>9.0</td>\n",
       "      <td>8.7</td>\n",
       "      <td>8.4</td>\n",
       "      <td>11.0</td>\n",
       "      <td>96.0</td>\n",
       "      <td>1036.2</td>\n",
       "      <td>13.0</td>\n",
       "      <td>190.0</td>\n",
       "      <td>10.0</td>\n",
       "      <td>22.0</td>\n",
       "      <td>0.0</td>\n",
       "      <td>8000.0</td>\n",
       "      <td>4.0</td>\n",
       "      <td>8.0</td>\n",
       "    </tr>\n",
       "    <tr>\n",
       "      <th>1989-01-01 03:00:00+01:00</th>\n",
       "      <td>Cork_Airport</td>\n",
       "      <td>Cork</td>\n",
       "      <td>-8.485</td>\n",
       "      <td>51.842</td>\n",
       "      <td>0.0</td>\n",
       "      <td>8.9</td>\n",
       "      <td>8.5</td>\n",
       "      <td>8.1</td>\n",
       "      <td>10.8</td>\n",
       "      <td>95.0</td>\n",
       "      <td>1036.0</td>\n",
       "      <td>12.0</td>\n",
       "      <td>190.0</td>\n",
       "      <td>10.0</td>\n",
       "      <td>22.0</td>\n",
       "      <td>0.0</td>\n",
       "      <td>8000.0</td>\n",
       "      <td>4.0</td>\n",
       "      <td>8.0</td>\n",
       "    </tr>\n",
       "    <tr>\n",
       "      <th>1989-01-01 04:00:00+01:00</th>\n",
       "      <td>Cork_Airport</td>\n",
       "      <td>Cork</td>\n",
       "      <td>-8.485</td>\n",
       "      <td>51.842</td>\n",
       "      <td>0.0</td>\n",
       "      <td>9.0</td>\n",
       "      <td>8.7</td>\n",
       "      <td>8.4</td>\n",
       "      <td>11.0</td>\n",
       "      <td>96.0</td>\n",
       "      <td>1035.9</td>\n",
       "      <td>11.0</td>\n",
       "      <td>190.0</td>\n",
       "      <td>10.0</td>\n",
       "      <td>22.0</td>\n",
       "      <td>0.0</td>\n",
       "      <td>8000.0</td>\n",
       "      <td>4.0</td>\n",
       "      <td>8.0</td>\n",
       "    </tr>\n",
       "    <tr>\n",
       "      <th>1989-01-01 05:00:00+01:00</th>\n",
       "      <td>Cork_Airport</td>\n",
       "      <td>Cork</td>\n",
       "      <td>-8.485</td>\n",
       "      <td>51.842</td>\n",
       "      <td>0.0</td>\n",
       "      <td>9.0</td>\n",
       "      <td>8.6</td>\n",
       "      <td>8.2</td>\n",
       "      <td>10.8</td>\n",
       "      <td>95.0</td>\n",
       "      <td>1035.8</td>\n",
       "      <td>10.0</td>\n",
       "      <td>190.0</td>\n",
       "      <td>10.0</td>\n",
       "      <td>22.0</td>\n",
       "      <td>0.0</td>\n",
       "      <td>10000.0</td>\n",
       "      <td>14.0</td>\n",
       "      <td>8.0</td>\n",
       "    </tr>\n",
       "  </tbody>\n",
       "</table>\n",
       "</div>"
      ],
      "text/plain": [
       "                                station county  longitude  latitude  rain  \\\n",
       "date                                                                        \n",
       "1989-01-01 01:00:00+01:00  Cork_Airport   Cork     -8.485    51.842   0.0   \n",
       "1989-01-01 02:00:00+01:00  Cork_Airport   Cork     -8.485    51.842   0.0   \n",
       "1989-01-01 03:00:00+01:00  Cork_Airport   Cork     -8.485    51.842   0.0   \n",
       "1989-01-01 04:00:00+01:00  Cork_Airport   Cork     -8.485    51.842   0.0   \n",
       "1989-01-01 05:00:00+01:00  Cork_Airport   Cork     -8.485    51.842   0.0   \n",
       "\n",
       "                           temp  wetb  dewpt  vappr  rhum     msl  wdsp  \\\n",
       "date                                                                      \n",
       "1989-01-01 01:00:00+01:00   9.1   8.7    8.3   10.9  95.0  1036.3  13.0   \n",
       "1989-01-01 02:00:00+01:00   9.0   8.7    8.4   11.0  96.0  1036.2  13.0   \n",
       "1989-01-01 03:00:00+01:00   8.9   8.5    8.1   10.8  95.0  1036.0  12.0   \n",
       "1989-01-01 04:00:00+01:00   9.0   8.7    8.4   11.0  96.0  1035.9  11.0   \n",
       "1989-01-01 05:00:00+01:00   9.0   8.6    8.2   10.8  95.0  1035.8  10.0   \n",
       "\n",
       "                           wddir    ww     w  sun      vis  clht  clamt  \n",
       "date                                                                     \n",
       "1989-01-01 01:00:00+01:00  190.0  10.0  22.0  0.0  10000.0  22.0    7.0  \n",
       "1989-01-01 02:00:00+01:00  190.0  10.0  22.0  0.0   8000.0   4.0    8.0  \n",
       "1989-01-01 03:00:00+01:00  190.0  10.0  22.0  0.0   8000.0   4.0    8.0  \n",
       "1989-01-01 04:00:00+01:00  190.0  10.0  22.0  0.0   8000.0   4.0    8.0  \n",
       "1989-01-01 05:00:00+01:00  190.0  10.0  22.0  0.0  10000.0  14.0    8.0  "
      ]
     },
     "execution_count": 15,
     "metadata": {},
     "output_type": "execute_result"
    }
   ],
   "source": [
    "tidsserie = tidsserie.tz_convert('CET')\n",
    "tidsserie.head()"
   ]
  },
  {
   "cell_type": "markdown",
   "metadata": {},
   "source": [
    "Å sette tidsone er selvfølgelig ikke det eneste vi kan.\n",
    "\n",
    "Dataene over har 1-times intervaller, og selv om dette er meget detaljert gir det oss ikke den informasjonen vi ønsker. Vi er mer interessert i snitt regn per dag. Pandas tidserier tilater oss og benytte ett intuitivt språk for a `resample` (aggregere) over tidsintervaller.\n",
    "\n",
    "* B         business day frequency\n",
    "* C         custom business day frequency (experimental)\n",
    "* D         calendar day frequency\n",
    "* W         weekly frequency\n",
    "* M         month end frequency\n",
    "* SM        semi-month end frequency (15th and end of month)\n",
    "* BM        business month end frequency\n",
    "* CBM       custom business month end frequency\n",
    "* MS        month start frequency\n",
    "* SMS       semi-month start frequency (1st and 15th)\n",
    "* BMS       business month start frequency\n",
    "* CBMS      custom business month start frequency\n",
    "* Q         quarter end frequency\n",
    "* BQ        business quarter endfrequency\n",
    "* QS        quarter start frequency\n",
    "* BQS       business quarter start frequency\n",
    "* A         year end frequency\n",
    "* BA, BY    business year end frequency\n",
    "* AS, YS    year start frequency\n",
    "* BAS, BYS  business year start frequency\n",
    "* BH        business hour frequency\n",
    "* H         hourly frequency\n",
    "* T, min    minutely frequency\n",
    "* S         secondly frequency\n",
    "* L, ms     milliseconds\n",
    "* U, us     microseconds\n",
    "* N         nanoseconds"
   ]
  },
  {
   "cell_type": "code",
   "execution_count": 16,
   "metadata": {
    "ExecuteTime": {
     "end_time": "2020-02-22T11:44:52.315442Z",
     "start_time": "2020-02-22T11:44:52.296426Z"
    }
   },
   "outputs": [
    {
     "data": {
      "text/plain": [
       "station       date                     \n",
       "Cork_Airport  1989-01-01 00:00:00+01:00    0.000000\n",
       "              1989-01-02 00:00:00+01:00    0.050000\n",
       "              1989-01-03 00:00:00+01:00    0.391667\n",
       "              1989-01-04 00:00:00+01:00    0.116667\n",
       "              1989-01-05 00:00:00+01:00    0.345833\n",
       "Name: rain, dtype: float64"
      ]
     },
     "execution_count": 16,
     "metadata": {},
     "output_type": "execute_result"
    }
   ],
   "source": [
    "snitt_regn = tidsserie.groupby('station')['rain'].resample('1D').mean()\n",
    "snitt_regn.head()"
   ]
  },
  {
   "cell_type": "markdown",
   "metadata": {},
   "source": [
    "Dersom du agregerer til en lavere frekvens kallse dette **Downsampling** og du må angi en funksjon for hvordan dataene skal aggregeres. Dersom du går til en høyere frekvens kalles dette **Upsampling** I utgangspunktet vil dette føre til at datakolonnen inneholder `NaN` (not a number) verdier. Dette kan ungås ved å angi en `.pad()` verdi, `.bfill()` eller lignende funksjoner."
   ]
  },
  {
   "cell_type": "markdown",
   "metadata": {},
   "source": [
    "En annen nyttig funksjon er å kunne filtrere dataene med utgangspunkt i tidspunktene. For å kunne gjøre dette må vi som sagt ha definert tidstempelet som indeks. Her henter vi ut all data for 5. jan 1989."
   ]
  },
  {
   "cell_type": "code",
   "execution_count": 17,
   "metadata": {
    "ExecuteTime": {
     "end_time": "2020-02-22T11:44:54.418001Z",
     "start_time": "2020-02-22T11:44:54.377991Z"
    }
   },
   "outputs": [
    {
     "data": {
      "text/html": [
       "<div>\n",
       "<style scoped>\n",
       "    .dataframe tbody tr th:only-of-type {\n",
       "        vertical-align: middle;\n",
       "    }\n",
       "\n",
       "    .dataframe tbody tr th {\n",
       "        vertical-align: top;\n",
       "    }\n",
       "\n",
       "    .dataframe thead th {\n",
       "        text-align: right;\n",
       "    }\n",
       "</style>\n",
       "<table border=\"1\" class=\"dataframe\">\n",
       "  <thead>\n",
       "    <tr style=\"text-align: right;\">\n",
       "      <th></th>\n",
       "      <th>station</th>\n",
       "      <th>county</th>\n",
       "      <th>longitude</th>\n",
       "      <th>latitude</th>\n",
       "      <th>rain</th>\n",
       "      <th>temp</th>\n",
       "      <th>wetb</th>\n",
       "      <th>dewpt</th>\n",
       "      <th>vappr</th>\n",
       "      <th>rhum</th>\n",
       "      <th>msl</th>\n",
       "      <th>wdsp</th>\n",
       "      <th>wddir</th>\n",
       "      <th>ww</th>\n",
       "      <th>w</th>\n",
       "      <th>sun</th>\n",
       "      <th>vis</th>\n",
       "      <th>clht</th>\n",
       "      <th>clamt</th>\n",
       "    </tr>\n",
       "    <tr>\n",
       "      <th>date</th>\n",
       "      <th></th>\n",
       "      <th></th>\n",
       "      <th></th>\n",
       "      <th></th>\n",
       "      <th></th>\n",
       "      <th></th>\n",
       "      <th></th>\n",
       "      <th></th>\n",
       "      <th></th>\n",
       "      <th></th>\n",
       "      <th></th>\n",
       "      <th></th>\n",
       "      <th></th>\n",
       "      <th></th>\n",
       "      <th></th>\n",
       "      <th></th>\n",
       "      <th></th>\n",
       "      <th></th>\n",
       "      <th></th>\n",
       "    </tr>\n",
       "  </thead>\n",
       "  <tbody>\n",
       "    <tr>\n",
       "      <th>1989-01-05 00:00:00+01:00</th>\n",
       "      <td>Cork_Airport</td>\n",
       "      <td>Cork</td>\n",
       "      <td>-8.485</td>\n",
       "      <td>51.842</td>\n",
       "      <td>0.0</td>\n",
       "      <td>3.5</td>\n",
       "      <td>2.5</td>\n",
       "      <td>0.9</td>\n",
       "      <td>6.5</td>\n",
       "      <td>83.0</td>\n",
       "      <td>1030.3</td>\n",
       "      <td>9.0</td>\n",
       "      <td>260.0</td>\n",
       "      <td>2.0</td>\n",
       "      <td>11.0</td>\n",
       "      <td>0.0</td>\n",
       "      <td>40000.0</td>\n",
       "      <td>200.0</td>\n",
       "      <td>6.0</td>\n",
       "    </tr>\n",
       "    <tr>\n",
       "      <th>1989-01-05 01:00:00+01:00</th>\n",
       "      <td>Cork_Airport</td>\n",
       "      <td>Cork</td>\n",
       "      <td>-8.485</td>\n",
       "      <td>51.842</td>\n",
       "      <td>0.0</td>\n",
       "      <td>3.1</td>\n",
       "      <td>2.6</td>\n",
       "      <td>1.8</td>\n",
       "      <td>7.0</td>\n",
       "      <td>91.0</td>\n",
       "      <td>1030.6</td>\n",
       "      <td>6.0</td>\n",
       "      <td>240.0</td>\n",
       "      <td>2.0</td>\n",
       "      <td>81.0</td>\n",
       "      <td>0.0</td>\n",
       "      <td>40000.0</td>\n",
       "      <td>200.0</td>\n",
       "      <td>6.0</td>\n",
       "    </tr>\n",
       "    <tr>\n",
       "      <th>1989-01-05 02:00:00+01:00</th>\n",
       "      <td>Cork_Airport</td>\n",
       "      <td>Cork</td>\n",
       "      <td>-8.485</td>\n",
       "      <td>51.842</td>\n",
       "      <td>0.0</td>\n",
       "      <td>4.4</td>\n",
       "      <td>3.5</td>\n",
       "      <td>2.1</td>\n",
       "      <td>7.1</td>\n",
       "      <td>85.0</td>\n",
       "      <td>1030.3</td>\n",
       "      <td>7.0</td>\n",
       "      <td>230.0</td>\n",
       "      <td>2.0</td>\n",
       "      <td>11.0</td>\n",
       "      <td>0.0</td>\n",
       "      <td>30000.0</td>\n",
       "      <td>999.0</td>\n",
       "      <td>4.0</td>\n",
       "    </tr>\n",
       "    <tr>\n",
       "      <th>1989-01-05 03:00:00+01:00</th>\n",
       "      <td>Cork_Airport</td>\n",
       "      <td>Cork</td>\n",
       "      <td>-8.485</td>\n",
       "      <td>51.842</td>\n",
       "      <td>0.0</td>\n",
       "      <td>4.4</td>\n",
       "      <td>3.6</td>\n",
       "      <td>2.4</td>\n",
       "      <td>7.3</td>\n",
       "      <td>87.0</td>\n",
       "      <td>1029.7</td>\n",
       "      <td>7.0</td>\n",
       "      <td>210.0</td>\n",
       "      <td>2.0</td>\n",
       "      <td>11.0</td>\n",
       "      <td>0.0</td>\n",
       "      <td>30000.0</td>\n",
       "      <td>999.0</td>\n",
       "      <td>3.0</td>\n",
       "    </tr>\n",
       "    <tr>\n",
       "      <th>1989-01-05 04:00:00+01:00</th>\n",
       "      <td>Cork_Airport</td>\n",
       "      <td>Cork</td>\n",
       "      <td>-8.485</td>\n",
       "      <td>51.842</td>\n",
       "      <td>0.0</td>\n",
       "      <td>5.5</td>\n",
       "      <td>4.4</td>\n",
       "      <td>2.8</td>\n",
       "      <td>7.5</td>\n",
       "      <td>83.0</td>\n",
       "      <td>1029.4</td>\n",
       "      <td>7.0</td>\n",
       "      <td>210.0</td>\n",
       "      <td>2.0</td>\n",
       "      <td>11.0</td>\n",
       "      <td>0.0</td>\n",
       "      <td>30000.0</td>\n",
       "      <td>35.0</td>\n",
       "      <td>5.0</td>\n",
       "    </tr>\n",
       "    <tr>\n",
       "      <th>1989-01-05 05:00:00+01:00</th>\n",
       "      <td>Cork_Airport</td>\n",
       "      <td>Cork</td>\n",
       "      <td>-8.485</td>\n",
       "      <td>51.842</td>\n",
       "      <td>0.0</td>\n",
       "      <td>5.7</td>\n",
       "      <td>5.1</td>\n",
       "      <td>4.3</td>\n",
       "      <td>8.3</td>\n",
       "      <td>91.0</td>\n",
       "      <td>1028.3</td>\n",
       "      <td>9.0</td>\n",
       "      <td>210.0</td>\n",
       "      <td>2.0</td>\n",
       "      <td>11.0</td>\n",
       "      <td>0.0</td>\n",
       "      <td>30000.0</td>\n",
       "      <td>35.0</td>\n",
       "      <td>5.0</td>\n",
       "    </tr>\n",
       "    <tr>\n",
       "      <th>1989-01-05 06:00:00+01:00</th>\n",
       "      <td>Cork_Airport</td>\n",
       "      <td>Cork</td>\n",
       "      <td>-8.485</td>\n",
       "      <td>51.842</td>\n",
       "      <td>0.0</td>\n",
       "      <td>6.5</td>\n",
       "      <td>6.1</td>\n",
       "      <td>5.6</td>\n",
       "      <td>9.1</td>\n",
       "      <td>94.0</td>\n",
       "      <td>1027.3</td>\n",
       "      <td>10.0</td>\n",
       "      <td>210.0</td>\n",
       "      <td>60.0</td>\n",
       "      <td>62.0</td>\n",
       "      <td>0.0</td>\n",
       "      <td>20000.0</td>\n",
       "      <td>15.0</td>\n",
       "      <td>8.0</td>\n",
       "    </tr>\n",
       "    <tr>\n",
       "      <th>1989-01-05 07:00:00+01:00</th>\n",
       "      <td>Cork_Airport</td>\n",
       "      <td>Cork</td>\n",
       "      <td>-8.485</td>\n",
       "      <td>51.842</td>\n",
       "      <td>0.2</td>\n",
       "      <td>7.6</td>\n",
       "      <td>7.4</td>\n",
       "      <td>7.2</td>\n",
       "      <td>10.1</td>\n",
       "      <td>97.0</td>\n",
       "      <td>1026.3</td>\n",
       "      <td>11.0</td>\n",
       "      <td>200.0</td>\n",
       "      <td>60.0</td>\n",
       "      <td>62.0</td>\n",
       "      <td>0.0</td>\n",
       "      <td>20000.0</td>\n",
       "      <td>5.0</td>\n",
       "      <td>8.0</td>\n",
       "    </tr>\n",
       "    <tr>\n",
       "      <th>1989-01-05 08:00:00+01:00</th>\n",
       "      <td>Cork_Airport</td>\n",
       "      <td>Cork</td>\n",
       "      <td>-8.485</td>\n",
       "      <td>51.842</td>\n",
       "      <td>0.9</td>\n",
       "      <td>8.6</td>\n",
       "      <td>8.3</td>\n",
       "      <td>8.0</td>\n",
       "      <td>10.7</td>\n",
       "      <td>96.0</td>\n",
       "      <td>1024.7</td>\n",
       "      <td>17.0</td>\n",
       "      <td>200.0</td>\n",
       "      <td>61.0</td>\n",
       "      <td>62.0</td>\n",
       "      <td>0.0</td>\n",
       "      <td>20000.0</td>\n",
       "      <td>5.0</td>\n",
       "      <td>8.0</td>\n",
       "    </tr>\n",
       "    <tr>\n",
       "      <th>1989-01-05 09:00:00+01:00</th>\n",
       "      <td>Cork_Airport</td>\n",
       "      <td>Cork</td>\n",
       "      <td>-8.485</td>\n",
       "      <td>51.842</td>\n",
       "      <td>0.5</td>\n",
       "      <td>9.2</td>\n",
       "      <td>8.8</td>\n",
       "      <td>8.4</td>\n",
       "      <td>11.0</td>\n",
       "      <td>95.0</td>\n",
       "      <td>1023.7</td>\n",
       "      <td>18.0</td>\n",
       "      <td>210.0</td>\n",
       "      <td>61.0</td>\n",
       "      <td>62.0</td>\n",
       "      <td>0.0</td>\n",
       "      <td>20000.0</td>\n",
       "      <td>7.0</td>\n",
       "      <td>8.0</td>\n",
       "    </tr>\n",
       "  </tbody>\n",
       "</table>\n",
       "</div>"
      ],
      "text/plain": [
       "                                station county  longitude  latitude  rain  \\\n",
       "date                                                                        \n",
       "1989-01-05 00:00:00+01:00  Cork_Airport   Cork     -8.485    51.842   0.0   \n",
       "1989-01-05 01:00:00+01:00  Cork_Airport   Cork     -8.485    51.842   0.0   \n",
       "1989-01-05 02:00:00+01:00  Cork_Airport   Cork     -8.485    51.842   0.0   \n",
       "1989-01-05 03:00:00+01:00  Cork_Airport   Cork     -8.485    51.842   0.0   \n",
       "1989-01-05 04:00:00+01:00  Cork_Airport   Cork     -8.485    51.842   0.0   \n",
       "1989-01-05 05:00:00+01:00  Cork_Airport   Cork     -8.485    51.842   0.0   \n",
       "1989-01-05 06:00:00+01:00  Cork_Airport   Cork     -8.485    51.842   0.0   \n",
       "1989-01-05 07:00:00+01:00  Cork_Airport   Cork     -8.485    51.842   0.2   \n",
       "1989-01-05 08:00:00+01:00  Cork_Airport   Cork     -8.485    51.842   0.9   \n",
       "1989-01-05 09:00:00+01:00  Cork_Airport   Cork     -8.485    51.842   0.5   \n",
       "\n",
       "                           temp  wetb  dewpt  vappr  rhum     msl  wdsp  \\\n",
       "date                                                                      \n",
       "1989-01-05 00:00:00+01:00   3.5   2.5    0.9    6.5  83.0  1030.3   9.0   \n",
       "1989-01-05 01:00:00+01:00   3.1   2.6    1.8    7.0  91.0  1030.6   6.0   \n",
       "1989-01-05 02:00:00+01:00   4.4   3.5    2.1    7.1  85.0  1030.3   7.0   \n",
       "1989-01-05 03:00:00+01:00   4.4   3.6    2.4    7.3  87.0  1029.7   7.0   \n",
       "1989-01-05 04:00:00+01:00   5.5   4.4    2.8    7.5  83.0  1029.4   7.0   \n",
       "1989-01-05 05:00:00+01:00   5.7   5.1    4.3    8.3  91.0  1028.3   9.0   \n",
       "1989-01-05 06:00:00+01:00   6.5   6.1    5.6    9.1  94.0  1027.3  10.0   \n",
       "1989-01-05 07:00:00+01:00   7.6   7.4    7.2   10.1  97.0  1026.3  11.0   \n",
       "1989-01-05 08:00:00+01:00   8.6   8.3    8.0   10.7  96.0  1024.7  17.0   \n",
       "1989-01-05 09:00:00+01:00   9.2   8.8    8.4   11.0  95.0  1023.7  18.0   \n",
       "\n",
       "                           wddir    ww     w  sun      vis   clht  clamt  \n",
       "date                                                                      \n",
       "1989-01-05 00:00:00+01:00  260.0   2.0  11.0  0.0  40000.0  200.0    6.0  \n",
       "1989-01-05 01:00:00+01:00  240.0   2.0  81.0  0.0  40000.0  200.0    6.0  \n",
       "1989-01-05 02:00:00+01:00  230.0   2.0  11.0  0.0  30000.0  999.0    4.0  \n",
       "1989-01-05 03:00:00+01:00  210.0   2.0  11.0  0.0  30000.0  999.0    3.0  \n",
       "1989-01-05 04:00:00+01:00  210.0   2.0  11.0  0.0  30000.0   35.0    5.0  \n",
       "1989-01-05 05:00:00+01:00  210.0   2.0  11.0  0.0  30000.0   35.0    5.0  \n",
       "1989-01-05 06:00:00+01:00  210.0  60.0  62.0  0.0  20000.0   15.0    8.0  \n",
       "1989-01-05 07:00:00+01:00  200.0  60.0  62.0  0.0  20000.0    5.0    8.0  \n",
       "1989-01-05 08:00:00+01:00  200.0  61.0  62.0  0.0  20000.0    5.0    8.0  \n",
       "1989-01-05 09:00:00+01:00  210.0  61.0  62.0  0.0  20000.0    7.0    8.0  "
      ]
     },
     "execution_count": 17,
     "metadata": {},
     "output_type": "execute_result"
    }
   ],
   "source": [
    "tidsserie['1989/01/05'].head(10)"
   ]
  },
  {
   "cell_type": "code",
   "execution_count": 18,
   "metadata": {
    "ExecuteTime": {
     "end_time": "2020-02-22T11:45:41.257799Z",
     "start_time": "2020-02-22T11:45:41.230794Z"
    }
   },
   "outputs": [
    {
     "data": {
      "text/plain": [
       "date\n",
       "1989-01-01 00:00:00+01:00     0.0\n",
       "1989-01-08 00:00:00+01:00    24.7\n",
       "1989-01-15 00:00:00+01:00    31.5\n",
       "1989-01-22 00:00:00+01:00    20.1\n",
       "1989-01-29 00:00:00+01:00    23.9\n",
       "1989-02-05 00:00:00+01:00     6.7\n",
       "1989-02-12 00:00:00+01:00    23.9\n",
       "1989-02-19 00:00:00+01:00    48.1\n",
       "Freq: W-SUN, Name: rain, dtype: float64"
      ]
     },
     "execution_count": 18,
     "metadata": {},
     "output_type": "execute_result"
    }
   ],
   "source": [
    "total_ukes_regn = tidsserie['rain'].resample('1W').sum()\n",
    "total_ukes_regn.head(8)"
   ]
  },
  {
   "cell_type": "markdown",
   "metadata": {},
   "source": [
    "Vi trenger ikke spesifisere det Eksakte tidspunktet vi ønsker å hente ut. Ved å oppgi en lavere frekvens i slicen kan vi hente et større tidsspenn. f.eks alle datene for feb 1989"
   ]
  },
  {
   "cell_type": "code",
   "execution_count": 19,
   "metadata": {
    "ExecuteTime": {
     "end_time": "2020-02-22T11:46:18.091927Z",
     "start_time": "2020-02-22T11:46:18.080924Z"
    }
   },
   "outputs": [
    {
     "data": {
      "text/plain": [
       "date\n",
       "1989-02-05 00:00:00+01:00     6.7\n",
       "1989-02-12 00:00:00+01:00    23.9\n",
       "1989-02-19 00:00:00+01:00    48.1\n",
       "1989-02-26 00:00:00+01:00    33.4\n",
       "Freq: W-SUN, Name: rain, dtype: float64"
      ]
     },
     "execution_count": 19,
     "metadata": {},
     "output_type": "execute_result"
    }
   ],
   "source": [
    "total_ukes_regn['1989/02']"
   ]
  },
  {
   "cell_type": "markdown",
   "metadata": {},
   "source": [
    "Dersom vi ønsker et utvallg som går på tvers av datoelementer oppgir vi en range på samme måte som vi gjør for andre slice-opperasjoner"
   ]
  },
  {
   "cell_type": "code",
   "execution_count": 20,
   "metadata": {
    "ExecuteTime": {
     "end_time": "2020-02-22T11:47:24.603426Z",
     "start_time": "2020-02-22T11:47:24.590424Z"
    }
   },
   "outputs": [
    {
     "data": {
      "text/plain": [
       "date\n",
       "1989-02-05 00:00:00+01:00     6.7\n",
       "1989-02-12 00:00:00+01:00    23.9\n",
       "1989-02-19 00:00:00+01:00    48.1\n",
       "1989-02-26 00:00:00+01:00    33.4\n",
       "1989-03-05 00:00:00+01:00    40.9\n",
       "1989-03-12 00:00:00+01:00    53.1\n",
       "1989-03-19 00:00:00+01:00    36.8\n",
       "1989-03-26 00:00:00+01:00    13.8\n",
       "1989-04-02 00:00:00+02:00    41.8\n",
       "1989-04-09 00:00:00+02:00     8.6\n",
       "1989-04-16 00:00:00+02:00    32.6\n",
       "1989-04-23 00:00:00+02:00     0.0\n",
       "1989-04-30 00:00:00+02:00     5.8\n",
       "1989-05-07 00:00:00+02:00     1.6\n",
       "1989-05-14 00:00:00+02:00     4.4\n",
       "1989-05-21 00:00:00+02:00     2.2\n",
       "1989-05-28 00:00:00+02:00     0.0\n",
       "Freq: W-SUN, Name: rain, dtype: float64"
      ]
     },
     "execution_count": 20,
     "metadata": {},
     "output_type": "execute_result"
    }
   ],
   "source": [
    "total_ukes_regn['1989/02':'1989/05']"
   ]
  },
  {
   "cell_type": "markdown",
   "metadata": {},
   "source": [
    "Dette var som sagt en rask intro til hvordan og brule tidstempel som indeksvariabel. Det er masse mer som kan gjøres og dersom du bruker data med tidstempel anbefaler jeg å sette seg inn i dette, da det er et meget kraftig verkøy for å jobbbe med tidsdimensjonen."
   ]
  },
  {
   "cell_type": "markdown",
   "metadata": {},
   "source": [
    "## Numpy universet\n",
    "\n",
    "I begynnelsen snakket vi om at Pandas lagrer dataene sine som en rekke lister eller serier som er organisert ved hjelp av indekser. I bunn og grunn er disse kolonnene sin 1-dimensjonale numpy array.\n",
    "\n",
    "Numpy er viktig å kjenne til i sin egen rett, men det er også en forutsetning for å forstå pandas."
   ]
  },
  {
   "cell_type": "code",
   "execution_count": 21,
   "metadata": {},
   "outputs": [
    {
     "data": {
      "text/plain": [
       "numpy.ndarray"
      ]
     },
     "execution_count": 21,
     "metadata": {},
     "output_type": "execute_result"
    }
   ],
   "source": [
    "np_id = df[\"carat\"].to_numpy()\n",
    "type(np_id)"
   ]
  },
  {
   "cell_type": "code",
   "execution_count": 22,
   "metadata": {
    "ExecuteTime": {
     "end_time": "2020-02-22T12:00:51.979780Z",
     "start_time": "2020-02-22T12:00:51.973747Z"
    }
   },
   "outputs": [
    {
     "name": "stdout",
     "output_type": "stream",
     "text": [
      "<class 'numpy.ndarray'>\n",
      "<class 'list'>\n"
     ]
    }
   ],
   "source": [
    "array = np.array([1,2,3,4,5])\n",
    "liste = [1,2,3,4,5]\n",
    "\n",
    "print(type(array))\n",
    "print(type(liste))"
   ]
  },
  {
   "cell_type": "markdown",
   "metadata": {
    "ExecuteTime": {
     "end_time": "2020-02-22T12:01:21.009428Z",
     "start_time": "2020-02-22T12:01:21.002418Z"
    }
   },
   "source": [
    "Foskjellen mellom en standard python liste og et np array ligger i hvordan de er lagret i minnet på maskinen. \n",
    "En liste oppfører seg på samme linje som andre python objekter, ved at listen er et \"objekt\" som inneholder referanser (pekere) til andre objekt - altså innholdet i listen. Vi har tidligere snakket om at python i bunn og grunn er en dictionary av ditionaries av navn.\n",
    "\n",
    "Dette er dette som ligger bak at en vanlig liste kan inneholde akkuratt det du vil av data og typer. Python klager ikke om du lager en liste som inneholder mange forskjellige datatyper:"
   ]
  },
  {
   "cell_type": "code",
   "execution_count": 23,
   "metadata": {
    "ExecuteTime": {
     "end_time": "2020-02-22T12:05:40.702431Z",
     "start_time": "2020-02-22T12:05:40.697428Z"
    }
   },
   "outputs": [],
   "source": [
    "liste2 = [1, '1', tidsserie, False]"
   ]
  },
  {
   "cell_type": "markdown",
   "metadata": {},
   "source": [
    "Et numpy array vil ikke klage på dette, men det fjerner en del av effekten. Numpy arrays er best egnet for én datatype av gangen.\n",
    "\n",
    "Det som gjør numpy så effektivt er hvordan den håndterer minnerepresentasjonen av dataene dine. Numpy er i stor grad skrevet i C, og har stor kontroll på hvordan dataene blir lagret i minnet. Dette gir en veldig god utnyttelse av tilgjenglige resurser.\n",
    "\n",
    "For de som ikke er veldig kjent med minnerepresentasjon, kan vi tenke på minnet (RAM) som et sett parkeringsplasser som står på en rekke, nummerert fra 1 til, si, 100.\n",
    "\n",
    "En liste med 3 elementer kan lagres som 4 objekter (elementene + selve listen) på ulike steder i minnet. Listen kan være parkert på plass #3, elementene kan være på helt andre plasser, f.eks. 45, 89 og 13. Listen inneholder egentlig bare en referanse til hvor elementene den inneholder er lagret.\n",
    "\n",
    "Når du skal bruke en liste, må maskinen bruke på å lete frem de ulike elementene på sine respektive parkeringsplasser. Selv om maskinen, og minnet, er utrolig kjapt, blir dette tidkrevende med store datasett.\n",
    "\n",
    "I stedet for å måtte hoppe frem og tilbake rydder Numpy plass til at hele arrayet kan lagres sammenhengende. Dette er langt mer effektivt. Numpy gjør også en annen viktig optimalisering som vi skal se under.\n",
    "\n",
    "Vi begynner med å lage et array - i vårt tilfelle et todimensjonalt array eller en matrise:"
   ]
  },
  {
   "cell_type": "code",
   "execution_count": 24,
   "metadata": {},
   "outputs": [
    {
     "data": {
      "text/plain": [
       "array([[1, 2, 1],\n",
       "       [5, 3, 4]], dtype=int32)"
      ]
     },
     "execution_count": 24,
     "metadata": {},
     "output_type": "execute_result"
    }
   ],
   "source": [
    "import numpy as np\n",
    "\n",
    "mx = np.array([[1, 2, 1], [5, 3, 4]], dtype='int32')\n",
    "\n",
    "mx"
   ]
  },
  {
   "cell_type": "markdown",
   "metadata": {},
   "source": [
    "Her ser vi at vi må spesifisere datatypen veldig eksakt, `int32`, altså et heltall som tar opp 32 bits (uavhengig av hvor stort tallet egentlig er).\n",
    "\n",
    "Hvis vi vil ta et subsett av matrisen, kan vi gjøre dette med en syntaks som ligner veldig på pandas. Her velger vi den første kolonnen fra matrisen."
   ]
  },
  {
   "cell_type": "code",
   "execution_count": 25,
   "metadata": {},
   "outputs": [
    {
     "data": {
      "text/plain": [
       "array([1, 5], dtype=int32)"
      ]
     },
     "execution_count": 25,
     "metadata": {},
     "output_type": "execute_result"
    }
   ],
   "source": [
    "mx_slice = mx[:, 0]\n",
    "mx_slice"
   ]
  },
  {
   "cell_type": "markdown",
   "metadata": {},
   "source": [
    "Men: selv om `mx_slice` er en ny variabel, refererer innholdet til den samme minnelokasjonen som `mx`. Dette kan vi se via `__array_interface__` metoden:"
   ]
  },
  {
   "cell_type": "code",
   "execution_count": 26,
   "metadata": {},
   "outputs": [
    {
     "data": {
      "text/plain": [
       "{'data': (94858939025760, False),\n",
       " 'strides': None,\n",
       " 'descr': [('', '<i4')],\n",
       " 'typestr': '<i4',\n",
       " 'shape': (2, 3),\n",
       " 'version': 3}"
      ]
     },
     "execution_count": 26,
     "metadata": {},
     "output_type": "execute_result"
    }
   ],
   "source": [
    "mx.__array_interface__"
   ]
  },
  {
   "cell_type": "code",
   "execution_count": 27,
   "metadata": {},
   "outputs": [
    {
     "data": {
      "text/plain": [
       "{'data': (94858939025760, False),\n",
       " 'strides': (12,),\n",
       " 'descr': [('', '<i4')],\n",
       " 'typestr': '<i4',\n",
       " 'shape': (2,),\n",
       " 'version': 3}"
      ]
     },
     "execution_count": 27,
     "metadata": {},
     "output_type": "execute_result"
    }
   ],
   "source": [
    "mx_slice.__array_interface__"
   ]
  },
  {
   "cell_type": "markdown",
   "metadata": {},
   "source": [
    "Vi ser her at `data` har samme verdi i de to elementene - dette er minnelokalisasjonen (parkeringsplassnummeret) for innholdet i matrisen - det er altså kun den nye referansen (skallet) som har blitt skrevet til minnet.\n",
    "\n",
    "Vi ser også at elementet `strides` har endret seg, og er `(12, )` i den nye matrisen. Strides angir hvor mange bytes det er mellom hvert element. Her er det 12 bytes mellom hvert element i `mx_slice`, og ingen bytes mellom hvert element i `mx`. Siden det her er 8 bit i en byte, betyr dette at det er 8 x 12 = 96 bits mellom elementene i `mx_slice`. Vi husker også at hvert element i matrisen er 32 bit, og det er 3 elementer i hver rad. Avstanden mellom første element i rad 1 og første elemnt i rad 2 i `mx` blir derfor 3 x 32 = 96 bits. Strides angir i bytes hvor langt det er mellom elementene i `mx_slice`, når dette er et utsnitt av `mx`. Denne strukturen blir også referert til som en skip-table."
   ]
  },
  {
   "cell_type": "markdown",
   "metadata": {},
   "source": [
    "Vi kan dobbeltsjekke hvor stort hvert element i matrisene er, og hvor stor hele matrisen er:"
   ]
  },
  {
   "cell_type": "code",
   "execution_count": 28,
   "metadata": {},
   "outputs": [
    {
     "data": {
      "text/plain": [
       "4"
      ]
     },
     "execution_count": 28,
     "metadata": {},
     "output_type": "execute_result"
    }
   ],
   "source": [
    "mx[0,0].nbytes"
   ]
  },
  {
   "cell_type": "code",
   "execution_count": null,
   "metadata": {},
   "outputs": [],
   "source": []
  },
  {
   "cell_type": "code",
   "execution_count": 29,
   "metadata": {},
   "outputs": [
    {
     "data": {
      "text/plain": [
       "24"
      ]
     },
     "execution_count": 29,
     "metadata": {},
     "output_type": "execute_result"
    }
   ],
   "source": [
    "mx.nbytes"
   ]
  },
  {
   "cell_type": "code",
   "execution_count": 30,
   "metadata": {},
   "outputs": [
    {
     "data": {
      "text/plain": [
       "8"
      ]
     },
     "execution_count": 30,
     "metadata": {},
     "output_type": "execute_result"
    }
   ],
   "source": [
    "mx[:, 0].nbytes"
   ]
  },
  {
   "cell_type": "code",
   "execution_count": null,
   "metadata": {},
   "outputs": [],
   "source": []
  },
  {
   "cell_type": "markdown",
   "metadata": {},
   "source": [
    "I mange tilfeller vil det være naturlig å jobbe med data som helehet, og da er det Pandas som gjelder. Om du derimot ønsker å jobbe direkte på enkeltkolonner og da speselt numeriske kolonner kan det være hensiktsmessig å se på disse som numpy arrays. Og i mange tilfeller vil det være dette som skjer i under panseret. \n",
    "\n",
    "Det er fullt mulig å gjøre aritmatikk, aggregering, slicing og filtrering på et array.\n",
    "\n",
    "Det er imindlertid ikke bare enkle 1D/2D array som støttes av numpy. I utgangspunktet gitt at all data i arrayet er av samme type kan du ha vilkårlig mange dimensjoner når du jobber med Numpy uten og miste nevneverdig regnekraft.\n",
    "\n",
    "Denne styrken kommer spesielt til nytte når vi begynner å jobbe med ikke-tradisonelle data.\n",
    "* Tekst representeres ofte som høydimensjonale numpy array\n",
    "* bilder er et array med 3 dimensjoner\n",
    "* Maskinæringsmodeller basserer seg på Numpy sin kapasitet for multidimensjonal aritmatikk.\n"
   ]
  },
  {
   "cell_type": "code",
   "execution_count": 31,
   "metadata": {
    "ExecuteTime": {
     "end_time": "2020-02-22T12:15:18.519095Z",
     "start_time": "2020-02-22T12:15:18.511998Z"
    }
   },
   "outputs": [],
   "source": [
    "array2 = np.array([(1,2,3,4,5),(5,7,8,5,4)])\n",
    "array3 = np.array([(1,2,3,4,5),(5,7,8,5,4),(485,89,876,18,97)], ndmin=3)"
   ]
  },
  {
   "cell_type": "code",
   "execution_count": 32,
   "metadata": {
    "ExecuteTime": {
     "end_time": "2020-02-22T12:15:30.032967Z",
     "start_time": "2020-02-22T12:15:30.026962Z"
    }
   },
   "outputs": [
    {
     "name": "stdout",
     "output_type": "stream",
     "text": [
      "[[1 2 3 4 5]\n",
      " [5 7 8 5 4]]\n",
      "[[[  1   2   3   4   5]\n",
      "  [  5   7   8   5   4]\n",
      "  [485  89 876  18  97]]]\n"
     ]
    }
   ],
   "source": [
    "print(array2)\n",
    "print(array3)"
   ]
  },
  {
   "cell_type": "code",
   "execution_count": null,
   "metadata": {},
   "outputs": [],
   "source": []
  },
  {
   "cell_type": "markdown",
   "metadata": {},
   "source": [
    "## Querying transponering og andre nytige funksjoner\n",
    "\n",
    "Selektering av elementer i en matrise, summering, broadcasting"
   ]
  },
  {
   "cell_type": "code",
   "execution_count": 33,
   "metadata": {},
   "outputs": [
    {
     "name": "stdout",
     "output_type": "stream",
     "text": [
      "1609 107.26666666666667 237.75294366678665\n"
     ]
    }
   ],
   "source": [
    "print(array3.sum(), array3.mean(), array3.std())"
   ]
  },
  {
   "cell_type": "markdown",
   "metadata": {},
   "source": [
    "## Hva er så et tall?\n",
    "\n",
    "Numpy array inneholder (vanligvis) tall, men hva er innholdet i et tall?\n",
    "\n",
    "Vi vet alle at datamaskiner er binære, noe som betyr at datamaskiner har grunntall 2, og vi klarer alle å telle på binært; 1, 10, 11, 100, 101 osv... Dette gir selvfølgelig opphav til vitsen \"there are 10 kinds of people in the world: Those who understand binary and those who don't\".\n",
    "\n",
    "Heltall oppfører seg omtrent som dette."
   ]
  },
  {
   "cell_type": "code",
   "execution_count": 34,
   "metadata": {},
   "outputs": [
    {
     "data": {
      "text/plain": [
       "'0b100'"
      ]
     },
     "execution_count": 34,
     "metadata": {},
     "output_type": "execute_result"
    }
   ],
   "source": [
    "i = 4\n",
    "bin(i)"
   ]
  },
  {
   "cell_type": "code",
   "execution_count": 35,
   "metadata": {},
   "outputs": [
    {
     "data": {
      "text/plain": [
       "'0b110'"
      ]
     },
     "execution_count": 35,
     "metadata": {},
     "output_type": "execute_result"
    }
   ],
   "source": [
    "bin(6)"
   ]
  },
  {
   "cell_type": "markdown",
   "metadata": {},
   "source": [
    "Heltall er greie på den måten, men virkeligheten blir langt mer interessant når vi går over til desimaltall. Følgende øvelse kan nok overraske noen:"
   ]
  },
  {
   "cell_type": "code",
   "execution_count": 36,
   "metadata": {
    "scrolled": false
   },
   "outputs": [
    {
     "name": "stdout",
     "output_type": "stream",
     "text": [
      "1 => 0.001\n",
      "2 => 0.002\n",
      "3 => 0.003\n",
      "4 => 0.004\n",
      "5 => 0.005\n",
      "6 => 0.006\n",
      "7 => 0.007\n",
      "8 => 0.008\n",
      "9 => 0.009000000000000001\n"
     ]
    }
   ],
   "source": [
    "for i in range(1, 10):\n",
    "    print(i, '=>', i*0.001)"
   ]
  },
  {
   "cell_type": "markdown",
   "metadata": {},
   "source": [
    "Her får datamaskinen et avrundingsproblem hvor vi selv ikke ser noe problem. Alle vet at datamaskiner er binære, men nå opplever vi konsekvensene: Datamaskinen avrunder på en annen måte enn oss. Men det betyr ikke at datamaskinen er dårligere enn oss.\n",
    "\n",
    "Mennesker, som typisk bruker grunntall 10, har trøbbel med å skrive 1/3, som blir 0.333333 i en uendelig rekke. Hadde vi derimot fulgt Jo Røislien sitt råd og brukt grunntall 12, ville 1/3 vært 0.4 - ingen avrundingsproblemer. De samme situasjonene oppstår med grunntall 2, og alle gode data-scientister vet derfor at Jo Røislien tar feil - 8 hadde vært et bedre grunntall enn 10 eller 12.\n",
    "\n",
    "Se også https://docs.python.org/2/tutorial/floatingpoint.html\n",
    "\n",
    "Forvirringen skjer ikke bare i regnestykker - selv et så enkelt tall som 0.1 klarer ikke å representeres nøyaktig med grunntall 2."
   ]
  },
  {
   "cell_type": "code",
   "execution_count": 37,
   "metadata": {},
   "outputs": [
    {
     "data": {
      "text/plain": [
       "'0.2999999999999999888977698'"
      ]
     },
     "execution_count": 37,
     "metadata": {},
     "output_type": "execute_result"
    }
   ],
   "source": [
    "\"{:.25f}\".format(0.3)"
   ]
  },
  {
   "cell_type": "code",
   "execution_count": 38,
   "metadata": {},
   "outputs": [
    {
     "data": {
      "text/plain": [
       "'0.5000000000000000000000000'"
      ]
     },
     "execution_count": 38,
     "metadata": {},
     "output_type": "execute_result"
    }
   ],
   "source": [
    "\"{:.25f}\".format(0.5)"
   ]
  },
  {
   "cell_type": "markdown",
   "metadata": {},
   "source": [
    "Et 32-bit flyttall (float) representeres etter en standard som heter IEEE-754, og er (på de fleste moderne datamaskiner) representert ved at den første bit'en er fortegnet (0 for positive tall, 1 for negative), de neste 8 bit'ene er eksponenten (med grunntall 2, or resten (23 bits) er mantissaen, altså selve tallet eller presisjonen avhengig av hvordan du ser på det.\n",
    "\n",
    "Denne representasjonen ligner veldig på scientific notasjon, som tar formen $4.284763*10^{-5}$"
   ]
  },
  {
   "cell_type": "markdown",
   "metadata": {},
   "source": [
    "Et vanlig desimaltall, 2.432, kan vi tenke på som følgende sum:\n",
    "\n",
    "\n",
    "$$\\frac{2}{10^{0}} + \\frac{4}{10^{1}} + \\frac{3}{10^{2}} + \\frac{2}{10^{3} } = \\frac{2}{1} + \\frac{4}{10} + \\frac{3}{100} + \\frac{2}{1000} = 2 + 0.4 + 0.03 + 0.002 = 2.432 $$"
   ]
  },
  {
   "cell_type": "markdown",
   "metadata": {},
   "source": [
    "Det samme desimaltallet representeres, binært på IEEE754 som `01000000000110111010010111100011`. Denne remsen er delt inn som følger: Første bit angir om tallet er positivt eller negativt. De påfølgende 8 bit'ene representerer eksponenten, som i dette tilfellet er 0. De resterende 23 bit'ene representerer den geometriske rekken fraksjoner som vi har representert over, bare med 2 under brøkstreken.\n",
    "\n",
    "| Sign | Exp | Mantissa |\n",
    "|---|---|---|\n",
    "| `0` | `10000000` | `00110111010010111100011` |"
   ]
  },
  {
   "cell_type": "markdown",
   "metadata": {},
   "source": [
    "Mantissaen blir evaluert som:\n",
    "\n",
    "$$ 1 + \\frac{0}{2^{1}} + \\frac{0}{2^{2}} + \\frac{1}{2^{3}} + \\frac{1}{2^{4}} + \\frac{0}{2^{5}}+ \\frac{1}{2^{6}}+ \\frac{1}{2^{7}}+ \\frac{1}{2^{8}} +  ... + \\frac{0}{2^{21}} + \\frac{1}{2^{22}} + \\frac{1}{2^{23}} = 1.2159$$\n",
    "\n"
   ]
  },
  {
   "cell_type": "markdown",
   "metadata": {},
   "source": [
    "Eksponenten blir litt merkelig, 8 bit gir 256 muligheter, men eksponenten må kunne være både positiv og negativ, så 128 er 1, 127 er 0, 126 blir -1 og 129 blir 2. I vårt tilfelle er den 10000000 som blir 128, altså $2^0$, som er 1.\n",
    "\n",
    "Resultatet blir da $$2^0 * 1.2159 = 2.43$$\n",
    "\n",
    "\n",
    "Så, måten flyttall representeres på digitalt er ikke så veldig forskjellig fra måten vi selv skriver tall. Men konverteringen fra grunntall 10 til grunntall 2 medfører noen problemer, som det er viktig å kjenne til.\n",
    "\n",
    "<br />\n",
    "\n",
    "<center><b>I got 98.999999999999999112 problems but floating point representation ain't 1.000000000000000021</b></center>"
   ]
  },
  {
   "cell_type": "markdown",
   "metadata": {},
   "source": [
    "Eksempelet er laget med god hjelp fra https://www.h-schmidt.net/FloatConverter/IEEE754.html"
   ]
  },
  {
   "cell_type": "markdown",
   "metadata": {},
   "source": [
    "## Lær å lese dokumentasjon"
   ]
  },
  {
   "cell_type": "markdown",
   "metadata": {},
   "source": []
  },
  {
   "cell_type": "code",
   "execution_count": null,
   "metadata": {},
   "outputs": [],
   "source": []
  }
 ],
 "metadata": {
  "kernelspec": {
   "display_name": "Python 3",
   "language": "python",
   "name": "python3"
  },
  "language_info": {
   "codemirror_mode": {
    "name": "ipython",
    "version": 3
   },
   "file_extension": ".py",
   "mimetype": "text/x-python",
   "name": "python",
   "nbconvert_exporter": "python",
   "pygments_lexer": "ipython3",
   "version": "3.6.8"
  },
  "toc": {
   "base_numbering": 1,
   "nav_menu": {},
   "number_sections": true,
   "sideBar": true,
   "skip_h1_title": false,
   "title_cell": "Table of Contents",
   "title_sidebar": "Contents",
   "toc_cell": false,
   "toc_position": {},
   "toc_section_display": true,
   "toc_window_display": false
  },
  "varInspector": {
   "cols": {
    "lenName": 16,
    "lenType": 16,
    "lenVar": 40
   },
   "kernels_config": {
    "python": {
     "delete_cmd_postfix": "",
     "delete_cmd_prefix": "del ",
     "library": "var_list.py",
     "varRefreshCmd": "print(var_dic_list())"
    },
    "r": {
     "delete_cmd_postfix": ") ",
     "delete_cmd_prefix": "rm(",
     "library": "var_list.r",
     "varRefreshCmd": "cat(var_dic_list()) "
    }
   },
   "types_to_exclude": [
    "module",
    "function",
    "builtin_function_or_method",
    "instance",
    "_Feature"
   ],
   "window_display": false
  }
 },
 "nbformat": 4,
 "nbformat_minor": 2
}
