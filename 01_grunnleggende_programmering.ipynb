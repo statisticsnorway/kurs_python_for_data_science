{
 "cells": [
  {
   "cell_type": "markdown",
   "metadata": {},
   "source": [
    "# Noen viktige elementer i python programmering\n",
    "\n",
    "Selv om dataanalyse er et litt eget felt innen python, er det en del vanlig programmeringskompetanse du trenger for å være effektiv.\n",
    "\n",
    "Her går vi gjennom en del ting som vi kommer til å bruke i løpet av kurset, og som du forhåpentligvis allerede kjenner litt til."
   ]
  },
  {
   "cell_type": "markdown",
   "metadata": {},
   "source": [
    "## Lister\n",
    "\n",
    "En liste ligner litt på vektorene som du sikkert husker fra statistikkursene, men bare litt. En liste er i praksis en samling av det som ellers ville vært selvstendige variabler. En liste ligner kanskje litt mer på et Array i SAS, men i SAS er et array en referanse til kolonner i et datasett, i python er lister derimot helt selvstendig.\n",
    "\n",
    "Lister kan itereres gjennom veldig enkelt:"
   ]
  },
  {
   "cell_type": "code",
   "execution_count": 1,
   "metadata": {
    "ExecuteTime": {
     "end_time": "2020-02-05T10:09:43.794934Z",
     "start_time": "2020-02-05T10:09:43.790907Z"
    }
   },
   "outputs": [],
   "source": [
    "farger = [\"rød\", \"grønn\", \"lilla\", \"blå\"]"
   ]
  },
  {
   "cell_type": "code",
   "execution_count": 2,
   "metadata": {
    "ExecuteTime": {
     "end_time": "2020-02-05T10:09:43.808904Z",
     "start_time": "2020-02-05T10:09:43.799909Z"
    }
   },
   "outputs": [
    {
     "name": "stdout",
     "output_type": "stream",
     "text": [
      "rød\n",
      "grønn\n",
      "lilla\n",
      "blå\n"
     ]
    }
   ],
   "source": [
    "for farge in farger:\n",
    "    print(farge)"
   ]
  },
  {
   "cell_type": "markdown",
   "metadata": {},
   "source": [
    "Én veldig vanlig teknikk med lister er såkalte *list comprehensions*, som itererer gjennom en liste og genererer en ny liste. Du kan kalle funksjoner på hvert av elementene, og filtrere listen alt i samme operasjon. Som et enkelt (og tåpelig) eksempel kan vi lage en ny liste som inneholder første bokstav i fargene som har mer enn 3 bokstaver."
   ]
  },
  {
   "cell_type": "code",
   "execution_count": 3,
   "metadata": {
    "ExecuteTime": {
     "end_time": "2020-02-05T10:09:43.847909Z",
     "start_time": "2020-02-05T10:09:43.842941Z"
    }
   },
   "outputs": [
    {
     "name": "stdout",
     "output_type": "stream",
     "text": [
      "['g', 'l']\n"
     ]
    }
   ],
   "source": [
    "farger2 = [farge[0] for farge in farger if len(farge)>3]\n",
    "print(farger2)"
   ]
  },
  {
   "cell_type": "markdown",
   "metadata": {},
   "source": [
    "## Dictionaries\n",
    "\n",
    "Dictionaries er kanskje en form for lister på steroider. I stedet for en enkel liste hvor elementene bare kommer i rekkefølge uten noe ytterligere system, er en dictionary såkalt key-value basert. Hvert element i en dictionary har en nøkkel, i praksis en liten tekststreng som identifiserer den. Vi kan begynne med et lite eksempel:"
   ]
  },
  {
   "cell_type": "code",
   "execution_count": 4,
   "metadata": {
    "ExecuteTime": {
     "end_time": "2020-02-05T10:09:43.891907Z",
     "start_time": "2020-02-05T10:09:43.886907Z"
    }
   },
   "outputs": [],
   "source": [
    "ssb = {'firmanavn': 'Statistisk Sentralbyrå', 'leder': 'Geir Axelsen', 'kontor': [\"Oslo\", \"Kongsvinger\"] }"
   ]
  },
  {
   "cell_type": "code",
   "execution_count": 5,
   "metadata": {
    "ExecuteTime": {
     "end_time": "2020-02-05T10:09:43.909904Z",
     "start_time": "2020-02-05T10:09:43.893905Z"
    }
   },
   "outputs": [
    {
     "data": {
      "text/plain": [
       "'Statistisk Sentralbyrå'"
      ]
     },
     "execution_count": 5,
     "metadata": {},
     "output_type": "execute_result"
    }
   ],
   "source": [
    "ssb['firmanavn']"
   ]
  },
  {
   "cell_type": "markdown",
   "metadata": {},
   "source": [
    "Nye elementer kan legges til en eksisterende dictionary:"
   ]
  },
  {
   "cell_type": "code",
   "execution_count": 6,
   "metadata": {
    "ExecuteTime": {
     "end_time": "2020-02-05T10:09:43.946905Z",
     "start_time": "2020-02-05T10:09:43.942906Z"
    }
   },
   "outputs": [],
   "source": [
    "ssb['avdelinger'] = ['100', '200', '300', '400', '500', '600', '700', '800']"
   ]
  },
  {
   "cell_type": "markdown",
   "metadata": {},
   "source": [
    "Dictionaries har noen interessante metoder knyttet til seg. `items()` returnerer en litt enkel type liste som inneholder både key og value for hvert element i dictionaryen. Her ser vi også at avdelinger har kommet med som et element."
   ]
  },
  {
   "cell_type": "code",
   "execution_count": 7,
   "metadata": {
    "ExecuteTime": {
     "end_time": "2020-02-05T10:09:44.025911Z",
     "start_time": "2020-02-05T10:09:44.019911Z"
    }
   },
   "outputs": [
    {
     "name": "stdout",
     "output_type": "stream",
     "text": [
      "firmanavn Statistisk Sentralbyrå\n",
      "leder Geir Axelsen\n",
      "kontor ['Oslo', 'Kongsvinger']\n",
      "avdelinger ['100', '200', '300', '400', '500', '600', '700', '800']\n"
     ]
    }
   ],
   "source": [
    "for key, value in ssb.items():\n",
    "    print(key, value)"
   ]
  },
  {
   "cell_type": "markdown",
   "metadata": {},
   "source": [
    "En annen nyttig metode er `keys()`, som returnerer en liste med nøklene (keys) som er definert i dictionaryen."
   ]
  },
  {
   "cell_type": "code",
   "execution_count": 8,
   "metadata": {
    "ExecuteTime": {
     "end_time": "2020-02-05T10:09:44.066911Z",
     "start_time": "2020-02-05T10:09:44.061910Z"
    }
   },
   "outputs": [
    {
     "data": {
      "text/plain": [
       "dict_keys(['firmanavn', 'leder', 'kontor', 'avdelinger'])"
      ]
     },
     "execution_count": 8,
     "metadata": {},
     "output_type": "execute_result"
    }
   ],
   "source": [
    "ssb.keys()"
   ]
  },
  {
   "cell_type": "markdown",
   "metadata": {},
   "source": [
    "## Funksjoner\n",
    "\n",
    "Funksjoner bør være kjent stoff for de fleste, men som en liten rekapitulasjon vil vi nevne at funksjoner defineres med `def`, etterfulgt av funksjonsnavnet du velger, argumentene i parantes, og kolon. Selve koden i funksjonen må være indentert, for å markere at koden er en del av funksjonen. Dette avviker fra de fleste andre programmeringsspråk, som normalt bruker krøllparanteser `{}` for å angi at koden er en del av funksjonen. Alle funksjoner returnerer en verdi, og hvis du ikke selv spesifiserer hva som skal returneres vil et eget objekt av typen `NoneType` returneres. Altså et eget objekt som er laget for å være tomt.\n",
    "\n",
    "Under har vi definert en sånn funksjon, som bare printer en tekststreng men ikke returnerer noe."
   ]
  },
  {
   "cell_type": "code",
   "execution_count": 9,
   "metadata": {
    "ExecuteTime": {
     "end_time": "2020-02-05T10:09:44.107902Z",
     "start_time": "2020-02-05T10:09:44.100906Z"
    }
   },
   "outputs": [
    {
     "name": "stdout",
     "output_type": "stream",
     "text": [
      "Here goes nothing!\n"
     ]
    },
    {
     "data": {
      "text/plain": [
       "NoneType"
      ]
     },
     "execution_count": 9,
     "metadata": {},
     "output_type": "execute_result"
    }
   ],
   "source": [
    "def noret():\n",
    "    print(\"Here goes nothing!\")\n",
    "    \n",
    "my_value = noret()\n",
    "type(my_value)"
   ]
  },
  {
   "cell_type": "markdown",
   "metadata": {},
   "source": [
    "Som regel ønsker vi at funksjoner heller skal returnere en verdi, og det er dårlig praksis at funksjoner skal endre noe i miljøet ditt - derfor er dette også veldig vanskelig å gjøre. Under definerer vi en variabel, og en funksjon som bruker samme variabelnavn. Likevel kræsjer dette ikke. "
   ]
  },
  {
   "cell_type": "code",
   "execution_count": 10,
   "metadata": {
    "ExecuteTime": {
     "end_time": "2020-02-05T10:09:44.152941Z",
     "start_time": "2020-02-05T10:09:44.144908Z"
    }
   },
   "outputs": [
    {
     "name": "stdout",
     "output_type": "stream",
     "text": [
      "Hello\n",
      "World\n"
     ]
    }
   ],
   "source": [
    "my_var = \"World\"\n",
    "\n",
    "\n",
    "def var_function():\n",
    "    my_var = \"Hello\"\n",
    "    print(my_var)\n",
    "    \n",
    "    \n",
    "var_function()\n",
    "print(my_var)"
   ]
  },
  {
   "cell_type": "markdown",
   "metadata": {},
   "source": [
    "Variabelen `my_var` blir definert både innenfor og utenfor funksjonen, men `my_var` som vi definerte utenfor funksjonen endrer seg ikke selv om vi kaller funksjonen. Dette er fordi variabelen utenfor funksjonen blir regnet som en *global* variabel, mens variabelen inni er en *lokal* variabel. Funksjonen finner den lokale variabelen først, og bruker denne. Om `my_var` ikke hadde vært definert lokalt, ville funksjonen funnet den globale variabelen og brukt denne. Det er derimot dårlig skikk å lage funksjoner som er avhengig av globalt definerte variabler - det er bedre å ha disse variablene som argument til funksjonen."
   ]
  },
  {
   "cell_type": "code",
   "execution_count": 11,
   "metadata": {
    "ExecuteTime": {
     "end_time": "2020-02-05T10:09:44.197902Z",
     "start_time": "2020-02-05T10:09:44.192915Z"
    }
   },
   "outputs": [
    {
     "name": "stdout",
     "output_type": "stream",
     "text": [
      "Hello World\n"
     ]
    }
   ],
   "source": [
    "word_one = \"Hello\"\n",
    "\n",
    "def global_hello(word_two):\n",
    "    print(word_one, word_two)\n",
    "    \n",
    "    \n",
    "global_hello(\"World\")"
   ]
  },
  {
   "cell_type": "markdown",
   "metadata": {},
   "source": [
    "En bedre løsning ville vært å ha begge variablene som argument til funksjonen:\n"
   ]
  },
  {
   "cell_type": "code",
   "execution_count": 12,
   "metadata": {
    "ExecuteTime": {
     "end_time": "2020-02-05T10:09:44.239911Z",
     "start_time": "2020-02-05T10:09:44.232936Z"
    }
   },
   "outputs": [
    {
     "name": "stdout",
     "output_type": "stream",
     "text": [
      "Hello World\n"
     ]
    }
   ],
   "source": [
    "def local_hello(word_one, word_two):\n",
    "    print(word_one, word_two)\n",
    "    \n",
    "local_hello(\"Hello\", \"World\")"
   ]
  },
  {
   "cell_type": "markdown",
   "metadata": {},
   "source": [
    "Som regel er det også ønskelig at funksjonen returnerer en verdi heller enn å printe noe. Vi kan endre funksjonen `local_hello` (overskrive den) til å returnere teksten (ved hjelp av `return` funksjonen) heller enn å printe den. Så kan vi heller printe den på egenhånd:"
   ]
  },
  {
   "cell_type": "code",
   "execution_count": 13,
   "metadata": {
    "ExecuteTime": {
     "end_time": "2020-02-05T10:09:44.281909Z",
     "start_time": "2020-02-05T10:09:44.277957Z"
    }
   },
   "outputs": [
    {
     "name": "stdout",
     "output_type": "stream",
     "text": [
      "Hello World\n"
     ]
    }
   ],
   "source": [
    "def local_hello(word_one, word_two):\n",
    "    return(word_one + ' ' + word_two)\n",
    "    \n",
    "greeting = local_hello(\"Hello\", \"World\")\n",
    "\n",
    "print(greeting)"
   ]
  },
  {
   "cell_type": "markdown",
   "metadata": {},
   "source": [
    "Dette er selvfølgelig ganske enkle funksjoner, men de ilustrerer to grunnlegende prinsipp i python programering.\n",
    "\n",
    "**1) Det er ingenting python ikke lar deg gjøre dersom du prøver hardt nok.**\n",
    "\n",
    "Dette betyr imidlertid at det er opp til deg som programerer å følge 'best practice' og gjøre koden din forstålig.\n",
    "\n",
    "**2) Du kan gjøre hva som helst inni funksjoner.**\n",
    "\n",
    "### Nøstede funksjoner\n",
    "\n",
    "Funksjonene over er som sagt veldig enkle, og innimellom ønsker du å kalle på andre funksjoner inni den første, dette kalles en nøstet funksjon. Når du definerer funksjonene er det viktig at dette gjøres i rekkefølge.\n",
    "\n",
    "Tenk på det slik, når en funksjon defineres, kikker den oppover koden din for å se etter hva den har."
   ]
  },
  {
   "cell_type": "code",
   "execution_count": 14,
   "metadata": {
    "ExecuteTime": {
     "end_time": "2020-02-05T10:09:44.327914Z",
     "start_time": "2020-02-05T10:09:44.321904Z"
    }
   },
   "outputs": [
    {
     "data": {
      "text/plain": [
       "'the number og chracters in \"hello SSB\" is: 9'"
      ]
     },
     "execution_count": 14,
     "metadata": {},
     "output_type": "execute_result"
    }
   ],
   "source": [
    "def count_numbers_of_char (string):\n",
    "    n = len(string)\n",
    "    return (f'the number og chracters in \"{string}\" is: {n}')\n",
    "    \n",
    "count_numbers_of_char('hello SSB')"
   ]
  },
  {
   "cell_type": "markdown",
   "metadata": {
    "ExecuteTime": {
     "end_time": "2020-02-05T09:28:59.710207Z",
     "start_time": "2020-02-05T09:28:59.704249Z"
    }
   },
   "source": [
    "Dette ble jo ikke helt riktig... Her teller vi med mellomrommet.\n",
    "Vi kan selvfølgelig endre den første funksjonen til å si `n = len(str.strip(string))`\n",
    "og ha løst problemet, men da får jeg ikke illustrert et poeng. :P \n",
    "\n",
    "La oss definere en funksjon som fjerner mellomrommene"
   ]
  },
  {
   "cell_type": "code",
   "execution_count": 15,
   "metadata": {
    "ExecuteTime": {
     "end_time": "2020-02-05T10:09:44.364905Z",
     "start_time": "2020-02-05T10:09:44.358902Z"
    }
   },
   "outputs": [
    {
     "data": {
      "text/plain": [
       "'the number og chracters in \"hello SSB\" is: 8'"
      ]
     },
     "execution_count": 15,
     "metadata": {},
     "output_type": "execute_result"
    }
   ],
   "source": [
    "def fjern_tomrom (string):\n",
    "    letters = str(string).replace(' ', '')\n",
    "    return letters\n",
    "\n",
    "def count_numbers_of_char (string):\n",
    "    n = len(fjern_tomrom(string))\n",
    "    return (f'the number og chracters in \"{string}\" is: {n}')\n",
    "\n",
    "count_numbers_of_char('hello SSB')"
   ]
  },
  {
   "cell_type": "markdown",
   "metadata": {
    "ExecuteTime": {
     "end_time": "2020-02-05T10:02:03.873563Z",
     "start_time": "2020-02-05T10:02:03.869537Z"
    }
   },
   "source": [
    "Og da ble det riktig. Under er det ett eksempel på en noe mere kompleks funksjon.\n",
    "\n",
    "Dette er faktisk Python utgaven av Øyvind Langsrud sin Fix regionkode i R"
   ]
  },
  {
   "cell_type": "code",
   "execution_count": 16,
   "metadata": {
    "ExecuteTime": {
     "end_time": "2020-02-05T10:09:44.410932Z",
     "start_time": "2020-02-05T10:09:44.400955Z"
    }
   },
   "outputs": [],
   "source": [
    "def fixregionalcode(col, region='kommune'):\n",
    "    '''\n",
    "    Function to correct the regional code in a given column\n",
    "    \n",
    "    This funtion takes a sereis as input. It converts to string variables. \n",
    "    Adds leading zeros where needed.\n",
    "    removes decimalpositions in strings\n",
    "    \n",
    "    :param col: the coloumn to perform the correction on\n",
    "    :type col: Str\n",
    "    :param region: type of regional code to return. Either kommune or fylke\n",
    "    :type region: Str, optional *Default: kommune*\n",
    "    :return: a list contining the corrected regional codes\n",
    "    '''\n",
    "    data = col\n",
    "    all_string = []\n",
    "    for i in data:\n",
    "        if type(i)==str:\n",
    "            all_string.append(i)\n",
    "        elif type(i)==float:\n",
    "            s=int(i)\n",
    "            all_string.append(str(s))\n",
    "        else:\n",
    "            all_string.append(str(i))\n",
    "\n",
    "    corr_region = []\n",
    "    for i in all_string:\n",
    "        if len(i)<4:\n",
    "            corr_region.append(\"{0:0>4}\".format(i))\n",
    "        elif (len(i)>4)&(i[3]=='.'):\n",
    "            corr_region.append(\"{0:0>4}\".format(i[:3]))\n",
    "        else:\n",
    "            corr_region.append(\"{0:0>4}\".format(i[:4]))\n",
    "\n",
    "    if region == 'fylke':\n",
    "        fylkesnr = []\n",
    "        for i in corr_region:\n",
    "            fylkesnr.append(i[:2])\n",
    "        return fylkesnr\n",
    "    elif region == 'kommune':\n",
    "        return corr_region\n",
    "    else:\n",
    "        raise ValueError('Please enter either: fylke or kommune')"
   ]
  },
  {
   "cell_type": "markdown",
   "metadata": {
    "ExecuteTime": {
     "end_time": "2020-02-05T09:55:29.623625Z",
     "start_time": "2020-02-05T09:55:29.618632Z"
    }
   },
   "source": [
    "### Lambda funksjoner\n",
    "\n",
    "Lambda funksjoner er på mange måter det samme som vanlige funksjoner. Bare med en liten twist."
   ]
  },
  {
   "cell_type": "code",
   "execution_count": 17,
   "metadata": {
    "ExecuteTime": {
     "end_time": "2020-02-05T10:14:26.819903Z",
     "start_time": "2020-02-05T10:14:26.797904Z"
    }
   },
   "outputs": [],
   "source": [
    "colors = {'1':'red', '2':'blue', '3':'green'}\n",
    "\n",
    "yndlings_farger_code = [1,2,2,1,2,3,3,2,1,1,2,2,2,2,1,1,2]\n",
    "\n",
    "look_up_farge = lambda x: colors[str(x)]\n",
    "\n",
    "\n",
    "yndlingsfarger = [look_up_farge(c) for c in yndlings_farger_code]"
   ]
  },
  {
   "cell_type": "code",
   "execution_count": 18,
   "metadata": {
    "ExecuteTime": {
     "end_time": "2020-02-05T10:10:19.555279Z",
     "start_time": "2020-02-05T10:10:19.548282Z"
    }
   },
   "outputs": [
    {
     "data": {
      "text/plain": [
       "['red',\n",
       " 'blue',\n",
       " 'blue',\n",
       " 'red',\n",
       " 'blue',\n",
       " 'green',\n",
       " 'green',\n",
       " 'blue',\n",
       " 'red',\n",
       " 'red',\n",
       " 'blue',\n",
       " 'blue',\n",
       " 'blue',\n",
       " 'blue',\n",
       " 'red',\n",
       " 'red',\n",
       " 'blue']"
      ]
     },
     "execution_count": 18,
     "metadata": {},
     "output_type": "execute_result"
    }
   ],
   "source": [
    "yndlingsfarger"
   ]
  },
  {
   "cell_type": "markdown",
   "metadata": {},
   "source": [
    "## Unntakshåndtering\n",
    "\n",
    "Det er ikke alltid sikkert at alt fungerer, særlig om vi ikke er 100% trygg på dataene vi jobber med. For at ikke alt skal stoppe når vi holder på å prosessere drøssevis av data, er det en god idé å håndtere eventuelle unntak med en try-except blokk.\n",
    "\n",
    "Blokken fungerer på den måten at koden vi vil at skal kjøre (og fungere) står i en `try` blokk, mens koden vi vil at skal kjøre hvis noe går galt, står i en `except` blokk. Her er det også mulig å printe feilmeldingen selv om vi vil at programmet skal fortsette, eller vi kan fortsette direkte og ignorere feilen."
   ]
  },
  {
   "cell_type": "code",
   "execution_count": 19,
   "metadata": {},
   "outputs": [
    {
     "name": "stdout",
     "output_type": "stream",
     "text": [
      "Could not be halved: fem\n",
      "Error: unsupported operand type(s) for /: 'str' and 'int'\n",
      "[0.5, 1.0, 1.5, 2.0]\n"
     ]
    }
   ],
   "source": [
    "invalid_list = [1, 2, 3, 4, \"fem\"]\n",
    "halved_list = []\n",
    "for item in invalid_list:\n",
    "    try:\n",
    "        item2 = item/2\n",
    "        halved_list.append(item2)\n",
    "    except Exception as e:\n",
    "        print(\"Could not be halved:\", item)\n",
    "        print(\"Error:\", e)\n",
    "        \n",
    "        \n",
    "print(halved_list)"
   ]
  },
  {
   "cell_type": "markdown",
   "metadata": {},
   "source": [
    "## Prøv selv\n",
    "\n",
    "Det er viktig å gjøre selv for å forstå. Det beste er om du selv finner på utfordringer for bruk av lister, dictionaries, funksjoner og unntakshåndtering, men her er noen ideer:\n",
    "- Lag en funksjon som tar imot en liste, og returnerer alle elementene i listen unntatt første og siste\n",
    "- Lag en ny funksjon som tar imot en dictionary og nøkkelen som angir en liste, og returnerer hele dictionaryen utenom første og siste element i listen som ble angitt.\n",
    "\n",
    "Husk unntakshåndtering, det er mye som må være riktig i inputen for at disse to funksjonene skal fungere."
   ]
  },
  {
   "cell_type": "code",
   "execution_count": null,
   "metadata": {},
   "outputs": [],
   "source": []
  }
 ],
 "metadata": {
  "kernelspec": {
   "display_name": "Python 3",
   "language": "python",
   "name": "python3"
  },
  "language_info": {
   "codemirror_mode": {
    "name": "ipython",
    "version": 3
   },
   "file_extension": ".py",
   "mimetype": "text/x-python",
   "name": "python",
   "nbconvert_exporter": "python",
   "pygments_lexer": "ipython3",
   "version": "3.6.8"
  },
  "toc": {
   "base_numbering": 1,
   "nav_menu": {},
   "number_sections": true,
   "sideBar": true,
   "skip_h1_title": false,
   "title_cell": "Table of Contents",
   "title_sidebar": "Contents",
   "toc_cell": false,
   "toc_position": {},
   "toc_section_display": true,
   "toc_window_display": false
  },
  "varInspector": {
   "cols": {
    "lenName": 16,
    "lenType": 16,
    "lenVar": 40
   },
   "kernels_config": {
    "python": {
     "delete_cmd_postfix": "",
     "delete_cmd_prefix": "del ",
     "library": "var_list.py",
     "varRefreshCmd": "print(var_dic_list())"
    },
    "r": {
     "delete_cmd_postfix": ") ",
     "delete_cmd_prefix": "rm(",
     "library": "var_list.r",
     "varRefreshCmd": "cat(var_dic_list()) "
    }
   },
   "types_to_exclude": [
    "module",
    "function",
    "builtin_function_or_method",
    "instance",
    "_Feature"
   ],
   "window_display": false
  }
 },
 "nbformat": 4,
 "nbformat_minor": 2
}
