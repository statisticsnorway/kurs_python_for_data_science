{
 "cells": [
  {
   "cell_type": "markdown",
   "metadata": {},
   "source": [
    "# bag-of-words tekstklassifikasjon med Keras\n",
    "\n",
    "Det er lenge side bag-of-words var avantgarde, men metoden er enkel og fungerer fortsatt veldig godt på mange typer tekst. Det er blant annet dette som brukes av KPI når de klassifiserer varer. Mens KPI bruker R og SVM, bruker vi anledningen til å fortsette med Keras.\n",
    "\n",
    "I dette eksempelet forsøker vi en binær klassifisering av dokumenttitler fra oep.no (nå einnsyn.no), for å forsøke å skille dokumenttitler fra SSB og dokumenttitler fra fylkesmannen i Sogn og Fjordane. Gruppene er nesten nøyaktig like store og vi har derfor en baseline på 50% accuracy. Vi forventer derimot en ganske høy accuracy på dette problemet, fordi SSB og fylkesmannen driver med veldig forskjellige ting, i tillegg til at fylkesmannen i Sogn og Fjordane skriver nynorsk. Vi har med andre ord et veldig sterkt signal å gå etter."
   ]
  },
  {
   "cell_type": "code",
   "execution_count": 1,
   "metadata": {},
   "outputs": [
    {
     "name": "stderr",
     "output_type": "stream",
     "text": [
      "Using TensorFlow backend.\n"
     ]
    }
   ],
   "source": [
    "import pandas as pd\n",
    "import numpy as np\n",
    "from keras.utils import to_categorical\n",
    "from keras.preprocessing.text import Tokenizer\n",
    "from keras.models import Sequential\n",
    "from keras.layers.core import Dense, Activation\n",
    "\n",
    "from sklearn.model_selection import train_test_split\n",
    "from sklearn.preprocessing import LabelEncoder\n",
    "import html\n",
    "from nltk.corpus import stopwords\n",
    "import re"
   ]
  },
  {
   "cell_type": "code",
   "execution_count": 2,
   "metadata": {},
   "outputs": [],
   "source": [
    "OEPFILE = '/data/kurs/python/ssb_fylkesmann_sogf.parquet'"
   ]
  },
  {
   "cell_type": "code",
   "execution_count": 3,
   "metadata": {},
   "outputs": [],
   "source": [
    "df = (pd.read_parquet(OEPFILE)\n",
    "      .query(\"agency=='SSB' | agency=='FMSF'\") # Filtrerer noen feilrecordinger\n",
    "      .apply(lambda x: html.unescape(x)) # Oversetter fra HTML-escapetegn\n",
    "     )"
   ]
  },
  {
   "cell_type": "code",
   "execution_count": 4,
   "metadata": {},
   "outputs": [
    {
     "data": {
      "text/plain": [
       "127781"
      ]
     },
     "execution_count": 4,
     "metadata": {},
     "output_type": "execute_result"
    }
   ],
   "source": [
    "len(df)"
   ]
  },
  {
   "cell_type": "code",
   "execution_count": 5,
   "metadata": {},
   "outputs": [
    {
     "data": {
      "text/html": [
       "<div>\n",
       "<style scoped>\n",
       "    .dataframe tbody tr th:only-of-type {\n",
       "        vertical-align: middle;\n",
       "    }\n",
       "\n",
       "    .dataframe tbody tr th {\n",
       "        vertical-align: top;\n",
       "    }\n",
       "\n",
       "    .dataframe thead th {\n",
       "        text-align: right;\n",
       "    }\n",
       "</style>\n",
       "<table border=\"1\" class=\"dataframe\">\n",
       "  <thead>\n",
       "    <tr style=\"text-align: right;\">\n",
       "      <th></th>\n",
       "      <th>id</th>\n",
       "      <th>bid</th>\n",
       "      <th>bureau</th>\n",
       "      <th>case_title</th>\n",
       "      <th>doc_title</th>\n",
       "      <th>case_n</th>\n",
       "      <th>doc_n</th>\n",
       "      <th>agency</th>\n",
       "      <th>journal_date</th>\n",
       "      <th>doc_date</th>\n",
       "      <th>pub_date</th>\n",
       "      <th>to_from</th>\n",
       "      <th>excempt</th>\n",
       "      <th>archive_code</th>\n",
       "    </tr>\n",
       "  </thead>\n",
       "  <tbody>\n",
       "    <tr>\n",
       "      <th>0</th>\n",
       "      <td>89048</td>\n",
       "      <td>188</td>\n",
       "      <td>Statistisk sentralbyrå</td>\n",
       "      <td>M&amp;#229;nedlig unders&amp;#248;kelse for overnattin...</td>\n",
       "      <td>Nye filer med ilagt tvangsmulkt Overnattinger ...</td>\n",
       "      <td>2014/99</td>\n",
       "      <td>199</td>\n",
       "      <td>SSB</td>\n",
       "      <td>01.12.2014</td>\n",
       "      <td>01.12.2014</td>\n",
       "      <td>04.12.2014</td>\n",
       "      <td>TO: Statens innkrevingssentral</td>\n",
       "      <td>None</td>\n",
       "      <td>None</td>\n",
       "    </tr>\n",
       "    <tr>\n",
       "      <th>1</th>\n",
       "      <td>89049</td>\n",
       "      <td>188</td>\n",
       "      <td>Statistisk sentralbyrå</td>\n",
       "      <td>Rapportering til Statsregnskapet for 2014</td>\n",
       "      <td>Statsregnskapet for 2014 - &amp;#229;rsavslutning ...</td>\n",
       "      <td>2014/1452</td>\n",
       "      <td>1</td>\n",
       "      <td>SSB</td>\n",
       "      <td>01.12.2014</td>\n",
       "      <td>01.12.2014</td>\n",
       "      <td>04.12.2014</td>\n",
       "      <td>FROM: Finansdepartementet</td>\n",
       "      <td>None</td>\n",
       "      <td>None</td>\n",
       "    </tr>\n",
       "    <tr>\n",
       "      <th>2</th>\n",
       "      <td>89050</td>\n",
       "      <td>188</td>\n",
       "      <td>Statistisk sentralbyrå</td>\n",
       "      <td>Personalmappe</td>\n",
       "      <td>Forlengelse av engasjement</td>\n",
       "      <td>2011/1243</td>\n",
       "      <td>17</td>\n",
       "      <td>SSB</td>\n",
       "      <td>02.12.2014</td>\n",
       "      <td>01.12.2014</td>\n",
       "      <td>05.12.2014</td>\n",
       "      <td>Internal</td>\n",
       "      <td>Offentleglova &amp;#167; 25, f&amp;#248;rste ledd.</td>\n",
       "      <td>None</td>\n",
       "    </tr>\n",
       "    <tr>\n",
       "      <th>3</th>\n",
       "      <td>89051</td>\n",
       "      <td>188</td>\n",
       "      <td>Statistisk sentralbyrå</td>\n",
       "      <td>Godstransport med norske lastebiler 2014 - Uts...</td>\n",
       "      <td>Purring/varsel om tvangsmulkt - Godstransport ...</td>\n",
       "      <td>2013/1621</td>\n",
       "      <td>129</td>\n",
       "      <td>SSB</td>\n",
       "      <td>02.12.2014</td>\n",
       "      <td>01.12.2014</td>\n",
       "      <td>05.12.2014</td>\n",
       "      <td>TO: Oppgavegivere i f&amp;#248;lge brev</td>\n",
       "      <td>Offentleglova &amp;#167; 13 jf. Statistikkloven &amp;#...</td>\n",
       "      <td>None</td>\n",
       "    </tr>\n",
       "    <tr>\n",
       "      <th>4</th>\n",
       "      <td>89052</td>\n",
       "      <td>188</td>\n",
       "      <td>Statistisk sentralbyrå</td>\n",
       "      <td>H&amp;#248;ring - Overf&amp;#248;ring av skatteoppkrev...</td>\n",
       "      <td>H&amp;#248;ring med svarfrist 020315 - Overf&amp;#248;...</td>\n",
       "      <td>2014/1458</td>\n",
       "      <td>1</td>\n",
       "      <td>SSB</td>\n",
       "      <td>02.12.2014</td>\n",
       "      <td>01.12.2014</td>\n",
       "      <td>05.12.2014</td>\n",
       "      <td>FROM: Finansdepartementet</td>\n",
       "      <td>None</td>\n",
       "      <td>None</td>\n",
       "    </tr>\n",
       "  </tbody>\n",
       "</table>\n",
       "</div>"
      ],
      "text/plain": [
       "      id  bid                  bureau  \\\n",
       "0  89048  188  Statistisk sentralbyrå   \n",
       "1  89049  188  Statistisk sentralbyrå   \n",
       "2  89050  188  Statistisk sentralbyrå   \n",
       "3  89051  188  Statistisk sentralbyrå   \n",
       "4  89052  188  Statistisk sentralbyrå   \n",
       "\n",
       "                                          case_title  \\\n",
       "0  M&#229;nedlig unders&#248;kelse for overnattin...   \n",
       "1          Rapportering til Statsregnskapet for 2014   \n",
       "2                                      Personalmappe   \n",
       "3  Godstransport med norske lastebiler 2014 - Uts...   \n",
       "4  H&#248;ring - Overf&#248;ring av skatteoppkrev...   \n",
       "\n",
       "                                           doc_title     case_n doc_n agency  \\\n",
       "0  Nye filer med ilagt tvangsmulkt Overnattinger ...    2014/99   199    SSB   \n",
       "1  Statsregnskapet for 2014 - &#229;rsavslutning ...  2014/1452     1    SSB   \n",
       "2                         Forlengelse av engasjement  2011/1243    17    SSB   \n",
       "3  Purring/varsel om tvangsmulkt - Godstransport ...  2013/1621   129    SSB   \n",
       "4  H&#248;ring med svarfrist 020315 - Overf&#248;...  2014/1458     1    SSB   \n",
       "\n",
       "  journal_date    doc_date    pub_date                              to_from  \\\n",
       "0   01.12.2014  01.12.2014  04.12.2014       TO: Statens innkrevingssentral   \n",
       "1   01.12.2014  01.12.2014  04.12.2014            FROM: Finansdepartementet   \n",
       "2   02.12.2014  01.12.2014  05.12.2014                             Internal   \n",
       "3   02.12.2014  01.12.2014  05.12.2014  TO: Oppgavegivere i f&#248;lge brev   \n",
       "4   02.12.2014  01.12.2014  05.12.2014            FROM: Finansdepartementet   \n",
       "\n",
       "                                             excempt archive_code  \n",
       "0                                               None         None  \n",
       "1                                               None         None  \n",
       "2         Offentleglova &#167; 25, f&#248;rste ledd.         None  \n",
       "3  Offentleglova &#167; 13 jf. Statistikkloven &#...         None  \n",
       "4                                               None         None  "
      ]
     },
     "execution_count": 5,
     "metadata": {},
     "output_type": "execute_result"
    }
   ],
   "source": [
    "df.head()"
   ]
  },
  {
   "cell_type": "code",
   "execution_count": 6,
   "metadata": {},
   "outputs": [
    {
     "data": {
      "text/plain": [
       "SSB     63962\n",
       "FMSF    63819\n",
       "Name: agency, dtype: int64"
      ]
     },
     "execution_count": 6,
     "metadata": {},
     "output_type": "execute_result"
    }
   ],
   "source": [
    "df['agency'].value_counts()"
   ]
  },
  {
   "cell_type": "markdown",
   "metadata": {},
   "source": [
    "Fordi train_test_split fungerer påfallende dårlig gjør vi et annet triks: Sampling 100% uten tilbakelegging gjør i praksis det samme som å sortere datasettet i tilfeldig rekkefølge. Dette gjør at vi kan bruke de N første radene til trening, og resten til test."
   ]
  },
  {
   "cell_type": "code",
   "execution_count": 7,
   "metadata": {},
   "outputs": [],
   "source": [
    "df = df.sample(frac=1)"
   ]
  },
  {
   "cell_type": "markdown",
   "metadata": {},
   "source": [
    "## Preprosessere y-variabelen\n",
    "\n",
    "Vi skal forsøke å predikere `agency`-variabelen, men for å gjøre det må vi konvertere den fra tekst til tall. Den enkleste måten å gjøre dette på er å regne ut en ny kolonne som er 0/1, men denne løsningen generaliseres ikke til flerklasseproblem. Derfor bruker vi noen innebygde funksjoner fra keras og sklearn som gjør dette for oss på en litt mer generell måte."
   ]
  },
  {
   "cell_type": "code",
   "execution_count": 8,
   "metadata": {},
   "outputs": [],
   "source": [
    "from keras.preprocessing.text import one_hot"
   ]
  },
  {
   "cell_type": "code",
   "execution_count": 9,
   "metadata": {},
   "outputs": [],
   "source": [
    "y = df['agency']\n",
    "labelencoder = LabelEncoder()\n",
    "y_encoded = labelencoder.fit_transform(y)\n",
    "\n",
    "num_classes = np.max(y_encoded) + 1\n",
    "yhot = to_categorical(y_encoded, num_classes)"
   ]
  },
  {
   "cell_type": "code",
   "execution_count": 10,
   "metadata": {},
   "outputs": [
    {
     "data": {
      "text/plain": [
       "(127781, 2)"
      ]
     },
     "execution_count": 10,
     "metadata": {},
     "output_type": "execute_result"
    }
   ],
   "source": [
    "yhot.shape"
   ]
  },
  {
   "cell_type": "markdown",
   "metadata": {},
   "source": [
    "Det vi nå sitter igjen med er en matrise som er to bred, selv om den egentlig bare hadde trengt å være 1. For å bruke regresjonsnomenklaturen har ikke matrisen en base-verdi. Keras fungerer utmerket med dette, så lenge vi tar høyde for det når vi lager modellen vår."
   ]
  },
  {
   "cell_type": "markdown",
   "metadata": {},
   "source": [
    "## Preprossesere tekst\n",
    "\n",
    "Preprosessering av tekst er en langt mer omstendig prosess, som er både en vitenskap og en kunst. Prosessen kan innebære en del ulike steg, et minimum er å konvertere til små bokstaver og fjerne tegnsetting. Men ytterligere steg kan blant annet være å fjerne ord som ikke inneholder relevant informasjon (som f.eks. *og*, *å*, *til*, etc). I nomenklaturen heter dette stoppord, og norsk har ca 140-160 stoppord avhengig av hvem du spør. I tillegg gjøres ofte det som heter \"stemming\" som går ut på å fjerne endelser, bøyinger og annet som avhenger av gramatikk. Her gjør vi det dog ganske enkelt."
   ]
  },
  {
   "cell_type": "code",
   "execution_count": 11,
   "metadata": {},
   "outputs": [],
   "source": [
    "import codecs\n",
    "stops = codecs.open('data/stoppord.txt', 'r', encoding='utf8').readlines()\n",
    "\n",
    "def alphanum(text):\n",
    "    return re.sub(\"[^A-Za-zæÆøØåÅ]\", \" \", text)\n",
    "\n",
    "def remove_stops(text):\n",
    "    return \" \".join([word for word in text.split() if word not in stops])\n",
    "\n",
    "def clean_text(text):\n",
    "    cleantext = text.lower()\n",
    "    cleantext = alphanum(cleantext)\n",
    "    cleantext = remove_stops(cleantext)\n",
    "    return cleantext"
   ]
  },
  {
   "cell_type": "code",
   "execution_count": 12,
   "metadata": {},
   "outputs": [],
   "source": [
    "X = df['doc_title'].apply(clean_text)"
   ]
  },
  {
   "cell_type": "code",
   "execution_count": 13,
   "metadata": {},
   "outputs": [
    {
     "data": {
      "text/plain": [
       "12950     foresp rsel avklaringer tilbud aksept av tilbu...\n",
       "59054                 s knad om ettergivelse av tvangsmulkt\n",
       "64828                foresp rsel om tilbud p matlab toolbox\n",
       "89526                                          s knad og cv\n",
       "125056    s knad om fritak fra opplysningsplikten er avs...\n",
       "64044                                   anskaffelsesrapport\n",
       "38713                                           avslagsbrev\n",
       "67032                                          s knad og cv\n",
       "73503                                  tilleggsopplysningar\n",
       "80970     tilsyn ved veidekke avd gloppen inspeksjonsrap...\n",
       "Name: doc_title, dtype: object"
      ]
     },
     "execution_count": 13,
     "metadata": {},
     "output_type": "execute_result"
    }
   ],
   "source": [
    "X[:10]"
   ]
  },
  {
   "cell_type": "code",
   "execution_count": 14,
   "metadata": {},
   "outputs": [],
   "source": [
    "tokenizer = Tokenizer(num_words = 2000)\n",
    "tokenizer.fit_on_texts(X)\n",
    "X_matrix = tokenizer.texts_to_matrix(X, mode='binary')"
   ]
  },
  {
   "cell_type": "code",
   "execution_count": 15,
   "metadata": {},
   "outputs": [],
   "source": [
    "import math"
   ]
  },
  {
   "cell_type": "code",
   "execution_count": 16,
   "metadata": {},
   "outputs": [],
   "source": [
    "train_size = math.floor(len(df)*0.8)\n",
    "\n",
    "X_train, X_test, y_train, y_test = X_matrix[0:train_size], X_matrix[train_size:], yhot[0:train_size], yhot[train_size:]\n",
    "outputlayers = yhot.shape[1]"
   ]
  },
  {
   "cell_type": "code",
   "execution_count": 17,
   "metadata": {},
   "outputs": [],
   "source": [
    "# X_matrix er enormt stor, sletter for å frigjøre minne\n",
    "del(X_matrix)"
   ]
  },
  {
   "cell_type": "code",
   "execution_count": 18,
   "metadata": {},
   "outputs": [],
   "source": [
    "model = Sequential()\n",
    "model.add(Dense(2048, input_shape = (2000,)))\n",
    "model.add(Activation('relu'))\n",
    "model.add(Dense(outputlayers))\n",
    "model.add(Activation('softmax'))"
   ]
  },
  {
   "cell_type": "code",
   "execution_count": 19,
   "metadata": {},
   "outputs": [],
   "source": [
    "model.compile(loss='categorical_crossentropy',\n",
    "              optimizer='adam',\n",
    "              metrics=['accuracy'])"
   ]
  },
  {
   "cell_type": "code",
   "execution_count": 20,
   "metadata": {},
   "outputs": [
    {
     "name": "stdout",
     "output_type": "stream",
     "text": [
      "Train on 102224 samples, validate on 25557 samples\n",
      "Epoch 1/2\n",
      "102224/102224 [==============================] - 15s 147us/step - loss: 0.0974 - acc: 0.9666 - val_loss: 0.0559 - val_acc: 0.9774\n",
      "Epoch 2/2\n",
      "102224/102224 [==============================] - 10s 101us/step - loss: 0.0451 - acc: 0.9821 - val_loss: 0.0498 - val_acc: 0.9808\n"
     ]
    }
   ],
   "source": [
    "history = model.fit(X_train, y_train,\n",
    "                    validation_data = (X_test, y_test),\n",
    "                    batch_size=512,\n",
    "                    epochs=2)"
   ]
  },
  {
   "cell_type": "markdown",
   "metadata": {},
   "source": [
    "## Prøv selv\n",
    "\n",
    "Om du ikke har egne ideer selv, kan du forsøke en av disse:\n",
    "\n",
    "- Finn et nytt sett med institusjoner, og forsøk å skille disse. Bruk to statlige etater i Oslo, så merker du nok at det er litt vanskeligere å skille de fordi de bruker samme målform og mange av sakene er forholdsvis generiske personalsaker.\n",
    "\n",
    "- Forsøk å endre modellen til å bruke flere eller færre ord, og se hvordan resultatet påvirkes\n",
    "\n",
    "- Lag din egen liste over vanlige ord i tekstene. Trolig kan en del av disse betraktes som \"stoppord\", og kanskje modellen blir bedre hvis de fjernes?"
   ]
  },
  {
   "cell_type": "code",
   "execution_count": null,
   "metadata": {},
   "outputs": [],
   "source": []
  }
 ],
 "metadata": {
  "kernelspec": {
   "display_name": "Python 3",
   "language": "python",
   "name": "python3"
  },
  "language_info": {
   "codemirror_mode": {
    "name": "ipython",
    "version": 3
   },
   "file_extension": ".py",
   "mimetype": "text/x-python",
   "name": "python",
   "nbconvert_exporter": "python",
   "pygments_lexer": "ipython3",
   "version": "3.6.8"
  }
 },
 "nbformat": 4,
 "nbformat_minor": 2
}
