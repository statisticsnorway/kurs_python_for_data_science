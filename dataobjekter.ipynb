{
 "cells": [
  {
   "cell_type": "markdown",
   "metadata": {
    "Collapsed": "false"
   },
   "source": [
    "# Helt Python Session 4 -  Data objekter og funksjoner\n",
    "\n",
    "Velkommen til session 4 av Helt Python!\n",
    "\n",
    "Denne økten skal vi ta en nermere kikk på de forskjellige data ojektene som kan brukes i python samt en introduksjon av funksjoner som verktøy i arbeidet deres. Vi stiller som forutsettning at dere enten har vært på kurs som dekker, eller selv har jobbet dere igjennom og forstått innholdet i de fåregående notebookene. Innholdet i denne noebooken vill bygge på konsepter introdusert der og gå noe dypere inn i materiet.\n"
   ]
  },
  {
   "cell_type": "code",
   "execution_count": 35,
   "metadata": {
    "Collapsed": "false"
   },
   "outputs": [],
   "source": [
    "import pandas as pd\n",
    "import numpy as np\n",
    "import os"
   ]
  },
  {
   "cell_type": "markdown",
   "metadata": {
    "Collapsed": "false"
   },
   "source": [
    "# Data objekter\n",
    "\n",
    "## Introduksjon til data objekter\n",
    "\n",
    "Python er det som kalles ett objekt orientert programerings språk.\n",
    "Tenk på det slik at alt du gjør i python lagres som ett \"objekt\" i minne på pc'en.\n"
   ]
  },
  {
   "cell_type": "markdown",
   "metadata": {
    "Collapsed": "true"
   },
   "source": [
    "## Simple variabler\n",
    "\n",
    "Simple variabler er \"objekter\" som inneholder:\n",
    "* ett tall \n",
    "* en text streng\n",
    "* en boolean verdi (true/false)\n",
    "\n",
    "Dett er den ekleste formen for variabel i python. Disse kan brukes for å lagre verdier, faktorer, eller parametere som skal brukes en eller flere ganger i løpet av programmet, men som du ikke ønsker og hardkode inn i programmet."
   ]
  },
  {
   "cell_type": "code",
   "execution_count": 36,
   "metadata": {
    "Collapsed": "false"
   },
   "outputs": [
    {
     "name": "stdout",
     "output_type": "stream",
     "text": [
      "42\n"
     ]
    }
   ],
   "source": [
    "Integer = 42\n",
    "print(Integer)"
   ]
  },
  {
   "cell_type": "code",
   "execution_count": 37,
   "metadata": {
    "Collapsed": "false"
   },
   "outputs": [
    {
     "name": "stdout",
     "output_type": "stream",
     "text": [
      "55.97\n"
     ]
    }
   ],
   "source": [
    "decimal = 55.97\n",
    "print(decimal)"
   ]
  },
  {
   "cell_type": "code",
   "execution_count": 38,
   "metadata": {
    "Collapsed": "false"
   },
   "outputs": [
    {
     "name": "stdout",
     "output_type": "stream",
     "text": [
      "Hello World\n"
     ]
    }
   ],
   "source": [
    "tekst = 'Hello World'\n",
    "print(tekst)"
   ]
  },
  {
   "cell_type": "markdown",
   "metadata": {
    "Collapsed": "false"
   },
   "source": [
    "Den generelle formelen for å definere en variabel er:\n",
    "\n",
    "`variabel_navn = variabel_innhold`\n",
    "\n",
    "Det spiller ingen rolle hva du kaller variabelene dine da det er \"=\" tegnet som sier at det er en variabel du beskriver. \n",
    "Det finnes imidertid en regel: **Variabel navnet kan ikke inneholde mellomrom** \n",
    "\n",
    "Vi ser også at forskjellig inhold i variabelen beskrives litt forskjellig.\n",
    "\n",
    "* Heltall (integers) oppgies som `variabel_navn = 42` her er det viktig og kun bruke tal, ingen fnutter eller komma\n",
    "* Decimaltal (float) oppgies som `variabel_navn = 55.97` bemerk at vi bruker \".\" som decimalskille ikke \",\"\n",
    "    * Dette henger sammen med at python er utviklet med den engelske skrivemåten for tall der \".\" er decimal tegn.\n",
    "* Tekst (string) oppgies som `variabel_navn = 'tekst'` her er det fnuttene '' som forteller python at dette er en tekst streng. \n",
    "    * Noen steder vil dere se \"\" istedet for '', dette er helt normalt, og python tolker begge som tekst strenge.\n",
    "    * Det er smak og behag (eller ofte hva man lærte først) hvilken av disse som brukes. Det er imidlertid ett sted man må tenke på dette. i tekst strenger som inneholder den ene eller andre fnutten.\n",
    "        * eks: "
   ]
  },
  {
   "cell_type": "code",
   "execution_count": 39,
   "metadata": {
    "Collapsed": "false"
   },
   "outputs": [
    {
     "name": "stdout",
     "output_type": "stream",
     "text": [
      "hei jeg \"kan\" Python\n"
     ]
    }
   ],
   "source": [
    "riktig = 'hei jeg \"kan\" Python'\n",
    "print(riktig)"
   ]
  },
  {
   "cell_type": "code",
   "execution_count": 40,
   "metadata": {
    "Collapsed": "false"
   },
   "outputs": [
    {
     "ename": "SyntaxError",
     "evalue": "invalid syntax (<ipython-input-40-3652effcb907>, line 1)",
     "output_type": "error",
     "traceback": [
      "\u001b[1;36m  File \u001b[1;32m\"<ipython-input-40-3652effcb907>\"\u001b[1;36m, line \u001b[1;32m1\u001b[0m\n\u001b[1;33m    feil = \"hei jeg \"kan\" python\"\u001b[0m\n\u001b[1;37m                       ^\u001b[0m\n\u001b[1;31mSyntaxError\u001b[0m\u001b[1;31m:\u001b[0m invalid syntax\n"
     ]
    }
   ],
   "source": [
    "feil = \"hei jeg \"kan\" python\"\n",
    "print(feil)"
   ]
  },
  {
   "cell_type": "markdown",
   "metadata": {
    "Collapsed": "false"
   },
   "source": [
    "Her ser vi at dersom vi ikke bruker forskjellige fnutter for å deffinere variabelen får vi en feilmelding da python tror at `\"hei jeg\"` og `\" python\"` er tekst strengen vi er interessert i, men den vet ikke hv den skal gjøre med **kan** da den står utefor tekst strengene. Da sier python at vi har brukt feil syntax."
   ]
  },
  {
   "cell_type": "code",
   "execution_count": null,
   "metadata": {
    "Collapsed": "false"
   },
   "outputs": [],
   "source": [
    "b = 40+2\n",
    "\n",
    "boolean1 = Integer == b\n",
    "print(boolean1)\n",
    "\n",
    "boolean2 = Integer == 45\n",
    "print(boolean2)"
   ]
  },
  {
   "cell_type": "markdown",
   "metadata": {
    "Collapsed": "false"
   },
   "source": [
    "I eksempelet over deffinerer vi en boolean variabel. Denne formen for variabel kan enten være sann (True) eller feil(False). for å lage en boolean variabel må vi sammenligne to elementer. Dette kan være to variabler du har deffinert tidligere som i `boolean1` en variabel og en verdi som i `boolean2`.\n",
    "\n",
    "I python som i SAS har vi boolske opperander disse funger på samme måte, men skrives forskejllig disse er:\n",
    "\n",
    "---------------------------------\n",
    "|Python|SAS|Betydning|\n",
    "|---|---|---|\n",
    "|==|EQ|er det samme som|\n",
    "|>|lt|mindre enn|\n",
    "|<|gt|større enn|\n",
    "|>=|le|mindre eller lik|\n",
    "|<=|ge|større eller lik|\n",
    "|!=|ne|ikke lik|\n",
    "\n",
    "\n"
   ]
  },
  {
   "cell_type": "code",
   "execution_count": null,
   "metadata": {
    "Collapsed": "false"
   },
   "outputs": [],
   "source": [
    "different_types = 'Hello world'== 42\n",
    "print(different_types)"
   ]
  },
  {
   "cell_type": "markdown",
   "metadata": {
    "Collapsed": "false"
   },
   "source": [
    "Vi ser at hvis vi sammenligner en tekst streng med ett tall så får vi ikke feilmelding, men vi får beskjed at de ikke er like"
   ]
  },
  {
   "cell_type": "code",
   "execution_count": null,
   "metadata": {
    "Collapsed": "false"
   },
   "outputs": [],
   "source": [
    "different_words = 'python is good' < 'Python is very usefull'\n",
    "print(different_words)"
   ]
  },
  {
   "cell_type": "markdown",
   "metadata": {
    "Collapsed": "false"
   },
   "source": [
    "Dette er interesant... når vi spørr om `Python is very usefull`er større enn `python is good` får vi `True`. Dette kommer av at den numeriske representasjonen av `python is good`er støre enn `python is very usefull`selv om teksten er lengre."
   ]
  },
  {
   "cell_type": "markdown",
   "metadata": {
    "Collapsed": "true"
   },
   "source": [
    "## Array / Lister\n",
    "\n",
    "Nå forlater vi de simple variablene, og begynner på mere komplkse objekter.\n",
    "En veldig vanlig form for objekt når man programerer i python er og lage lister, eller såkalte 'arrays' eller 'lists'.\n",
    "Dette er rett og slett en samling av flere elementer som skal tilskrives til en enkelt variabel. \n",
    "\n",
    "Den generelle formelen for og lage en liste er:\n",
    "\n",
    "`variabel_navn = [liste_element_1, liste_element_2, liste_element_3]`\n",
    "\n",
    "For ekempel en liste med navn. "
   ]
  },
  {
   "cell_type": "code",
   "execution_count": null,
   "metadata": {
    "Collapsed": "false"
   },
   "outputs": [],
   "source": [
    "navn = ['Ola', 'Per', 'Mona', 'Hilde']\n",
    "print(navn)"
   ]
  },
  {
   "cell_type": "markdown",
   "metadata": {
    "Collapsed": "false"
   },
   "source": [
    "De deffinerende markørene for at dette er en liste er `[]` som pakker inn listen og `,` som skiller ellementene i listen.\n",
    "\n",
    "Det er `[]`som spessifiserer når listen starter og når den slutter. Det spiller ingen rolle hvor mye \"Whitespace\" som er i listen, da den kunn ser etter `]` som slutt markør. Det betyr at dersom du har en lang liste finnes det en annen måte og skrive listen på."
   ]
  },
  {
   "cell_type": "code",
   "execution_count": null,
   "metadata": {
    "Collapsed": "false"
   },
   "outputs": [],
   "source": [
    "navn = ['Ola', \n",
    "        'Per', \n",
    "        'Mona', \n",
    "        'Hilde']\n",
    "\n",
    "print(navn)"
   ]
  },
  {
   "cell_type": "markdown",
   "metadata": {
    "Collapsed": "false"
   },
   "source": [
    "Når det kommer til hva som kan være innholdet i en liste, så er det ingen begrensninger. Alt som kan tilskrives som en variabel kan også være ett element i en liste:\n",
    "\n",
    "* Tall\n",
    "* Tekst\n",
    "* bollean tester\n",
    "* variabler\n",
    "* andre lister\n",
    "* datasett\n",
    "* kombinasjon av disse\n",
    "\n",
    "En av de store fordelene med lister er at disse har en index. Det vil si, hvert element har en fast possition, og vi kan finne ett gitt element basert på denne possitionen. I pyton så oppererer vi med 0-index. Det betyr at det første elementet i listen har index position 0.\n",
    "\n",
    "|index|navn|\n",
    "|---|---|\n",
    "|0|Ola|\n",
    "|1|Per|\n",
    "|2|Mona|\n",
    "|3|Hilde|\n",
    "\n",
    "Når vi skal hente ut ett bestemt element er formelen \n",
    "\n",
    "`liste_navn[index_position]`\n",
    "\n",
    "Dette kan selvfølgelig også tilskrives til en variabel som over"
   ]
  },
  {
   "cell_type": "code",
   "execution_count": 41,
   "metadata": {
    "Collapsed": "false"
   },
   "outputs": [
    {
     "data": {
      "text/plain": [
       "'Per'"
      ]
     },
     "execution_count": 41,
     "metadata": {},
     "output_type": "execute_result"
    }
   ],
   "source": [
    "navn[1]"
   ]
  },
  {
   "cell_type": "markdown",
   "metadata": {
    "Collapsed": "false"
   },
   "source": [
    "Vi kan også hente ut ett utsnitt av elementene i en liste.\n",
    "`liste_navn[fra_og_med_position : til_men_ikke_inkludert]`"
   ]
  },
  {
   "cell_type": "code",
   "execution_count": 42,
   "metadata": {
    "Collapsed": "false"
   },
   "outputs": [
    {
     "data": {
      "text/plain": [
       "['Per', 'Mona']"
      ]
     },
     "execution_count": 42,
     "metadata": {},
     "output_type": "execute_result"
    }
   ],
   "source": [
    "navn[1:3]"
   ]
  },
  {
   "cell_type": "markdown",
   "metadata": {
    "Collapsed": "false"
   },
   "source": [
    "Nå har det seg slik at vi ikke alltid har alle elementene tilgjenglig når vi deffinerer en liste. Da er det greit og kunne legge til ett element til en eksisterende liste. Dette gjøres ved funksjonen `.append(Nytt_element)`"
   ]
  },
  {
   "cell_type": "code",
   "execution_count": 43,
   "metadata": {
    "Collapsed": "false"
   },
   "outputs": [
    {
     "name": "stdout",
     "output_type": "stream",
     "text": [
      "['Ola', 'Per', 'Mona', 'Hilde', 'Hans', 'Hans', 'Hans']\n"
     ]
    }
   ],
   "source": [
    "navn.append('Hans')\n",
    "print(navn)"
   ]
  },
  {
   "cell_type": "markdown",
   "metadata": {
    "Collapsed": "false"
   },
   "source": [
    "## Dictionary / oppslagslister\n",
    "\n",
    "Dictionaries er lister som inneholder ett key : Value par. En måte og tenke på det er som en telefonkatalog der du kan slå opp på et navn og få ett telefon nummer i retur. Det brukes ofte i forbindelse med omkoding av verdier. \n",
    "\n",
    "Når vi skal deffinere en dictionary bruker vi `{}`på samme måte som for lister. Inni disse krøllete klammene så deffinerer vi key-value parene, disse skilles med et `:`. det gir den generelle formelen:\n",
    "\n",
    "`dictionary_name = {key1 : verdi1, key2 : verdi2}`\n"
   ]
  },
  {
   "cell_type": "code",
   "execution_count": 34,
   "metadata": {
    "Collapsed": "false"
   },
   "outputs": [
    {
     "name": "stdout",
     "output_type": "stream",
     "text": [
      "{'ola': 33, 'hanne': 55}\n"
     ]
    }
   ],
   "source": [
    "dictionary = {'hanne': 55, 'ola':33} "
   ]
  },
  {
   "cell_type": "markdown",
   "metadata": {
    "Collapsed": "false"
   },
   "source": [
    "Verdiene i dictionariene kan være alle mulige data objekter vi har snakket om her, inkludert lister, hele datasett eller andre lister. Det viktigste kravet og huske på er at `key:`verdien må være unik innenfor en liste. \n",
    "\n",
    "Skulle du definere opp en dictionary som inneholder 2 like key verdier så overskrives den slik at den sist definerte tilfelet blir bevart. \n",
    "\n",
    "Du kan tenke at bruken ad dictionary der du i SAS ville brukt Format\n",
    "\n",
    "\n",
    "Ønsker du og hente opp en verdi fra ett dictionary bruker vi funksjonen `dictionary_name.get(key)`"
   ]
  },
  {
   "cell_type": "code",
   "execution_count": null,
   "metadata": {
    "Collapsed": "false"
   },
   "outputs": [],
   "source": [
    "Bytgningstyper = {'111':'Enebolig',\n",
    "                  '112':'Enebolig med hybelleilighet, sokkelleilighet o.l.',\n",
    "                  '113':'Våningshus',\n",
    "                  '121':'Tomannsbolig, vertikaldelt',\n",
    "                  '122':'Tomannsbolig, horisontaldelt',\n",
    "                  '123':'Våningshus, tomannsbolig, vertikaldelt',\n",
    "                  '124':'Våningshus, tomannsbolig, horisontaldelt',\n",
    "                  '131':'Rekkehus',\n",
    "                  '133':'Kjedehus inkl. atriumhus',\n",
    "                  '135':'Terrassehus',\n",
    "                  '136':'Andre småhus med 3 boliger eller flere',\n",
    "                  '141':'Store frittliggende boligbygg på 2 etasjer',\n",
    "                  '142':'Store frittliggende boligbygg på 3 og 4 etasjer'}\n"
   ]
  },
  {
   "cell_type": "markdown",
   "metadata": {
    "Collapsed": "false"
   },
   "source": [
    "## DataFrames \n",
    "\n",
    "Den enkleste måten og tenke på en DataFrame er som ett SAS datasett.\n",
    "Vi var inne på mange av funksjonene og deffinisjonene til DataFrames når vi jobbet i session 1 og 2. Så her ser vi mere på noen pressiseringer ift. det vi dekket tidligere.\n",
    "\n",
    "### Innlasting av datasett\n",
    "\n",
    "I session 1 og 2 lagde vi DataFrames ved å laste inn en CSV fil. "
   ]
  },
  {
   "cell_type": "code",
   "execution_count": null,
   "metadata": {
    "Collapsed": "false"
   },
   "outputs": [],
   "source": []
  },
  {
   "cell_type": "markdown",
   "metadata": {
    "Collapsed": "false"
   },
   "source": [
    "# Loops\n",
    "\n",
    "## Introduksjon til loops"
   ]
  },
  {
   "cell_type": "markdown",
   "metadata": {
    "Collapsed": "false"
   },
   "source": [
    "## for loop"
   ]
  },
  {
   "cell_type": "code",
   "execution_count": null,
   "metadata": {
    "Collapsed": "false"
   },
   "outputs": [],
   "source": []
  },
  {
   "cell_type": "markdown",
   "metadata": {
    "Collapsed": "false"
   },
   "source": [
    "## while loop"
   ]
  },
  {
   "cell_type": "code",
   "execution_count": null,
   "metadata": {
    "Collapsed": "false"
   },
   "outputs": [],
   "source": []
  },
  {
   "cell_type": "markdown",
   "metadata": {
    "Collapsed": "false"
   },
   "source": [
    "# Funksjoner\n",
    "\n",
    "## Introdusjon til funksjoner"
   ]
  },
  {
   "cell_type": "code",
   "execution_count": null,
   "metadata": {
    "Collapsed": "false"
   },
   "outputs": [],
   "source": []
  },
  {
   "cell_type": "markdown",
   "metadata": {
    "Collapsed": "false"
   },
   "source": [
    "## Simple funksjoner"
   ]
  },
  {
   "cell_type": "code",
   "execution_count": null,
   "metadata": {
    "Collapsed": "false"
   },
   "outputs": [],
   "source": []
  },
  {
   "cell_type": "markdown",
   "metadata": {
    "Collapsed": "false"
   },
   "source": [
    "## Litt mere komplekse funksjoner"
   ]
  },
  {
   "cell_type": "code",
   "execution_count": null,
   "metadata": {
    "Collapsed": "false"
   },
   "outputs": [],
   "source": []
  },
  {
   "cell_type": "markdown",
   "metadata": {
    "Collapsed": "false"
   },
   "source": [
    "## Lambda funksjoner"
   ]
  },
  {
   "cell_type": "code",
   "execution_count": null,
   "metadata": {
    "Collapsed": "false"
   },
   "outputs": [],
   "source": []
  },
  {
   "cell_type": "markdown",
   "metadata": {
    "Collapsed": "false"
   },
   "source": [
    "## .apply()"
   ]
  },
  {
   "cell_type": "code",
   "execution_count": null,
   "metadata": {
    "Collapsed": "false"
   },
   "outputs": [],
   "source": []
  }
 ],
 "metadata": {
  "kernelspec": {
   "display_name": "Python 3",
   "language": "python",
   "name": "python3"
  },
  "language_info": {
   "codemirror_mode": {
    "name": "ipython",
    "version": 3
   },
   "file_extension": ".py",
   "mimetype": "text/x-python",
   "name": "python",
   "nbconvert_exporter": "python",
   "pygments_lexer": "ipython3",
   "version": "3.6.8"
  },
  "toc": {
   "base_numbering": 1,
   "nav_menu": {},
   "number_sections": true,
   "sideBar": true,
   "skip_h1_title": false,
   "title_cell": "Table of Contents",
   "title_sidebar": "Contents",
   "toc_cell": false,
   "toc_position": {},
   "toc_section_display": true,
   "toc_window_display": false
  },
  "varInspector": {
   "cols": {
    "lenName": 16,
    "lenType": 16,
    "lenVar": 40
   },
   "kernels_config": {
    "python": {
     "delete_cmd_postfix": "",
     "delete_cmd_prefix": "del ",
     "library": "var_list.py",
     "varRefreshCmd": "print(var_dic_list())"
    },
    "r": {
     "delete_cmd_postfix": ") ",
     "delete_cmd_prefix": "rm(",
     "library": "var_list.r",
     "varRefreshCmd": "cat(var_dic_list()) "
    }
   },
   "types_to_exclude": [
    "module",
    "function",
    "builtin_function_or_method",
    "instance",
    "_Feature"
   ],
   "window_display": false
  }
 },
 "nbformat": 4,
 "nbformat_minor": 4
}
